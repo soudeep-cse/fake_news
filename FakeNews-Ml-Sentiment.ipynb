{
  "cells": [
    {
      "cell_type": "code",
      "execution_count": 2,
      "metadata": {
        "colab": {
          "base_uri": "https://localhost:8080/"
        },
        "id": "l40ODWqYl_pn",
        "outputId": "d0991d04-371e-4a50-83e0-83c938569eb6"
      },
      "outputs": [
        {
          "output_type": "stream",
          "name": "stdout",
          "text": [
            "Mounted at /content/Drive\n"
          ]
        }
      ],
      "source": [
        "#Google Drive mounted\n",
        "from google.colab import drive\n",
        "drive.mount(\"/content/Drive\")"
      ]
    },
    {
      "cell_type": "code",
      "execution_count": 3,
      "metadata": {
        "id": "KYXrKYd7l_eR"
      },
      "outputs": [],
      "source": [
        "path1 = \"/content/Drive/MyDrive/Fake News Detection/Fake.csv\"\n",
        "path2 = \"/content/Drive/MyDrive/Fake News Detection/True.csv\""
      ]
    },
    {
      "cell_type": "code",
      "execution_count": 4,
      "metadata": {
        "id": "jM0uxCKIsPNt"
      },
      "outputs": [],
      "source": [
        "import pandas as pd\n",
        "import re\n",
        "import nltk\n",
        "from nltk.corpus import stopwords   #Remove words\n",
        "from nltk.stem.porter import PorterStemmer  #Return original word\n",
        "from sklearn.feature_extraction.text import TfidfVectorizer   #Feture extraction\n",
        "from sklearn.model_selection import train_test_split  #Train and test\n",
        "from sklearn.metrics import classification_report\n",
        "from sklearn.linear_model import *   #As binary classification\n",
        "from sklearn import svm\n",
        "from sklearn.naive_bayes import GaussianNB\n",
        "from sklearn.metrics import accuracy_score"
      ]
    },
    {
      "cell_type": "code",
      "execution_count": 5,
      "metadata": {
        "colab": {
          "base_uri": "https://localhost:8080/"
        },
        "id": "zC68E5-c0TKv",
        "outputId": "bda8b1ff-a77c-4d35-dabf-e023ee8a5c79"
      },
      "outputs": [
        {
          "output_type": "stream",
          "name": "stderr",
          "text": [
            "[nltk_data] Downloading package stopwords to /root/nltk_data...\n",
            "[nltk_data]   Unzipping corpora/stopwords.zip.\n"
          ]
        },
        {
          "output_type": "execute_result",
          "data": {
            "text/plain": [
              "True"
            ]
          },
          "metadata": {},
          "execution_count": 5
        }
      ],
      "source": [
        "nltk.download(\"stopwords\")"
      ]
    },
    {
      "cell_type": "code",
      "execution_count": 6,
      "metadata": {
        "colab": {
          "base_uri": "https://localhost:8080/"
        },
        "id": "E6FvTt790YXy",
        "outputId": "95308235-2560-44a6-cf6f-a37bc5c9c168"
      },
      "outputs": [
        {
          "output_type": "stream",
          "name": "stdout",
          "text": [
            "['i', 'me', 'my', 'myself', 'we', 'our', 'ours', 'ourselves', 'you', \"you're\", \"you've\", \"you'll\", \"you'd\", 'your', 'yours', 'yourself', 'yourselves', 'he', 'him', 'his', 'himself', 'she', \"she's\", 'her', 'hers', 'herself', 'it', \"it's\", 'its', 'itself', 'they', 'them', 'their', 'theirs', 'themselves', 'what', 'which', 'who', 'whom', 'this', 'that', \"that'll\", 'these', 'those', 'am', 'is', 'are', 'was', 'were', 'be', 'been', 'being', 'have', 'has', 'had', 'having', 'do', 'does', 'did', 'doing', 'a', 'an', 'the', 'and', 'but', 'if', 'or', 'because', 'as', 'until', 'while', 'of', 'at', 'by', 'for', 'with', 'about', 'against', 'between', 'into', 'through', 'during', 'before', 'after', 'above', 'below', 'to', 'from', 'up', 'down', 'in', 'out', 'on', 'off', 'over', 'under', 'again', 'further', 'then', 'once', 'here', 'there', 'when', 'where', 'why', 'how', 'all', 'any', 'both', 'each', 'few', 'more', 'most', 'other', 'some', 'such', 'no', 'nor', 'not', 'only', 'own', 'same', 'so', 'than', 'too', 'very', 's', 't', 'can', 'will', 'just', 'don', \"don't\", 'should', \"should've\", 'now', 'd', 'll', 'm', 'o', 're', 've', 'y', 'ain', 'aren', \"aren't\", 'couldn', \"couldn't\", 'didn', \"didn't\", 'doesn', \"doesn't\", 'hadn', \"hadn't\", 'hasn', \"hasn't\", 'haven', \"haven't\", 'isn', \"isn't\", 'ma', 'mightn', \"mightn't\", 'mustn', \"mustn't\", 'needn', \"needn't\", 'shan', \"shan't\", 'shouldn', \"shouldn't\", 'wasn', \"wasn't\", 'weren', \"weren't\", 'won', \"won't\", 'wouldn', \"wouldn't\"]\n"
          ]
        }
      ],
      "source": [
        "print(stopwords.words(\"english\"))"
      ]
    },
    {
      "cell_type": "code",
      "execution_count": 7,
      "metadata": {
        "id": "bpoBBQ5hsW3n"
      },
      "outputs": [],
      "source": [
        "df_fake = pd.read_csv(path1)\n",
        "df_true = pd.read_csv(path2)"
      ]
    },
    {
      "cell_type": "code",
      "execution_count": 8,
      "metadata": {
        "colab": {
          "base_uri": "https://localhost:8080/"
        },
        "id": "fDdlLO5jsW6S",
        "outputId": "a9a1fd7c-f4e6-4bcb-d919-bbec9e745bad"
      },
      "outputs": [
        {
          "output_type": "stream",
          "name": "stdout",
          "text": [
            "(23481, 4)\n",
            "(21417, 4)\n"
          ]
        }
      ],
      "source": [
        "print(df_fake.shape)\n",
        "print(df_true.shape)"
      ]
    },
    {
      "cell_type": "code",
      "source": [
        "df_fakes=df_fake.sample(n=500)"
      ],
      "metadata": {
        "id": "W9nRv55lhJ1z"
      },
      "execution_count": 9,
      "outputs": []
    },
    {
      "cell_type": "code",
      "source": [
        "df_trues=df_true.sample(n=500)"
      ],
      "metadata": {
        "id": "O-gJd-N6hK83"
      },
      "execution_count": 10,
      "outputs": []
    },
    {
      "cell_type": "code",
      "source": [
        "df_fakes.shape"
      ],
      "metadata": {
        "id": "OSDW_bFAhKtF",
        "colab": {
          "base_uri": "https://localhost:8080/"
        },
        "outputId": "4a1e1af6-9f90-4e44-ece2-cdcbd5974e9e"
      },
      "execution_count": 11,
      "outputs": [
        {
          "output_type": "execute_result",
          "data": {
            "text/plain": [
              "(500, 4)"
            ]
          },
          "metadata": {},
          "execution_count": 11
        }
      ]
    },
    {
      "cell_type": "code",
      "source": [
        "df_trues.shape"
      ],
      "metadata": {
        "colab": {
          "base_uri": "https://localhost:8080/"
        },
        "id": "Bkqwruv5hrz7",
        "outputId": "a87fe49f-f011-493b-a53a-19fa8c6b12bf"
      },
      "execution_count": 12,
      "outputs": [
        {
          "output_type": "execute_result",
          "data": {
            "text/plain": [
              "(500, 4)"
            ]
          },
          "metadata": {},
          "execution_count": 12
        }
      ]
    },
    {
      "cell_type": "code",
      "execution_count": 13,
      "metadata": {
        "colab": {
          "base_uri": "https://localhost:8080/"
        },
        "id": "JY5fSNtzy9jW",
        "outputId": "99a8c60d-b5b6-472c-fb6a-e94fae296891"
      },
      "outputs": [
        {
          "output_type": "execute_result",
          "data": {
            "text/plain": [
              "title      0\n",
              "text       0\n",
              "subject    0\n",
              "date       0\n",
              "dtype: int64"
            ]
          },
          "metadata": {},
          "execution_count": 13
        }
      ],
      "source": [
        "df_fakes.isnull().sum()"
      ]
    },
    {
      "cell_type": "code",
      "execution_count": 14,
      "metadata": {
        "colab": {
          "base_uri": "https://localhost:8080/"
        },
        "id": "dn_GuUapy9f-",
        "outputId": "24d8e592-2026-4ba7-cfae-9770e1fba752"
      },
      "outputs": [
        {
          "output_type": "execute_result",
          "data": {
            "text/plain": [
              "title      0\n",
              "text       0\n",
              "subject    0\n",
              "date       0\n",
              "dtype: int64"
            ]
          },
          "metadata": {},
          "execution_count": 14
        }
      ],
      "source": [
        "df_trues.isnull().sum()"
      ]
    },
    {
      "cell_type": "code",
      "execution_count": 15,
      "metadata": {
        "colab": {
          "base_uri": "https://localhost:8080/"
        },
        "id": "3H0Yc_1wzWON",
        "outputId": "8208e3eb-ff68-4ad3-fee7-fec932af70f3"
      },
      "outputs": [
        {
          "output_type": "stream",
          "name": "stdout",
          "text": [
            "<class 'pandas.core.frame.DataFrame'>\n",
            "Index: 500 entries, 11533 to 2403\n",
            "Data columns (total 4 columns):\n",
            " #   Column   Non-Null Count  Dtype \n",
            "---  ------   --------------  ----- \n",
            " 0   title    500 non-null    object\n",
            " 1   text     500 non-null    object\n",
            " 2   subject  500 non-null    object\n",
            " 3   date     500 non-null    object\n",
            "dtypes: object(4)\n",
            "memory usage: 19.5+ KB\n"
          ]
        }
      ],
      "source": [
        "df_fakes.info()"
      ]
    },
    {
      "cell_type": "code",
      "execution_count": 16,
      "metadata": {
        "colab": {
          "base_uri": "https://localhost:8080/",
          "height": 206
        },
        "id": "9gXBMnhjsW86",
        "outputId": "0b5a93b8-c664-4c67-c410-849420bd39cc"
      },
      "outputs": [
        {
          "output_type": "execute_result",
          "data": {
            "text/plain": [
              "                                                   title  \\\n",
              "11533  WATCH SOUR GRAPES NANCY PELOSI Refuse to Stand...   \n",
              "17974  LOL! New York Times Publishes Lengthy Article ...   \n",
              "4807    There Was Something Weird About Trump’s Hair ...   \n",
              "11312  THIS ISN’T OBAMA’S AMERICA ANYMORE! Women’s Ma...   \n",
              "13717  The “Brown” The Media Wont’ Cover Because He W...   \n",
              "\n",
              "                                                    text    subject  \\\n",
              "11533                                                      politics   \n",
              "17974  While Facebook has hired an entire team of emp...  left-news   \n",
              "4807   Boy, wasn t Wednesday an embarrassing day for ...       News   \n",
              "11312  Convicted  Palestinian  terrorist and leader o...   politics   \n",
              "13717  If his name was Michael Brown if he robbed a l...   politics   \n",
              "\n",
              "                    date  \n",
              "11533        Mar 1, 2017  \n",
              "17974       Sep 14, 2017  \n",
              "4807   September 1, 2016  \n",
              "11312       Mar 24, 2017  \n",
              "13717       Jun 10, 2016  "
            ],
            "text/html": [
              "\n",
              "  <div id=\"df-9c467acb-0b52-4c25-9621-4dd306754f5f\" class=\"colab-df-container\">\n",
              "    <div>\n",
              "<style scoped>\n",
              "    .dataframe tbody tr th:only-of-type {\n",
              "        vertical-align: middle;\n",
              "    }\n",
              "\n",
              "    .dataframe tbody tr th {\n",
              "        vertical-align: top;\n",
              "    }\n",
              "\n",
              "    .dataframe thead th {\n",
              "        text-align: right;\n",
              "    }\n",
              "</style>\n",
              "<table border=\"1\" class=\"dataframe\">\n",
              "  <thead>\n",
              "    <tr style=\"text-align: right;\">\n",
              "      <th></th>\n",
              "      <th>title</th>\n",
              "      <th>text</th>\n",
              "      <th>subject</th>\n",
              "      <th>date</th>\n",
              "    </tr>\n",
              "  </thead>\n",
              "  <tbody>\n",
              "    <tr>\n",
              "      <th>11533</th>\n",
              "      <td>WATCH SOUR GRAPES NANCY PELOSI Refuse to Stand...</td>\n",
              "      <td></td>\n",
              "      <td>politics</td>\n",
              "      <td>Mar 1, 2017</td>\n",
              "    </tr>\n",
              "    <tr>\n",
              "      <th>17974</th>\n",
              "      <td>LOL! New York Times Publishes Lengthy Article ...</td>\n",
              "      <td>While Facebook has hired an entire team of emp...</td>\n",
              "      <td>left-news</td>\n",
              "      <td>Sep 14, 2017</td>\n",
              "    </tr>\n",
              "    <tr>\n",
              "      <th>4807</th>\n",
              "      <td>There Was Something Weird About Trump’s Hair ...</td>\n",
              "      <td>Boy, wasn t Wednesday an embarrassing day for ...</td>\n",
              "      <td>News</td>\n",
              "      <td>September 1, 2016</td>\n",
              "    </tr>\n",
              "    <tr>\n",
              "      <th>11312</th>\n",
              "      <td>THIS ISN’T OBAMA’S AMERICA ANYMORE! Women’s Ma...</td>\n",
              "      <td>Convicted  Palestinian  terrorist and leader o...</td>\n",
              "      <td>politics</td>\n",
              "      <td>Mar 24, 2017</td>\n",
              "    </tr>\n",
              "    <tr>\n",
              "      <th>13717</th>\n",
              "      <td>The “Brown” The Media Wont’ Cover Because He W...</td>\n",
              "      <td>If his name was Michael Brown if he robbed a l...</td>\n",
              "      <td>politics</td>\n",
              "      <td>Jun 10, 2016</td>\n",
              "    </tr>\n",
              "  </tbody>\n",
              "</table>\n",
              "</div>\n",
              "    <div class=\"colab-df-buttons\">\n",
              "\n",
              "  <div class=\"colab-df-container\">\n",
              "    <button class=\"colab-df-convert\" onclick=\"convertToInteractive('df-9c467acb-0b52-4c25-9621-4dd306754f5f')\"\n",
              "            title=\"Convert this dataframe to an interactive table.\"\n",
              "            style=\"display:none;\">\n",
              "\n",
              "  <svg xmlns=\"http://www.w3.org/2000/svg\" height=\"24px\" viewBox=\"0 -960 960 960\">\n",
              "    <path d=\"M120-120v-720h720v720H120Zm60-500h600v-160H180v160Zm220 220h160v-160H400v160Zm0 220h160v-160H400v160ZM180-400h160v-160H180v160Zm440 0h160v-160H620v160ZM180-180h160v-160H180v160Zm440 0h160v-160H620v160Z\"/>\n",
              "  </svg>\n",
              "    </button>\n",
              "\n",
              "  <style>\n",
              "    .colab-df-container {\n",
              "      display:flex;\n",
              "      gap: 12px;\n",
              "    }\n",
              "\n",
              "    .colab-df-convert {\n",
              "      background-color: #E8F0FE;\n",
              "      border: none;\n",
              "      border-radius: 50%;\n",
              "      cursor: pointer;\n",
              "      display: none;\n",
              "      fill: #1967D2;\n",
              "      height: 32px;\n",
              "      padding: 0 0 0 0;\n",
              "      width: 32px;\n",
              "    }\n",
              "\n",
              "    .colab-df-convert:hover {\n",
              "      background-color: #E2EBFA;\n",
              "      box-shadow: 0px 1px 2px rgba(60, 64, 67, 0.3), 0px 1px 3px 1px rgba(60, 64, 67, 0.15);\n",
              "      fill: #174EA6;\n",
              "    }\n",
              "\n",
              "    .colab-df-buttons div {\n",
              "      margin-bottom: 4px;\n",
              "    }\n",
              "\n",
              "    [theme=dark] .colab-df-convert {\n",
              "      background-color: #3B4455;\n",
              "      fill: #D2E3FC;\n",
              "    }\n",
              "\n",
              "    [theme=dark] .colab-df-convert:hover {\n",
              "      background-color: #434B5C;\n",
              "      box-shadow: 0px 1px 3px 1px rgba(0, 0, 0, 0.15);\n",
              "      filter: drop-shadow(0px 1px 2px rgba(0, 0, 0, 0.3));\n",
              "      fill: #FFFFFF;\n",
              "    }\n",
              "  </style>\n",
              "\n",
              "    <script>\n",
              "      const buttonEl =\n",
              "        document.querySelector('#df-9c467acb-0b52-4c25-9621-4dd306754f5f button.colab-df-convert');\n",
              "      buttonEl.style.display =\n",
              "        google.colab.kernel.accessAllowed ? 'block' : 'none';\n",
              "\n",
              "      async function convertToInteractive(key) {\n",
              "        const element = document.querySelector('#df-9c467acb-0b52-4c25-9621-4dd306754f5f');\n",
              "        const dataTable =\n",
              "          await google.colab.kernel.invokeFunction('convertToInteractive',\n",
              "                                                    [key], {});\n",
              "        if (!dataTable) return;\n",
              "\n",
              "        const docLinkHtml = 'Like what you see? Visit the ' +\n",
              "          '<a target=\"_blank\" href=https://colab.research.google.com/notebooks/data_table.ipynb>data table notebook</a>'\n",
              "          + ' to learn more about interactive tables.';\n",
              "        element.innerHTML = '';\n",
              "        dataTable['output_type'] = 'display_data';\n",
              "        await google.colab.output.renderOutput(dataTable, element);\n",
              "        const docLink = document.createElement('div');\n",
              "        docLink.innerHTML = docLinkHtml;\n",
              "        element.appendChild(docLink);\n",
              "      }\n",
              "    </script>\n",
              "  </div>\n",
              "\n",
              "\n",
              "<div id=\"df-bf2723f7-9af6-4da7-8fb7-e8f6978f019a\">\n",
              "  <button class=\"colab-df-quickchart\" onclick=\"quickchart('df-bf2723f7-9af6-4da7-8fb7-e8f6978f019a')\"\n",
              "            title=\"Suggest charts\"\n",
              "            style=\"display:none;\">\n",
              "\n",
              "<svg xmlns=\"http://www.w3.org/2000/svg\" height=\"24px\"viewBox=\"0 0 24 24\"\n",
              "     width=\"24px\">\n",
              "    <g>\n",
              "        <path d=\"M19 3H5c-1.1 0-2 .9-2 2v14c0 1.1.9 2 2 2h14c1.1 0 2-.9 2-2V5c0-1.1-.9-2-2-2zM9 17H7v-7h2v7zm4 0h-2V7h2v10zm4 0h-2v-4h2v4z\"/>\n",
              "    </g>\n",
              "</svg>\n",
              "  </button>\n",
              "\n",
              "<style>\n",
              "  .colab-df-quickchart {\n",
              "      --bg-color: #E8F0FE;\n",
              "      --fill-color: #1967D2;\n",
              "      --hover-bg-color: #E2EBFA;\n",
              "      --hover-fill-color: #174EA6;\n",
              "      --disabled-fill-color: #AAA;\n",
              "      --disabled-bg-color: #DDD;\n",
              "  }\n",
              "\n",
              "  [theme=dark] .colab-df-quickchart {\n",
              "      --bg-color: #3B4455;\n",
              "      --fill-color: #D2E3FC;\n",
              "      --hover-bg-color: #434B5C;\n",
              "      --hover-fill-color: #FFFFFF;\n",
              "      --disabled-bg-color: #3B4455;\n",
              "      --disabled-fill-color: #666;\n",
              "  }\n",
              "\n",
              "  .colab-df-quickchart {\n",
              "    background-color: var(--bg-color);\n",
              "    border: none;\n",
              "    border-radius: 50%;\n",
              "    cursor: pointer;\n",
              "    display: none;\n",
              "    fill: var(--fill-color);\n",
              "    height: 32px;\n",
              "    padding: 0;\n",
              "    width: 32px;\n",
              "  }\n",
              "\n",
              "  .colab-df-quickchart:hover {\n",
              "    background-color: var(--hover-bg-color);\n",
              "    box-shadow: 0 1px 2px rgba(60, 64, 67, 0.3), 0 1px 3px 1px rgba(60, 64, 67, 0.15);\n",
              "    fill: var(--button-hover-fill-color);\n",
              "  }\n",
              "\n",
              "  .colab-df-quickchart-complete:disabled,\n",
              "  .colab-df-quickchart-complete:disabled:hover {\n",
              "    background-color: var(--disabled-bg-color);\n",
              "    fill: var(--disabled-fill-color);\n",
              "    box-shadow: none;\n",
              "  }\n",
              "\n",
              "  .colab-df-spinner {\n",
              "    border: 2px solid var(--fill-color);\n",
              "    border-color: transparent;\n",
              "    border-bottom-color: var(--fill-color);\n",
              "    animation:\n",
              "      spin 1s steps(1) infinite;\n",
              "  }\n",
              "\n",
              "  @keyframes spin {\n",
              "    0% {\n",
              "      border-color: transparent;\n",
              "      border-bottom-color: var(--fill-color);\n",
              "      border-left-color: var(--fill-color);\n",
              "    }\n",
              "    20% {\n",
              "      border-color: transparent;\n",
              "      border-left-color: var(--fill-color);\n",
              "      border-top-color: var(--fill-color);\n",
              "    }\n",
              "    30% {\n",
              "      border-color: transparent;\n",
              "      border-left-color: var(--fill-color);\n",
              "      border-top-color: var(--fill-color);\n",
              "      border-right-color: var(--fill-color);\n",
              "    }\n",
              "    40% {\n",
              "      border-color: transparent;\n",
              "      border-right-color: var(--fill-color);\n",
              "      border-top-color: var(--fill-color);\n",
              "    }\n",
              "    60% {\n",
              "      border-color: transparent;\n",
              "      border-right-color: var(--fill-color);\n",
              "    }\n",
              "    80% {\n",
              "      border-color: transparent;\n",
              "      border-right-color: var(--fill-color);\n",
              "      border-bottom-color: var(--fill-color);\n",
              "    }\n",
              "    90% {\n",
              "      border-color: transparent;\n",
              "      border-bottom-color: var(--fill-color);\n",
              "    }\n",
              "  }\n",
              "</style>\n",
              "\n",
              "  <script>\n",
              "    async function quickchart(key) {\n",
              "      const quickchartButtonEl =\n",
              "        document.querySelector('#' + key + ' button');\n",
              "      quickchartButtonEl.disabled = true;  // To prevent multiple clicks.\n",
              "      quickchartButtonEl.classList.add('colab-df-spinner');\n",
              "      try {\n",
              "        const charts = await google.colab.kernel.invokeFunction(\n",
              "            'suggestCharts', [key], {});\n",
              "      } catch (error) {\n",
              "        console.error('Error during call to suggestCharts:', error);\n",
              "      }\n",
              "      quickchartButtonEl.classList.remove('colab-df-spinner');\n",
              "      quickchartButtonEl.classList.add('colab-df-quickchart-complete');\n",
              "    }\n",
              "    (() => {\n",
              "      let quickchartButtonEl =\n",
              "        document.querySelector('#df-bf2723f7-9af6-4da7-8fb7-e8f6978f019a button');\n",
              "      quickchartButtonEl.style.display =\n",
              "        google.colab.kernel.accessAllowed ? 'block' : 'none';\n",
              "    })();\n",
              "  </script>\n",
              "</div>\n",
              "\n",
              "    </div>\n",
              "  </div>\n"
            ],
            "application/vnd.google.colaboratory.intrinsic+json": {
              "type": "dataframe",
              "variable_name": "df_fakes",
              "summary": "{\n  \"name\": \"df_fakes\",\n  \"rows\": 500,\n  \"fields\": [\n    {\n      \"column\": \"title\",\n      \"properties\": {\n        \"dtype\": \"string\",\n        \"num_unique_values\": 500,\n        \"samples\": [\n          \" Former Republican Senator Endorses Hillary Clinton After Orlando Shooting\",\n          \" Dan Rather Brilliantly Rips Trump\\u2019s Lawless Week In SCATHING Facebook Post\",\n          \"WAKE UP AMERICA! SOMALI CANDIDATES IN MINNESOTA Only Speak In Somali At Caucus\\u2026Guess Who They\\u2019re Voting For [Video]\"\n        ],\n        \"semantic_type\": \"\",\n        \"description\": \"\"\n      }\n    },\n    {\n      \"column\": \"text\",\n      \"properties\": {\n        \"dtype\": \"string\",\n        \"num_unique_values\": 486,\n        \"samples\": [\n          \"In case you just woke up, the United States is now at war with Syria. It was waged without congressional approval and by a man who ran on a platform of isolationism. Now, his isolationist followers are pissed.It doesn t help that the favorite conspiracy theorist of Trump and his followers called the Assad attack on his own people a  false flag  designed to take us to war. According to his followers, Trump fell for it, hook, line and sinker. Or, he was lying to them all along.The Trump of weeks past was firmly against any action in Syria. He even accused President Obama of wanting to wage war in Syria over falling poll numbers. Now that Trump s poll numbers are in a complete tailspin, he desperately attacked Syria.Now that Obama s poll numbers are in tailspin   watch for him to launch a strike in Libya or Iran. He is desperate.  Donald J. Trump (@realDonaldTrump) October 9, 2012He also said that Obama would have had to get congressional approval. Obama tried to, but Trump didn t.The President must get Congressional approval before attacking Syria-big mistake if he does not!  Donald J. Trump (@realDonaldTrump) August 30, 2013Now that the man who s proven himself to have zero principles is occupying the White House, his rules have changed, but his supporters  haven t. They feel duped.Deep State really pushing for a conflict with Russia. The desperation for a war is unreal. #SyriaHoax #StopWW3 #SyriaStrikes https://t.co/qjQplDt95u  ?/K/aitilyn? (@kitty_Kaiti) April 7, 2017I think you should worry more about draining the swamp than getting America into new wars. #SyriaStrikes #SyriaHoax @realDonaldTrump pic.twitter.com/gcHbeikEHf  Jody Paulson (@JodyPaulson) April 7, 2017John McCain is far more of a threat to this country than Bashar al-Assad could ever be. #SyriaHoax  Virginia Dare (@vdare) April 7, 2017Trump Told Us For Years to  Not Bomb Syria >Help Elect Trump >Trump Bombs SyriaWhy Do I Even Bother? #SyriaStrikes #SyriaHoax pic.twitter.com/ioLuvfLfMY  Battle Beagle (@HarmlessYardDog) April 7, 2017.@realDonaldTrumpPeople voted for you to stop the 3rd world invasion & to MAGA   not for more neocon wars. Kushner is poison#SyriaHoax  Gregory Montfort (@GregMontfort) April 7, 2017Sad day for the millions of Americans who voted @realDonaldTrump because they didn t want Hillary s wars. Sad day for humanity #SyriaHoax  Ozreality media (@ozrealitymedia) April 7, 2017From a Vet to @POTUS 1.) Focus on infrastructure 2.) Focus on American jobs 3.) Focus on the homeland its what you ran on #SyriaHoax  Based Monitored ?? (@BasedMonitored) April 7, 2017At least it s encouraging that people are beginning to see through Trump s shallow attempt at regaining popularity, but there s little doubt that his approval numbers will rise after the attack, just because so many Americans love war.Featured image via Mark Wilson/Getty Images.\",\n          \"Hardcore, unconventional, conservative and badass artist  Sabo  has been taking his message to the streets for several years. I had a lengthy phone conversation with him last year and after I hung up the phone, I had the same kind of feeling I had after meeting Andrew Breitbart. Like Andrew Breitbart, Sabo s not fighting a conventional war against the left, he s studied them, he knows the dirty tactics they use to win and he s determined to beat them at their own game, even if it means shocking a few Americans along the way. Sabo never got to meet Andrew Breitbart, but always wanted to, as he recalls here:Now a thing about me was I d spent a good three years trying to get sober. In that time I did everything I could to stay the hell away from politics. It was the most peaceful three years of my life. Unfortunately during those three years guys like Glenn Beck and Andrew Breitbart were really picking up steam. So, because of my absence from the political scene I didn t really know much about them. And what little I did know about Glenn Beck I didn t really like. I remember friends would try turning me on to him but I wasn t into his delivery, too loud, too passionate. Not my deal. Sadly Andrew passed away about the time I decided to get back into the political fray. I never had the privilege to meet him. Everyone says we d of really gotten along. I did however get to meet his crew and they were all stand up people.Glenn Beck interviewed Sabo in 2015 when he was still keeping his face hidden from the public:  One of Sabo s most popular pieces of work was his badass representation of Ted Cruz who he wholeheartedly supported for President.During the campaign, Sabo came after Hillary and Bernie Sanders pretty hard. He focused on plastering his hard-hitting posters in areas where fundraisers or events for Bernie or Hillary were taking place. Sabo wanted to make sure the American public saw Hillary as he saw Hillary:It took him a while to come around to Donald Trump, but eventually he did.Sabo s controversial artwork can be found on posters, t-shirts and bumper stickers at his online store: unsavoryagents.com Here s a video of Sabo replacing a sign in a park bench in LA with his own unique printed message. Notice the guy smoking a crack pipe on the bench the entire time.In 2014, Sabo got a little visit from the Secret Service over his  controversial  posts on Twitter. He certainly didn t handle the interview in the way most Americans would have.:Sabo will be on FOX News  Tucker Carlson show tonight at 9 pm EST. He ll likely discuss the artwork that he plastered all over LA in advance of the Oscars last night.Here are a few of the posters liberal actors found when they arrived on the red carpet.   We can promise you one thing it won t be an interview you ll want to miss \",\n          \"The most infamous characters from Donald Trump s administration are resurfacing and coming back to haunt him. Just a few days ago, former White House Press Secretary Sean Spicer made an appearance at the Emmys to mock his old boss, and now former White House Communications Director Anthony Scaramucci has made a television appearance as well. Basically, Trump should be terrified if this keeps happening.Anthony Scaramucci s short-lived role in the White House was pure insanity for the entirety of its 11 days. From day one, he became polarizing and controversial, causing several actors to rush at the opportunity to imitate him   including comedian Mario Cantone, who became known for his perfect impersonation of  the Mooch.  Little did Scaramucci know, his memorable time as Communications Director would come back to bite him in the a**.On Friday, Scaramucci appeared on The View, where he was suddenly confronted with a surprise appearance by Cantone, who called Scaramucci his doppelg nger.  Cantone sat right next to Scaramucci and said: Look at this guy! He s my doppelg nger! Scaramucci was more than uncomfortable and tried to get Cantone to stop imitating him by asking semi-serious questions. Scaramucci asked: How bummed were you when I was fired? You were on your way. And then you got shot like a little bird and hit the water. You had to be bummed. Unfortunately for the Mooch, Cantone continued to imitate him and landed this epic diss: You re lucky you re here. You got nothing. Spicer got the EMMYs. You re sitting here with four bleeding heart chiacchierones. Scaramucci tried to be a good sport for the rest of the show, but he was visibly irked by Cantone s portrayal of him as he spoke about his time as Communications Director.You can watch Scaramucci hate every second of this surprise appearance below:Featured image via Chip Somodevilla / Getty Images\"\n        ],\n        \"semantic_type\": \"\",\n        \"description\": \"\"\n      }\n    },\n    {\n      \"column\": \"subject\",\n      \"properties\": {\n        \"dtype\": \"category\",\n        \"num_unique_values\": 6,\n        \"samples\": [\n          \"politics\",\n          \"left-news\",\n          \"Middle-east\"\n        ],\n        \"semantic_type\": \"\",\n        \"description\": \"\"\n      }\n    },\n    {\n      \"column\": \"date\",\n      \"properties\": {\n        \"dtype\": \"string\",\n        \"num_unique_values\": 434,\n        \"samples\": [\n          \"May 9, 2016\",\n          \"July 24, 2016\",\n          \"September 11, 2017\"\n        ],\n        \"semantic_type\": \"\",\n        \"description\": \"\"\n      }\n    }\n  ]\n}"
            }
          },
          "metadata": {},
          "execution_count": 16
        }
      ],
      "source": [
        "df_fakes.head()"
      ]
    },
    {
      "cell_type": "code",
      "execution_count": 17,
      "metadata": {
        "colab": {
          "base_uri": "https://localhost:8080/",
          "height": 206
        },
        "id": "RjW3TdcwsW_z",
        "outputId": "92801c5b-5561-4eb2-feee-898bfa33329f"
      },
      "outputs": [
        {
          "output_type": "execute_result",
          "data": {
            "text/plain": [
              "                                                   title  \\\n",
              "10619  Clinton wins big in South Carolina on way to '...   \n",
              "4888   Trump vows appeal up to Supreme Court after lo...   \n",
              "2612   Trump talks pardons amid probes of Russia role...   \n",
              "14791  China corruption could lead to Soviet-style co...   \n",
              "13492          Passenger train derails in Spain, 21 hurt   \n",
              "\n",
              "                                                    text       subject  \\\n",
              "10619  COLUMBIA, S.C. (Reuters) - U.S. Democratic pre...  politicsNews   \n",
              "4888   HONOLULU/NEW YORK (Reuters) - A defiant Presid...  politicsNews   \n",
              "2612   NORFOLK, Va. (Reuters) - U.S. President Donald...  politicsNews   \n",
              "14791  BEIJING (Reuters) - China must step up its bat...     worldnews   \n",
              "13492  MADRID (Reuters) - A passenger train derailed ...     worldnews   \n",
              "\n",
              "                     date  \n",
              "10619  February 27, 2016   \n",
              "4888      March 16, 2017   \n",
              "2612       July 22, 2017   \n",
              "14791  November 15, 2017   \n",
              "13492  November 29, 2017   "
            ],
            "text/html": [
              "\n",
              "  <div id=\"df-02f532a2-92bc-43e5-9f28-6987942050e0\" class=\"colab-df-container\">\n",
              "    <div>\n",
              "<style scoped>\n",
              "    .dataframe tbody tr th:only-of-type {\n",
              "        vertical-align: middle;\n",
              "    }\n",
              "\n",
              "    .dataframe tbody tr th {\n",
              "        vertical-align: top;\n",
              "    }\n",
              "\n",
              "    .dataframe thead th {\n",
              "        text-align: right;\n",
              "    }\n",
              "</style>\n",
              "<table border=\"1\" class=\"dataframe\">\n",
              "  <thead>\n",
              "    <tr style=\"text-align: right;\">\n",
              "      <th></th>\n",
              "      <th>title</th>\n",
              "      <th>text</th>\n",
              "      <th>subject</th>\n",
              "      <th>date</th>\n",
              "    </tr>\n",
              "  </thead>\n",
              "  <tbody>\n",
              "    <tr>\n",
              "      <th>10619</th>\n",
              "      <td>Clinton wins big in South Carolina on way to '...</td>\n",
              "      <td>COLUMBIA, S.C. (Reuters) - U.S. Democratic pre...</td>\n",
              "      <td>politicsNews</td>\n",
              "      <td>February 27, 2016</td>\n",
              "    </tr>\n",
              "    <tr>\n",
              "      <th>4888</th>\n",
              "      <td>Trump vows appeal up to Supreme Court after lo...</td>\n",
              "      <td>HONOLULU/NEW YORK (Reuters) - A defiant Presid...</td>\n",
              "      <td>politicsNews</td>\n",
              "      <td>March 16, 2017</td>\n",
              "    </tr>\n",
              "    <tr>\n",
              "      <th>2612</th>\n",
              "      <td>Trump talks pardons amid probes of Russia role...</td>\n",
              "      <td>NORFOLK, Va. (Reuters) - U.S. President Donald...</td>\n",
              "      <td>politicsNews</td>\n",
              "      <td>July 22, 2017</td>\n",
              "    </tr>\n",
              "    <tr>\n",
              "      <th>14791</th>\n",
              "      <td>China corruption could lead to Soviet-style co...</td>\n",
              "      <td>BEIJING (Reuters) - China must step up its bat...</td>\n",
              "      <td>worldnews</td>\n",
              "      <td>November 15, 2017</td>\n",
              "    </tr>\n",
              "    <tr>\n",
              "      <th>13492</th>\n",
              "      <td>Passenger train derails in Spain, 21 hurt</td>\n",
              "      <td>MADRID (Reuters) - A passenger train derailed ...</td>\n",
              "      <td>worldnews</td>\n",
              "      <td>November 29, 2017</td>\n",
              "    </tr>\n",
              "  </tbody>\n",
              "</table>\n",
              "</div>\n",
              "    <div class=\"colab-df-buttons\">\n",
              "\n",
              "  <div class=\"colab-df-container\">\n",
              "    <button class=\"colab-df-convert\" onclick=\"convertToInteractive('df-02f532a2-92bc-43e5-9f28-6987942050e0')\"\n",
              "            title=\"Convert this dataframe to an interactive table.\"\n",
              "            style=\"display:none;\">\n",
              "\n",
              "  <svg xmlns=\"http://www.w3.org/2000/svg\" height=\"24px\" viewBox=\"0 -960 960 960\">\n",
              "    <path d=\"M120-120v-720h720v720H120Zm60-500h600v-160H180v160Zm220 220h160v-160H400v160Zm0 220h160v-160H400v160ZM180-400h160v-160H180v160Zm440 0h160v-160H620v160ZM180-180h160v-160H180v160Zm440 0h160v-160H620v160Z\"/>\n",
              "  </svg>\n",
              "    </button>\n",
              "\n",
              "  <style>\n",
              "    .colab-df-container {\n",
              "      display:flex;\n",
              "      gap: 12px;\n",
              "    }\n",
              "\n",
              "    .colab-df-convert {\n",
              "      background-color: #E8F0FE;\n",
              "      border: none;\n",
              "      border-radius: 50%;\n",
              "      cursor: pointer;\n",
              "      display: none;\n",
              "      fill: #1967D2;\n",
              "      height: 32px;\n",
              "      padding: 0 0 0 0;\n",
              "      width: 32px;\n",
              "    }\n",
              "\n",
              "    .colab-df-convert:hover {\n",
              "      background-color: #E2EBFA;\n",
              "      box-shadow: 0px 1px 2px rgba(60, 64, 67, 0.3), 0px 1px 3px 1px rgba(60, 64, 67, 0.15);\n",
              "      fill: #174EA6;\n",
              "    }\n",
              "\n",
              "    .colab-df-buttons div {\n",
              "      margin-bottom: 4px;\n",
              "    }\n",
              "\n",
              "    [theme=dark] .colab-df-convert {\n",
              "      background-color: #3B4455;\n",
              "      fill: #D2E3FC;\n",
              "    }\n",
              "\n",
              "    [theme=dark] .colab-df-convert:hover {\n",
              "      background-color: #434B5C;\n",
              "      box-shadow: 0px 1px 3px 1px rgba(0, 0, 0, 0.15);\n",
              "      filter: drop-shadow(0px 1px 2px rgba(0, 0, 0, 0.3));\n",
              "      fill: #FFFFFF;\n",
              "    }\n",
              "  </style>\n",
              "\n",
              "    <script>\n",
              "      const buttonEl =\n",
              "        document.querySelector('#df-02f532a2-92bc-43e5-9f28-6987942050e0 button.colab-df-convert');\n",
              "      buttonEl.style.display =\n",
              "        google.colab.kernel.accessAllowed ? 'block' : 'none';\n",
              "\n",
              "      async function convertToInteractive(key) {\n",
              "        const element = document.querySelector('#df-02f532a2-92bc-43e5-9f28-6987942050e0');\n",
              "        const dataTable =\n",
              "          await google.colab.kernel.invokeFunction('convertToInteractive',\n",
              "                                                    [key], {});\n",
              "        if (!dataTable) return;\n",
              "\n",
              "        const docLinkHtml = 'Like what you see? Visit the ' +\n",
              "          '<a target=\"_blank\" href=https://colab.research.google.com/notebooks/data_table.ipynb>data table notebook</a>'\n",
              "          + ' to learn more about interactive tables.';\n",
              "        element.innerHTML = '';\n",
              "        dataTable['output_type'] = 'display_data';\n",
              "        await google.colab.output.renderOutput(dataTable, element);\n",
              "        const docLink = document.createElement('div');\n",
              "        docLink.innerHTML = docLinkHtml;\n",
              "        element.appendChild(docLink);\n",
              "      }\n",
              "    </script>\n",
              "  </div>\n",
              "\n",
              "\n",
              "<div id=\"df-bb019a49-1a60-4481-81c8-9f1f0363a5b4\">\n",
              "  <button class=\"colab-df-quickchart\" onclick=\"quickchart('df-bb019a49-1a60-4481-81c8-9f1f0363a5b4')\"\n",
              "            title=\"Suggest charts\"\n",
              "            style=\"display:none;\">\n",
              "\n",
              "<svg xmlns=\"http://www.w3.org/2000/svg\" height=\"24px\"viewBox=\"0 0 24 24\"\n",
              "     width=\"24px\">\n",
              "    <g>\n",
              "        <path d=\"M19 3H5c-1.1 0-2 .9-2 2v14c0 1.1.9 2 2 2h14c1.1 0 2-.9 2-2V5c0-1.1-.9-2-2-2zM9 17H7v-7h2v7zm4 0h-2V7h2v10zm4 0h-2v-4h2v4z\"/>\n",
              "    </g>\n",
              "</svg>\n",
              "  </button>\n",
              "\n",
              "<style>\n",
              "  .colab-df-quickchart {\n",
              "      --bg-color: #E8F0FE;\n",
              "      --fill-color: #1967D2;\n",
              "      --hover-bg-color: #E2EBFA;\n",
              "      --hover-fill-color: #174EA6;\n",
              "      --disabled-fill-color: #AAA;\n",
              "      --disabled-bg-color: #DDD;\n",
              "  }\n",
              "\n",
              "  [theme=dark] .colab-df-quickchart {\n",
              "      --bg-color: #3B4455;\n",
              "      --fill-color: #D2E3FC;\n",
              "      --hover-bg-color: #434B5C;\n",
              "      --hover-fill-color: #FFFFFF;\n",
              "      --disabled-bg-color: #3B4455;\n",
              "      --disabled-fill-color: #666;\n",
              "  }\n",
              "\n",
              "  .colab-df-quickchart {\n",
              "    background-color: var(--bg-color);\n",
              "    border: none;\n",
              "    border-radius: 50%;\n",
              "    cursor: pointer;\n",
              "    display: none;\n",
              "    fill: var(--fill-color);\n",
              "    height: 32px;\n",
              "    padding: 0;\n",
              "    width: 32px;\n",
              "  }\n",
              "\n",
              "  .colab-df-quickchart:hover {\n",
              "    background-color: var(--hover-bg-color);\n",
              "    box-shadow: 0 1px 2px rgba(60, 64, 67, 0.3), 0 1px 3px 1px rgba(60, 64, 67, 0.15);\n",
              "    fill: var(--button-hover-fill-color);\n",
              "  }\n",
              "\n",
              "  .colab-df-quickchart-complete:disabled,\n",
              "  .colab-df-quickchart-complete:disabled:hover {\n",
              "    background-color: var(--disabled-bg-color);\n",
              "    fill: var(--disabled-fill-color);\n",
              "    box-shadow: none;\n",
              "  }\n",
              "\n",
              "  .colab-df-spinner {\n",
              "    border: 2px solid var(--fill-color);\n",
              "    border-color: transparent;\n",
              "    border-bottom-color: var(--fill-color);\n",
              "    animation:\n",
              "      spin 1s steps(1) infinite;\n",
              "  }\n",
              "\n",
              "  @keyframes spin {\n",
              "    0% {\n",
              "      border-color: transparent;\n",
              "      border-bottom-color: var(--fill-color);\n",
              "      border-left-color: var(--fill-color);\n",
              "    }\n",
              "    20% {\n",
              "      border-color: transparent;\n",
              "      border-left-color: var(--fill-color);\n",
              "      border-top-color: var(--fill-color);\n",
              "    }\n",
              "    30% {\n",
              "      border-color: transparent;\n",
              "      border-left-color: var(--fill-color);\n",
              "      border-top-color: var(--fill-color);\n",
              "      border-right-color: var(--fill-color);\n",
              "    }\n",
              "    40% {\n",
              "      border-color: transparent;\n",
              "      border-right-color: var(--fill-color);\n",
              "      border-top-color: var(--fill-color);\n",
              "    }\n",
              "    60% {\n",
              "      border-color: transparent;\n",
              "      border-right-color: var(--fill-color);\n",
              "    }\n",
              "    80% {\n",
              "      border-color: transparent;\n",
              "      border-right-color: var(--fill-color);\n",
              "      border-bottom-color: var(--fill-color);\n",
              "    }\n",
              "    90% {\n",
              "      border-color: transparent;\n",
              "      border-bottom-color: var(--fill-color);\n",
              "    }\n",
              "  }\n",
              "</style>\n",
              "\n",
              "  <script>\n",
              "    async function quickchart(key) {\n",
              "      const quickchartButtonEl =\n",
              "        document.querySelector('#' + key + ' button');\n",
              "      quickchartButtonEl.disabled = true;  // To prevent multiple clicks.\n",
              "      quickchartButtonEl.classList.add('colab-df-spinner');\n",
              "      try {\n",
              "        const charts = await google.colab.kernel.invokeFunction(\n",
              "            'suggestCharts', [key], {});\n",
              "      } catch (error) {\n",
              "        console.error('Error during call to suggestCharts:', error);\n",
              "      }\n",
              "      quickchartButtonEl.classList.remove('colab-df-spinner');\n",
              "      quickchartButtonEl.classList.add('colab-df-quickchart-complete');\n",
              "    }\n",
              "    (() => {\n",
              "      let quickchartButtonEl =\n",
              "        document.querySelector('#df-bb019a49-1a60-4481-81c8-9f1f0363a5b4 button');\n",
              "      quickchartButtonEl.style.display =\n",
              "        google.colab.kernel.accessAllowed ? 'block' : 'none';\n",
              "    })();\n",
              "  </script>\n",
              "</div>\n",
              "\n",
              "    </div>\n",
              "  </div>\n"
            ],
            "application/vnd.google.colaboratory.intrinsic+json": {
              "type": "dataframe",
              "variable_name": "df_trues",
              "repr_error": "0"
            }
          },
          "metadata": {},
          "execution_count": 17
        }
      ],
      "source": [
        "df_trues.head()"
      ]
    },
    {
      "cell_type": "markdown",
      "metadata": {
        "id": "mP_3DTO0xU2k"
      },
      "source": [
        "Fake-> 1\n",
        "Real-> 0"
      ]
    },
    {
      "cell_type": "code",
      "execution_count": 18,
      "metadata": {
        "id": "VeiWvHzusXDN"
      },
      "outputs": [],
      "source": [
        "df_fakes[\"target\"]=1\n",
        "df_trues[\"target\"]=0"
      ]
    },
    {
      "cell_type": "code",
      "execution_count": 19,
      "metadata": {
        "colab": {
          "base_uri": "https://localhost:8080/",
          "height": 206
        },
        "id": "6ruYXP5xsP7U",
        "outputId": "37aa8e18-0ace-4c50-afdb-bd515a2afa01"
      },
      "outputs": [
        {
          "output_type": "execute_result",
          "data": {
            "text/plain": [
              "                                                   title  \\\n",
              "11533  WATCH SOUR GRAPES NANCY PELOSI Refuse to Stand...   \n",
              "17974  LOL! New York Times Publishes Lengthy Article ...   \n",
              "4807    There Was Something Weird About Trump’s Hair ...   \n",
              "11312  THIS ISN’T OBAMA’S AMERICA ANYMORE! Women’s Ma...   \n",
              "13717  The “Brown” The Media Wont’ Cover Because He W...   \n",
              "\n",
              "                                                    text    subject  \\\n",
              "11533                                                      politics   \n",
              "17974  While Facebook has hired an entire team of emp...  left-news   \n",
              "4807   Boy, wasn t Wednesday an embarrassing day for ...       News   \n",
              "11312  Convicted  Palestinian  terrorist and leader o...   politics   \n",
              "13717  If his name was Michael Brown if he robbed a l...   politics   \n",
              "\n",
              "                    date  target  \n",
              "11533        Mar 1, 2017       1  \n",
              "17974       Sep 14, 2017       1  \n",
              "4807   September 1, 2016       1  \n",
              "11312       Mar 24, 2017       1  \n",
              "13717       Jun 10, 2016       1  "
            ],
            "text/html": [
              "\n",
              "  <div id=\"df-d5dcd1f8-add8-4f2a-be04-7ab469f9e0ca\" class=\"colab-df-container\">\n",
              "    <div>\n",
              "<style scoped>\n",
              "    .dataframe tbody tr th:only-of-type {\n",
              "        vertical-align: middle;\n",
              "    }\n",
              "\n",
              "    .dataframe tbody tr th {\n",
              "        vertical-align: top;\n",
              "    }\n",
              "\n",
              "    .dataframe thead th {\n",
              "        text-align: right;\n",
              "    }\n",
              "</style>\n",
              "<table border=\"1\" class=\"dataframe\">\n",
              "  <thead>\n",
              "    <tr style=\"text-align: right;\">\n",
              "      <th></th>\n",
              "      <th>title</th>\n",
              "      <th>text</th>\n",
              "      <th>subject</th>\n",
              "      <th>date</th>\n",
              "      <th>target</th>\n",
              "    </tr>\n",
              "  </thead>\n",
              "  <tbody>\n",
              "    <tr>\n",
              "      <th>11533</th>\n",
              "      <td>WATCH SOUR GRAPES NANCY PELOSI Refuse to Stand...</td>\n",
              "      <td></td>\n",
              "      <td>politics</td>\n",
              "      <td>Mar 1, 2017</td>\n",
              "      <td>1</td>\n",
              "    </tr>\n",
              "    <tr>\n",
              "      <th>17974</th>\n",
              "      <td>LOL! New York Times Publishes Lengthy Article ...</td>\n",
              "      <td>While Facebook has hired an entire team of emp...</td>\n",
              "      <td>left-news</td>\n",
              "      <td>Sep 14, 2017</td>\n",
              "      <td>1</td>\n",
              "    </tr>\n",
              "    <tr>\n",
              "      <th>4807</th>\n",
              "      <td>There Was Something Weird About Trump’s Hair ...</td>\n",
              "      <td>Boy, wasn t Wednesday an embarrassing day for ...</td>\n",
              "      <td>News</td>\n",
              "      <td>September 1, 2016</td>\n",
              "      <td>1</td>\n",
              "    </tr>\n",
              "    <tr>\n",
              "      <th>11312</th>\n",
              "      <td>THIS ISN’T OBAMA’S AMERICA ANYMORE! Women’s Ma...</td>\n",
              "      <td>Convicted  Palestinian  terrorist and leader o...</td>\n",
              "      <td>politics</td>\n",
              "      <td>Mar 24, 2017</td>\n",
              "      <td>1</td>\n",
              "    </tr>\n",
              "    <tr>\n",
              "      <th>13717</th>\n",
              "      <td>The “Brown” The Media Wont’ Cover Because He W...</td>\n",
              "      <td>If his name was Michael Brown if he robbed a l...</td>\n",
              "      <td>politics</td>\n",
              "      <td>Jun 10, 2016</td>\n",
              "      <td>1</td>\n",
              "    </tr>\n",
              "  </tbody>\n",
              "</table>\n",
              "</div>\n",
              "    <div class=\"colab-df-buttons\">\n",
              "\n",
              "  <div class=\"colab-df-container\">\n",
              "    <button class=\"colab-df-convert\" onclick=\"convertToInteractive('df-d5dcd1f8-add8-4f2a-be04-7ab469f9e0ca')\"\n",
              "            title=\"Convert this dataframe to an interactive table.\"\n",
              "            style=\"display:none;\">\n",
              "\n",
              "  <svg xmlns=\"http://www.w3.org/2000/svg\" height=\"24px\" viewBox=\"0 -960 960 960\">\n",
              "    <path d=\"M120-120v-720h720v720H120Zm60-500h600v-160H180v160Zm220 220h160v-160H400v160Zm0 220h160v-160H400v160ZM180-400h160v-160H180v160Zm440 0h160v-160H620v160ZM180-180h160v-160H180v160Zm440 0h160v-160H620v160Z\"/>\n",
              "  </svg>\n",
              "    </button>\n",
              "\n",
              "  <style>\n",
              "    .colab-df-container {\n",
              "      display:flex;\n",
              "      gap: 12px;\n",
              "    }\n",
              "\n",
              "    .colab-df-convert {\n",
              "      background-color: #E8F0FE;\n",
              "      border: none;\n",
              "      border-radius: 50%;\n",
              "      cursor: pointer;\n",
              "      display: none;\n",
              "      fill: #1967D2;\n",
              "      height: 32px;\n",
              "      padding: 0 0 0 0;\n",
              "      width: 32px;\n",
              "    }\n",
              "\n",
              "    .colab-df-convert:hover {\n",
              "      background-color: #E2EBFA;\n",
              "      box-shadow: 0px 1px 2px rgba(60, 64, 67, 0.3), 0px 1px 3px 1px rgba(60, 64, 67, 0.15);\n",
              "      fill: #174EA6;\n",
              "    }\n",
              "\n",
              "    .colab-df-buttons div {\n",
              "      margin-bottom: 4px;\n",
              "    }\n",
              "\n",
              "    [theme=dark] .colab-df-convert {\n",
              "      background-color: #3B4455;\n",
              "      fill: #D2E3FC;\n",
              "    }\n",
              "\n",
              "    [theme=dark] .colab-df-convert:hover {\n",
              "      background-color: #434B5C;\n",
              "      box-shadow: 0px 1px 3px 1px rgba(0, 0, 0, 0.15);\n",
              "      filter: drop-shadow(0px 1px 2px rgba(0, 0, 0, 0.3));\n",
              "      fill: #FFFFFF;\n",
              "    }\n",
              "  </style>\n",
              "\n",
              "    <script>\n",
              "      const buttonEl =\n",
              "        document.querySelector('#df-d5dcd1f8-add8-4f2a-be04-7ab469f9e0ca button.colab-df-convert');\n",
              "      buttonEl.style.display =\n",
              "        google.colab.kernel.accessAllowed ? 'block' : 'none';\n",
              "\n",
              "      async function convertToInteractive(key) {\n",
              "        const element = document.querySelector('#df-d5dcd1f8-add8-4f2a-be04-7ab469f9e0ca');\n",
              "        const dataTable =\n",
              "          await google.colab.kernel.invokeFunction('convertToInteractive',\n",
              "                                                    [key], {});\n",
              "        if (!dataTable) return;\n",
              "\n",
              "        const docLinkHtml = 'Like what you see? Visit the ' +\n",
              "          '<a target=\"_blank\" href=https://colab.research.google.com/notebooks/data_table.ipynb>data table notebook</a>'\n",
              "          + ' to learn more about interactive tables.';\n",
              "        element.innerHTML = '';\n",
              "        dataTable['output_type'] = 'display_data';\n",
              "        await google.colab.output.renderOutput(dataTable, element);\n",
              "        const docLink = document.createElement('div');\n",
              "        docLink.innerHTML = docLinkHtml;\n",
              "        element.appendChild(docLink);\n",
              "      }\n",
              "    </script>\n",
              "  </div>\n",
              "\n",
              "\n",
              "<div id=\"df-4cdece84-46d1-4042-a03f-aa856103a867\">\n",
              "  <button class=\"colab-df-quickchart\" onclick=\"quickchart('df-4cdece84-46d1-4042-a03f-aa856103a867')\"\n",
              "            title=\"Suggest charts\"\n",
              "            style=\"display:none;\">\n",
              "\n",
              "<svg xmlns=\"http://www.w3.org/2000/svg\" height=\"24px\"viewBox=\"0 0 24 24\"\n",
              "     width=\"24px\">\n",
              "    <g>\n",
              "        <path d=\"M19 3H5c-1.1 0-2 .9-2 2v14c0 1.1.9 2 2 2h14c1.1 0 2-.9 2-2V5c0-1.1-.9-2-2-2zM9 17H7v-7h2v7zm4 0h-2V7h2v10zm4 0h-2v-4h2v4z\"/>\n",
              "    </g>\n",
              "</svg>\n",
              "  </button>\n",
              "\n",
              "<style>\n",
              "  .colab-df-quickchart {\n",
              "      --bg-color: #E8F0FE;\n",
              "      --fill-color: #1967D2;\n",
              "      --hover-bg-color: #E2EBFA;\n",
              "      --hover-fill-color: #174EA6;\n",
              "      --disabled-fill-color: #AAA;\n",
              "      --disabled-bg-color: #DDD;\n",
              "  }\n",
              "\n",
              "  [theme=dark] .colab-df-quickchart {\n",
              "      --bg-color: #3B4455;\n",
              "      --fill-color: #D2E3FC;\n",
              "      --hover-bg-color: #434B5C;\n",
              "      --hover-fill-color: #FFFFFF;\n",
              "      --disabled-bg-color: #3B4455;\n",
              "      --disabled-fill-color: #666;\n",
              "  }\n",
              "\n",
              "  .colab-df-quickchart {\n",
              "    background-color: var(--bg-color);\n",
              "    border: none;\n",
              "    border-radius: 50%;\n",
              "    cursor: pointer;\n",
              "    display: none;\n",
              "    fill: var(--fill-color);\n",
              "    height: 32px;\n",
              "    padding: 0;\n",
              "    width: 32px;\n",
              "  }\n",
              "\n",
              "  .colab-df-quickchart:hover {\n",
              "    background-color: var(--hover-bg-color);\n",
              "    box-shadow: 0 1px 2px rgba(60, 64, 67, 0.3), 0 1px 3px 1px rgba(60, 64, 67, 0.15);\n",
              "    fill: var(--button-hover-fill-color);\n",
              "  }\n",
              "\n",
              "  .colab-df-quickchart-complete:disabled,\n",
              "  .colab-df-quickchart-complete:disabled:hover {\n",
              "    background-color: var(--disabled-bg-color);\n",
              "    fill: var(--disabled-fill-color);\n",
              "    box-shadow: none;\n",
              "  }\n",
              "\n",
              "  .colab-df-spinner {\n",
              "    border: 2px solid var(--fill-color);\n",
              "    border-color: transparent;\n",
              "    border-bottom-color: var(--fill-color);\n",
              "    animation:\n",
              "      spin 1s steps(1) infinite;\n",
              "  }\n",
              "\n",
              "  @keyframes spin {\n",
              "    0% {\n",
              "      border-color: transparent;\n",
              "      border-bottom-color: var(--fill-color);\n",
              "      border-left-color: var(--fill-color);\n",
              "    }\n",
              "    20% {\n",
              "      border-color: transparent;\n",
              "      border-left-color: var(--fill-color);\n",
              "      border-top-color: var(--fill-color);\n",
              "    }\n",
              "    30% {\n",
              "      border-color: transparent;\n",
              "      border-left-color: var(--fill-color);\n",
              "      border-top-color: var(--fill-color);\n",
              "      border-right-color: var(--fill-color);\n",
              "    }\n",
              "    40% {\n",
              "      border-color: transparent;\n",
              "      border-right-color: var(--fill-color);\n",
              "      border-top-color: var(--fill-color);\n",
              "    }\n",
              "    60% {\n",
              "      border-color: transparent;\n",
              "      border-right-color: var(--fill-color);\n",
              "    }\n",
              "    80% {\n",
              "      border-color: transparent;\n",
              "      border-right-color: var(--fill-color);\n",
              "      border-bottom-color: var(--fill-color);\n",
              "    }\n",
              "    90% {\n",
              "      border-color: transparent;\n",
              "      border-bottom-color: var(--fill-color);\n",
              "    }\n",
              "  }\n",
              "</style>\n",
              "\n",
              "  <script>\n",
              "    async function quickchart(key) {\n",
              "      const quickchartButtonEl =\n",
              "        document.querySelector('#' + key + ' button');\n",
              "      quickchartButtonEl.disabled = true;  // To prevent multiple clicks.\n",
              "      quickchartButtonEl.classList.add('colab-df-spinner');\n",
              "      try {\n",
              "        const charts = await google.colab.kernel.invokeFunction(\n",
              "            'suggestCharts', [key], {});\n",
              "      } catch (error) {\n",
              "        console.error('Error during call to suggestCharts:', error);\n",
              "      }\n",
              "      quickchartButtonEl.classList.remove('colab-df-spinner');\n",
              "      quickchartButtonEl.classList.add('colab-df-quickchart-complete');\n",
              "    }\n",
              "    (() => {\n",
              "      let quickchartButtonEl =\n",
              "        document.querySelector('#df-4cdece84-46d1-4042-a03f-aa856103a867 button');\n",
              "      quickchartButtonEl.style.display =\n",
              "        google.colab.kernel.accessAllowed ? 'block' : 'none';\n",
              "    })();\n",
              "  </script>\n",
              "</div>\n",
              "\n",
              "    </div>\n",
              "  </div>\n"
            ],
            "application/vnd.google.colaboratory.intrinsic+json": {
              "type": "dataframe",
              "variable_name": "df_fakes",
              "summary": "{\n  \"name\": \"df_fakes\",\n  \"rows\": 500,\n  \"fields\": [\n    {\n      \"column\": \"title\",\n      \"properties\": {\n        \"dtype\": \"string\",\n        \"num_unique_values\": 500,\n        \"samples\": [\n          \" Former Republican Senator Endorses Hillary Clinton After Orlando Shooting\",\n          \" Dan Rather Brilliantly Rips Trump\\u2019s Lawless Week In SCATHING Facebook Post\",\n          \"WAKE UP AMERICA! SOMALI CANDIDATES IN MINNESOTA Only Speak In Somali At Caucus\\u2026Guess Who They\\u2019re Voting For [Video]\"\n        ],\n        \"semantic_type\": \"\",\n        \"description\": \"\"\n      }\n    },\n    {\n      \"column\": \"text\",\n      \"properties\": {\n        \"dtype\": \"string\",\n        \"num_unique_values\": 486,\n        \"samples\": [\n          \"In case you just woke up, the United States is now at war with Syria. It was waged without congressional approval and by a man who ran on a platform of isolationism. Now, his isolationist followers are pissed.It doesn t help that the favorite conspiracy theorist of Trump and his followers called the Assad attack on his own people a  false flag  designed to take us to war. According to his followers, Trump fell for it, hook, line and sinker. Or, he was lying to them all along.The Trump of weeks past was firmly against any action in Syria. He even accused President Obama of wanting to wage war in Syria over falling poll numbers. Now that Trump s poll numbers are in a complete tailspin, he desperately attacked Syria.Now that Obama s poll numbers are in tailspin   watch for him to launch a strike in Libya or Iran. He is desperate.  Donald J. Trump (@realDonaldTrump) October 9, 2012He also said that Obama would have had to get congressional approval. Obama tried to, but Trump didn t.The President must get Congressional approval before attacking Syria-big mistake if he does not!  Donald J. Trump (@realDonaldTrump) August 30, 2013Now that the man who s proven himself to have zero principles is occupying the White House, his rules have changed, but his supporters  haven t. They feel duped.Deep State really pushing for a conflict with Russia. The desperation for a war is unreal. #SyriaHoax #StopWW3 #SyriaStrikes https://t.co/qjQplDt95u  ?/K/aitilyn? (@kitty_Kaiti) April 7, 2017I think you should worry more about draining the swamp than getting America into new wars. #SyriaStrikes #SyriaHoax @realDonaldTrump pic.twitter.com/gcHbeikEHf  Jody Paulson (@JodyPaulson) April 7, 2017John McCain is far more of a threat to this country than Bashar al-Assad could ever be. #SyriaHoax  Virginia Dare (@vdare) April 7, 2017Trump Told Us For Years to  Not Bomb Syria >Help Elect Trump >Trump Bombs SyriaWhy Do I Even Bother? #SyriaStrikes #SyriaHoax pic.twitter.com/ioLuvfLfMY  Battle Beagle (@HarmlessYardDog) April 7, 2017.@realDonaldTrumpPeople voted for you to stop the 3rd world invasion & to MAGA   not for more neocon wars. Kushner is poison#SyriaHoax  Gregory Montfort (@GregMontfort) April 7, 2017Sad day for the millions of Americans who voted @realDonaldTrump because they didn t want Hillary s wars. Sad day for humanity #SyriaHoax  Ozreality media (@ozrealitymedia) April 7, 2017From a Vet to @POTUS 1.) Focus on infrastructure 2.) Focus on American jobs 3.) Focus on the homeland its what you ran on #SyriaHoax  Based Monitored ?? (@BasedMonitored) April 7, 2017At least it s encouraging that people are beginning to see through Trump s shallow attempt at regaining popularity, but there s little doubt that his approval numbers will rise after the attack, just because so many Americans love war.Featured image via Mark Wilson/Getty Images.\",\n          \"Hardcore, unconventional, conservative and badass artist  Sabo  has been taking his message to the streets for several years. I had a lengthy phone conversation with him last year and after I hung up the phone, I had the same kind of feeling I had after meeting Andrew Breitbart. Like Andrew Breitbart, Sabo s not fighting a conventional war against the left, he s studied them, he knows the dirty tactics they use to win and he s determined to beat them at their own game, even if it means shocking a few Americans along the way. Sabo never got to meet Andrew Breitbart, but always wanted to, as he recalls here:Now a thing about me was I d spent a good three years trying to get sober. In that time I did everything I could to stay the hell away from politics. It was the most peaceful three years of my life. Unfortunately during those three years guys like Glenn Beck and Andrew Breitbart were really picking up steam. So, because of my absence from the political scene I didn t really know much about them. And what little I did know about Glenn Beck I didn t really like. I remember friends would try turning me on to him but I wasn t into his delivery, too loud, too passionate. Not my deal. Sadly Andrew passed away about the time I decided to get back into the political fray. I never had the privilege to meet him. Everyone says we d of really gotten along. I did however get to meet his crew and they were all stand up people.Glenn Beck interviewed Sabo in 2015 when he was still keeping his face hidden from the public:  One of Sabo s most popular pieces of work was his badass representation of Ted Cruz who he wholeheartedly supported for President.During the campaign, Sabo came after Hillary and Bernie Sanders pretty hard. He focused on plastering his hard-hitting posters in areas where fundraisers or events for Bernie or Hillary were taking place. Sabo wanted to make sure the American public saw Hillary as he saw Hillary:It took him a while to come around to Donald Trump, but eventually he did.Sabo s controversial artwork can be found on posters, t-shirts and bumper stickers at his online store: unsavoryagents.com Here s a video of Sabo replacing a sign in a park bench in LA with his own unique printed message. Notice the guy smoking a crack pipe on the bench the entire time.In 2014, Sabo got a little visit from the Secret Service over his  controversial  posts on Twitter. He certainly didn t handle the interview in the way most Americans would have.:Sabo will be on FOX News  Tucker Carlson show tonight at 9 pm EST. He ll likely discuss the artwork that he plastered all over LA in advance of the Oscars last night.Here are a few of the posters liberal actors found when they arrived on the red carpet.   We can promise you one thing it won t be an interview you ll want to miss \",\n          \"The most infamous characters from Donald Trump s administration are resurfacing and coming back to haunt him. Just a few days ago, former White House Press Secretary Sean Spicer made an appearance at the Emmys to mock his old boss, and now former White House Communications Director Anthony Scaramucci has made a television appearance as well. Basically, Trump should be terrified if this keeps happening.Anthony Scaramucci s short-lived role in the White House was pure insanity for the entirety of its 11 days. From day one, he became polarizing and controversial, causing several actors to rush at the opportunity to imitate him   including comedian Mario Cantone, who became known for his perfect impersonation of  the Mooch.  Little did Scaramucci know, his memorable time as Communications Director would come back to bite him in the a**.On Friday, Scaramucci appeared on The View, where he was suddenly confronted with a surprise appearance by Cantone, who called Scaramucci his doppelg nger.  Cantone sat right next to Scaramucci and said: Look at this guy! He s my doppelg nger! Scaramucci was more than uncomfortable and tried to get Cantone to stop imitating him by asking semi-serious questions. Scaramucci asked: How bummed were you when I was fired? You were on your way. And then you got shot like a little bird and hit the water. You had to be bummed. Unfortunately for the Mooch, Cantone continued to imitate him and landed this epic diss: You re lucky you re here. You got nothing. Spicer got the EMMYs. You re sitting here with four bleeding heart chiacchierones. Scaramucci tried to be a good sport for the rest of the show, but he was visibly irked by Cantone s portrayal of him as he spoke about his time as Communications Director.You can watch Scaramucci hate every second of this surprise appearance below:Featured image via Chip Somodevilla / Getty Images\"\n        ],\n        \"semantic_type\": \"\",\n        \"description\": \"\"\n      }\n    },\n    {\n      \"column\": \"subject\",\n      \"properties\": {\n        \"dtype\": \"category\",\n        \"num_unique_values\": 6,\n        \"samples\": [\n          \"politics\",\n          \"left-news\",\n          \"Middle-east\"\n        ],\n        \"semantic_type\": \"\",\n        \"description\": \"\"\n      }\n    },\n    {\n      \"column\": \"date\",\n      \"properties\": {\n        \"dtype\": \"string\",\n        \"num_unique_values\": 434,\n        \"samples\": [\n          \"May 9, 2016\",\n          \"July 24, 2016\",\n          \"September 11, 2017\"\n        ],\n        \"semantic_type\": \"\",\n        \"description\": \"\"\n      }\n    },\n    {\n      \"column\": \"target\",\n      \"properties\": {\n        \"dtype\": \"number\",\n        \"std\": 0,\n        \"min\": 1,\n        \"max\": 1,\n        \"num_unique_values\": 1,\n        \"samples\": [\n          1\n        ],\n        \"semantic_type\": \"\",\n        \"description\": \"\"\n      }\n    }\n  ]\n}"
            }
          },
          "metadata": {},
          "execution_count": 19
        }
      ],
      "source": [
        "df_fakes.head()"
      ]
    },
    {
      "cell_type": "code",
      "execution_count": 20,
      "metadata": {
        "colab": {
          "base_uri": "https://localhost:8080/",
          "height": 206
        },
        "id": "fLx0gB1JsP-D",
        "outputId": "f1ae2b61-bc88-4f20-eba6-32137f5d1804"
      },
      "outputs": [
        {
          "output_type": "execute_result",
          "data": {
            "text/plain": [
              "                                                   title  \\\n",
              "10619  Clinton wins big in South Carolina on way to '...   \n",
              "4888   Trump vows appeal up to Supreme Court after lo...   \n",
              "2612   Trump talks pardons amid probes of Russia role...   \n",
              "14791  China corruption could lead to Soviet-style co...   \n",
              "13492          Passenger train derails in Spain, 21 hurt   \n",
              "\n",
              "                                                    text       subject  \\\n",
              "10619  COLUMBIA, S.C. (Reuters) - U.S. Democratic pre...  politicsNews   \n",
              "4888   HONOLULU/NEW YORK (Reuters) - A defiant Presid...  politicsNews   \n",
              "2612   NORFOLK, Va. (Reuters) - U.S. President Donald...  politicsNews   \n",
              "14791  BEIJING (Reuters) - China must step up its bat...     worldnews   \n",
              "13492  MADRID (Reuters) - A passenger train derailed ...     worldnews   \n",
              "\n",
              "                     date  target  \n",
              "10619  February 27, 2016        0  \n",
              "4888      March 16, 2017        0  \n",
              "2612       July 22, 2017        0  \n",
              "14791  November 15, 2017        0  \n",
              "13492  November 29, 2017        0  "
            ],
            "text/html": [
              "\n",
              "  <div id=\"df-6ed5afe5-2454-4e30-85bc-951843e1c568\" class=\"colab-df-container\">\n",
              "    <div>\n",
              "<style scoped>\n",
              "    .dataframe tbody tr th:only-of-type {\n",
              "        vertical-align: middle;\n",
              "    }\n",
              "\n",
              "    .dataframe tbody tr th {\n",
              "        vertical-align: top;\n",
              "    }\n",
              "\n",
              "    .dataframe thead th {\n",
              "        text-align: right;\n",
              "    }\n",
              "</style>\n",
              "<table border=\"1\" class=\"dataframe\">\n",
              "  <thead>\n",
              "    <tr style=\"text-align: right;\">\n",
              "      <th></th>\n",
              "      <th>title</th>\n",
              "      <th>text</th>\n",
              "      <th>subject</th>\n",
              "      <th>date</th>\n",
              "      <th>target</th>\n",
              "    </tr>\n",
              "  </thead>\n",
              "  <tbody>\n",
              "    <tr>\n",
              "      <th>10619</th>\n",
              "      <td>Clinton wins big in South Carolina on way to '...</td>\n",
              "      <td>COLUMBIA, S.C. (Reuters) - U.S. Democratic pre...</td>\n",
              "      <td>politicsNews</td>\n",
              "      <td>February 27, 2016</td>\n",
              "      <td>0</td>\n",
              "    </tr>\n",
              "    <tr>\n",
              "      <th>4888</th>\n",
              "      <td>Trump vows appeal up to Supreme Court after lo...</td>\n",
              "      <td>HONOLULU/NEW YORK (Reuters) - A defiant Presid...</td>\n",
              "      <td>politicsNews</td>\n",
              "      <td>March 16, 2017</td>\n",
              "      <td>0</td>\n",
              "    </tr>\n",
              "    <tr>\n",
              "      <th>2612</th>\n",
              "      <td>Trump talks pardons amid probes of Russia role...</td>\n",
              "      <td>NORFOLK, Va. (Reuters) - U.S. President Donald...</td>\n",
              "      <td>politicsNews</td>\n",
              "      <td>July 22, 2017</td>\n",
              "      <td>0</td>\n",
              "    </tr>\n",
              "    <tr>\n",
              "      <th>14791</th>\n",
              "      <td>China corruption could lead to Soviet-style co...</td>\n",
              "      <td>BEIJING (Reuters) - China must step up its bat...</td>\n",
              "      <td>worldnews</td>\n",
              "      <td>November 15, 2017</td>\n",
              "      <td>0</td>\n",
              "    </tr>\n",
              "    <tr>\n",
              "      <th>13492</th>\n",
              "      <td>Passenger train derails in Spain, 21 hurt</td>\n",
              "      <td>MADRID (Reuters) - A passenger train derailed ...</td>\n",
              "      <td>worldnews</td>\n",
              "      <td>November 29, 2017</td>\n",
              "      <td>0</td>\n",
              "    </tr>\n",
              "  </tbody>\n",
              "</table>\n",
              "</div>\n",
              "    <div class=\"colab-df-buttons\">\n",
              "\n",
              "  <div class=\"colab-df-container\">\n",
              "    <button class=\"colab-df-convert\" onclick=\"convertToInteractive('df-6ed5afe5-2454-4e30-85bc-951843e1c568')\"\n",
              "            title=\"Convert this dataframe to an interactive table.\"\n",
              "            style=\"display:none;\">\n",
              "\n",
              "  <svg xmlns=\"http://www.w3.org/2000/svg\" height=\"24px\" viewBox=\"0 -960 960 960\">\n",
              "    <path d=\"M120-120v-720h720v720H120Zm60-500h600v-160H180v160Zm220 220h160v-160H400v160Zm0 220h160v-160H400v160ZM180-400h160v-160H180v160Zm440 0h160v-160H620v160ZM180-180h160v-160H180v160Zm440 0h160v-160H620v160Z\"/>\n",
              "  </svg>\n",
              "    </button>\n",
              "\n",
              "  <style>\n",
              "    .colab-df-container {\n",
              "      display:flex;\n",
              "      gap: 12px;\n",
              "    }\n",
              "\n",
              "    .colab-df-convert {\n",
              "      background-color: #E8F0FE;\n",
              "      border: none;\n",
              "      border-radius: 50%;\n",
              "      cursor: pointer;\n",
              "      display: none;\n",
              "      fill: #1967D2;\n",
              "      height: 32px;\n",
              "      padding: 0 0 0 0;\n",
              "      width: 32px;\n",
              "    }\n",
              "\n",
              "    .colab-df-convert:hover {\n",
              "      background-color: #E2EBFA;\n",
              "      box-shadow: 0px 1px 2px rgba(60, 64, 67, 0.3), 0px 1px 3px 1px rgba(60, 64, 67, 0.15);\n",
              "      fill: #174EA6;\n",
              "    }\n",
              "\n",
              "    .colab-df-buttons div {\n",
              "      margin-bottom: 4px;\n",
              "    }\n",
              "\n",
              "    [theme=dark] .colab-df-convert {\n",
              "      background-color: #3B4455;\n",
              "      fill: #D2E3FC;\n",
              "    }\n",
              "\n",
              "    [theme=dark] .colab-df-convert:hover {\n",
              "      background-color: #434B5C;\n",
              "      box-shadow: 0px 1px 3px 1px rgba(0, 0, 0, 0.15);\n",
              "      filter: drop-shadow(0px 1px 2px rgba(0, 0, 0, 0.3));\n",
              "      fill: #FFFFFF;\n",
              "    }\n",
              "  </style>\n",
              "\n",
              "    <script>\n",
              "      const buttonEl =\n",
              "        document.querySelector('#df-6ed5afe5-2454-4e30-85bc-951843e1c568 button.colab-df-convert');\n",
              "      buttonEl.style.display =\n",
              "        google.colab.kernel.accessAllowed ? 'block' : 'none';\n",
              "\n",
              "      async function convertToInteractive(key) {\n",
              "        const element = document.querySelector('#df-6ed5afe5-2454-4e30-85bc-951843e1c568');\n",
              "        const dataTable =\n",
              "          await google.colab.kernel.invokeFunction('convertToInteractive',\n",
              "                                                    [key], {});\n",
              "        if (!dataTable) return;\n",
              "\n",
              "        const docLinkHtml = 'Like what you see? Visit the ' +\n",
              "          '<a target=\"_blank\" href=https://colab.research.google.com/notebooks/data_table.ipynb>data table notebook</a>'\n",
              "          + ' to learn more about interactive tables.';\n",
              "        element.innerHTML = '';\n",
              "        dataTable['output_type'] = 'display_data';\n",
              "        await google.colab.output.renderOutput(dataTable, element);\n",
              "        const docLink = document.createElement('div');\n",
              "        docLink.innerHTML = docLinkHtml;\n",
              "        element.appendChild(docLink);\n",
              "      }\n",
              "    </script>\n",
              "  </div>\n",
              "\n",
              "\n",
              "<div id=\"df-55dfead0-a397-48b9-8331-320d2c741809\">\n",
              "  <button class=\"colab-df-quickchart\" onclick=\"quickchart('df-55dfead0-a397-48b9-8331-320d2c741809')\"\n",
              "            title=\"Suggest charts\"\n",
              "            style=\"display:none;\">\n",
              "\n",
              "<svg xmlns=\"http://www.w3.org/2000/svg\" height=\"24px\"viewBox=\"0 0 24 24\"\n",
              "     width=\"24px\">\n",
              "    <g>\n",
              "        <path d=\"M19 3H5c-1.1 0-2 .9-2 2v14c0 1.1.9 2 2 2h14c1.1 0 2-.9 2-2V5c0-1.1-.9-2-2-2zM9 17H7v-7h2v7zm4 0h-2V7h2v10zm4 0h-2v-4h2v4z\"/>\n",
              "    </g>\n",
              "</svg>\n",
              "  </button>\n",
              "\n",
              "<style>\n",
              "  .colab-df-quickchart {\n",
              "      --bg-color: #E8F0FE;\n",
              "      --fill-color: #1967D2;\n",
              "      --hover-bg-color: #E2EBFA;\n",
              "      --hover-fill-color: #174EA6;\n",
              "      --disabled-fill-color: #AAA;\n",
              "      --disabled-bg-color: #DDD;\n",
              "  }\n",
              "\n",
              "  [theme=dark] .colab-df-quickchart {\n",
              "      --bg-color: #3B4455;\n",
              "      --fill-color: #D2E3FC;\n",
              "      --hover-bg-color: #434B5C;\n",
              "      --hover-fill-color: #FFFFFF;\n",
              "      --disabled-bg-color: #3B4455;\n",
              "      --disabled-fill-color: #666;\n",
              "  }\n",
              "\n",
              "  .colab-df-quickchart {\n",
              "    background-color: var(--bg-color);\n",
              "    border: none;\n",
              "    border-radius: 50%;\n",
              "    cursor: pointer;\n",
              "    display: none;\n",
              "    fill: var(--fill-color);\n",
              "    height: 32px;\n",
              "    padding: 0;\n",
              "    width: 32px;\n",
              "  }\n",
              "\n",
              "  .colab-df-quickchart:hover {\n",
              "    background-color: var(--hover-bg-color);\n",
              "    box-shadow: 0 1px 2px rgba(60, 64, 67, 0.3), 0 1px 3px 1px rgba(60, 64, 67, 0.15);\n",
              "    fill: var(--button-hover-fill-color);\n",
              "  }\n",
              "\n",
              "  .colab-df-quickchart-complete:disabled,\n",
              "  .colab-df-quickchart-complete:disabled:hover {\n",
              "    background-color: var(--disabled-bg-color);\n",
              "    fill: var(--disabled-fill-color);\n",
              "    box-shadow: none;\n",
              "  }\n",
              "\n",
              "  .colab-df-spinner {\n",
              "    border: 2px solid var(--fill-color);\n",
              "    border-color: transparent;\n",
              "    border-bottom-color: var(--fill-color);\n",
              "    animation:\n",
              "      spin 1s steps(1) infinite;\n",
              "  }\n",
              "\n",
              "  @keyframes spin {\n",
              "    0% {\n",
              "      border-color: transparent;\n",
              "      border-bottom-color: var(--fill-color);\n",
              "      border-left-color: var(--fill-color);\n",
              "    }\n",
              "    20% {\n",
              "      border-color: transparent;\n",
              "      border-left-color: var(--fill-color);\n",
              "      border-top-color: var(--fill-color);\n",
              "    }\n",
              "    30% {\n",
              "      border-color: transparent;\n",
              "      border-left-color: var(--fill-color);\n",
              "      border-top-color: var(--fill-color);\n",
              "      border-right-color: var(--fill-color);\n",
              "    }\n",
              "    40% {\n",
              "      border-color: transparent;\n",
              "      border-right-color: var(--fill-color);\n",
              "      border-top-color: var(--fill-color);\n",
              "    }\n",
              "    60% {\n",
              "      border-color: transparent;\n",
              "      border-right-color: var(--fill-color);\n",
              "    }\n",
              "    80% {\n",
              "      border-color: transparent;\n",
              "      border-right-color: var(--fill-color);\n",
              "      border-bottom-color: var(--fill-color);\n",
              "    }\n",
              "    90% {\n",
              "      border-color: transparent;\n",
              "      border-bottom-color: var(--fill-color);\n",
              "    }\n",
              "  }\n",
              "</style>\n",
              "\n",
              "  <script>\n",
              "    async function quickchart(key) {\n",
              "      const quickchartButtonEl =\n",
              "        document.querySelector('#' + key + ' button');\n",
              "      quickchartButtonEl.disabled = true;  // To prevent multiple clicks.\n",
              "      quickchartButtonEl.classList.add('colab-df-spinner');\n",
              "      try {\n",
              "        const charts = await google.colab.kernel.invokeFunction(\n",
              "            'suggestCharts', [key], {});\n",
              "      } catch (error) {\n",
              "        console.error('Error during call to suggestCharts:', error);\n",
              "      }\n",
              "      quickchartButtonEl.classList.remove('colab-df-spinner');\n",
              "      quickchartButtonEl.classList.add('colab-df-quickchart-complete');\n",
              "    }\n",
              "    (() => {\n",
              "      let quickchartButtonEl =\n",
              "        document.querySelector('#df-55dfead0-a397-48b9-8331-320d2c741809 button');\n",
              "      quickchartButtonEl.style.display =\n",
              "        google.colab.kernel.accessAllowed ? 'block' : 'none';\n",
              "    })();\n",
              "  </script>\n",
              "</div>\n",
              "\n",
              "    </div>\n",
              "  </div>\n"
            ],
            "application/vnd.google.colaboratory.intrinsic+json": {
              "type": "dataframe",
              "variable_name": "df_trues",
              "repr_error": "0"
            }
          },
          "metadata": {},
          "execution_count": 20
        }
      ],
      "source": [
        "df_trues.head()"
      ]
    },
    {
      "cell_type": "markdown",
      "metadata": {
        "id": "yoiZ1mcQxhKA"
      },
      "source": [
        "Concat two different dataset"
      ]
    },
    {
      "cell_type": "code",
      "execution_count": 21,
      "metadata": {
        "id": "cT7piqaXsQAu"
      },
      "outputs": [],
      "source": [
        "df = pd.concat([df_trues,df_fakes],axis=0)"
      ]
    },
    {
      "cell_type": "code",
      "execution_count": 22,
      "metadata": {
        "colab": {
          "base_uri": "https://localhost:8080/"
        },
        "id": "c5Mgot2GsQDv",
        "outputId": "029ebab9-7f66-49ca-a7b5-32fcce53214d"
      },
      "outputs": [
        {
          "output_type": "execute_result",
          "data": {
            "text/plain": [
              "(1000, 5)"
            ]
          },
          "metadata": {},
          "execution_count": 22
        }
      ],
      "source": [
        "df.shape"
      ]
    },
    {
      "cell_type": "code",
      "execution_count": 23,
      "metadata": {
        "colab": {
          "base_uri": "https://localhost:8080/",
          "height": 206
        },
        "id": "sNg65CwAsQGn",
        "outputId": "09e0b6e6-44dd-497b-e41d-052d7baebdb5"
      },
      "outputs": [
        {
          "output_type": "execute_result",
          "data": {
            "text/plain": [
              "                                                   title  \\\n",
              "10619  Clinton wins big in South Carolina on way to '...   \n",
              "4888   Trump vows appeal up to Supreme Court after lo...   \n",
              "2612   Trump talks pardons amid probes of Russia role...   \n",
              "14791  China corruption could lead to Soviet-style co...   \n",
              "13492          Passenger train derails in Spain, 21 hurt   \n",
              "\n",
              "                                                    text       subject  \\\n",
              "10619  COLUMBIA, S.C. (Reuters) - U.S. Democratic pre...  politicsNews   \n",
              "4888   HONOLULU/NEW YORK (Reuters) - A defiant Presid...  politicsNews   \n",
              "2612   NORFOLK, Va. (Reuters) - U.S. President Donald...  politicsNews   \n",
              "14791  BEIJING (Reuters) - China must step up its bat...     worldnews   \n",
              "13492  MADRID (Reuters) - A passenger train derailed ...     worldnews   \n",
              "\n",
              "                     date  target  \n",
              "10619  February 27, 2016        0  \n",
              "4888      March 16, 2017        0  \n",
              "2612       July 22, 2017        0  \n",
              "14791  November 15, 2017        0  \n",
              "13492  November 29, 2017        0  "
            ],
            "text/html": [
              "\n",
              "  <div id=\"df-4bd3b133-8050-4e19-930f-d772a1126ea9\" class=\"colab-df-container\">\n",
              "    <div>\n",
              "<style scoped>\n",
              "    .dataframe tbody tr th:only-of-type {\n",
              "        vertical-align: middle;\n",
              "    }\n",
              "\n",
              "    .dataframe tbody tr th {\n",
              "        vertical-align: top;\n",
              "    }\n",
              "\n",
              "    .dataframe thead th {\n",
              "        text-align: right;\n",
              "    }\n",
              "</style>\n",
              "<table border=\"1\" class=\"dataframe\">\n",
              "  <thead>\n",
              "    <tr style=\"text-align: right;\">\n",
              "      <th></th>\n",
              "      <th>title</th>\n",
              "      <th>text</th>\n",
              "      <th>subject</th>\n",
              "      <th>date</th>\n",
              "      <th>target</th>\n",
              "    </tr>\n",
              "  </thead>\n",
              "  <tbody>\n",
              "    <tr>\n",
              "      <th>10619</th>\n",
              "      <td>Clinton wins big in South Carolina on way to '...</td>\n",
              "      <td>COLUMBIA, S.C. (Reuters) - U.S. Democratic pre...</td>\n",
              "      <td>politicsNews</td>\n",
              "      <td>February 27, 2016</td>\n",
              "      <td>0</td>\n",
              "    </tr>\n",
              "    <tr>\n",
              "      <th>4888</th>\n",
              "      <td>Trump vows appeal up to Supreme Court after lo...</td>\n",
              "      <td>HONOLULU/NEW YORK (Reuters) - A defiant Presid...</td>\n",
              "      <td>politicsNews</td>\n",
              "      <td>March 16, 2017</td>\n",
              "      <td>0</td>\n",
              "    </tr>\n",
              "    <tr>\n",
              "      <th>2612</th>\n",
              "      <td>Trump talks pardons amid probes of Russia role...</td>\n",
              "      <td>NORFOLK, Va. (Reuters) - U.S. President Donald...</td>\n",
              "      <td>politicsNews</td>\n",
              "      <td>July 22, 2017</td>\n",
              "      <td>0</td>\n",
              "    </tr>\n",
              "    <tr>\n",
              "      <th>14791</th>\n",
              "      <td>China corruption could lead to Soviet-style co...</td>\n",
              "      <td>BEIJING (Reuters) - China must step up its bat...</td>\n",
              "      <td>worldnews</td>\n",
              "      <td>November 15, 2017</td>\n",
              "      <td>0</td>\n",
              "    </tr>\n",
              "    <tr>\n",
              "      <th>13492</th>\n",
              "      <td>Passenger train derails in Spain, 21 hurt</td>\n",
              "      <td>MADRID (Reuters) - A passenger train derailed ...</td>\n",
              "      <td>worldnews</td>\n",
              "      <td>November 29, 2017</td>\n",
              "      <td>0</td>\n",
              "    </tr>\n",
              "  </tbody>\n",
              "</table>\n",
              "</div>\n",
              "    <div class=\"colab-df-buttons\">\n",
              "\n",
              "  <div class=\"colab-df-container\">\n",
              "    <button class=\"colab-df-convert\" onclick=\"convertToInteractive('df-4bd3b133-8050-4e19-930f-d772a1126ea9')\"\n",
              "            title=\"Convert this dataframe to an interactive table.\"\n",
              "            style=\"display:none;\">\n",
              "\n",
              "  <svg xmlns=\"http://www.w3.org/2000/svg\" height=\"24px\" viewBox=\"0 -960 960 960\">\n",
              "    <path d=\"M120-120v-720h720v720H120Zm60-500h600v-160H180v160Zm220 220h160v-160H400v160Zm0 220h160v-160H400v160ZM180-400h160v-160H180v160Zm440 0h160v-160H620v160ZM180-180h160v-160H180v160Zm440 0h160v-160H620v160Z\"/>\n",
              "  </svg>\n",
              "    </button>\n",
              "\n",
              "  <style>\n",
              "    .colab-df-container {\n",
              "      display:flex;\n",
              "      gap: 12px;\n",
              "    }\n",
              "\n",
              "    .colab-df-convert {\n",
              "      background-color: #E8F0FE;\n",
              "      border: none;\n",
              "      border-radius: 50%;\n",
              "      cursor: pointer;\n",
              "      display: none;\n",
              "      fill: #1967D2;\n",
              "      height: 32px;\n",
              "      padding: 0 0 0 0;\n",
              "      width: 32px;\n",
              "    }\n",
              "\n",
              "    .colab-df-convert:hover {\n",
              "      background-color: #E2EBFA;\n",
              "      box-shadow: 0px 1px 2px rgba(60, 64, 67, 0.3), 0px 1px 3px 1px rgba(60, 64, 67, 0.15);\n",
              "      fill: #174EA6;\n",
              "    }\n",
              "\n",
              "    .colab-df-buttons div {\n",
              "      margin-bottom: 4px;\n",
              "    }\n",
              "\n",
              "    [theme=dark] .colab-df-convert {\n",
              "      background-color: #3B4455;\n",
              "      fill: #D2E3FC;\n",
              "    }\n",
              "\n",
              "    [theme=dark] .colab-df-convert:hover {\n",
              "      background-color: #434B5C;\n",
              "      box-shadow: 0px 1px 3px 1px rgba(0, 0, 0, 0.15);\n",
              "      filter: drop-shadow(0px 1px 2px rgba(0, 0, 0, 0.3));\n",
              "      fill: #FFFFFF;\n",
              "    }\n",
              "  </style>\n",
              "\n",
              "    <script>\n",
              "      const buttonEl =\n",
              "        document.querySelector('#df-4bd3b133-8050-4e19-930f-d772a1126ea9 button.colab-df-convert');\n",
              "      buttonEl.style.display =\n",
              "        google.colab.kernel.accessAllowed ? 'block' : 'none';\n",
              "\n",
              "      async function convertToInteractive(key) {\n",
              "        const element = document.querySelector('#df-4bd3b133-8050-4e19-930f-d772a1126ea9');\n",
              "        const dataTable =\n",
              "          await google.colab.kernel.invokeFunction('convertToInteractive',\n",
              "                                                    [key], {});\n",
              "        if (!dataTable) return;\n",
              "\n",
              "        const docLinkHtml = 'Like what you see? Visit the ' +\n",
              "          '<a target=\"_blank\" href=https://colab.research.google.com/notebooks/data_table.ipynb>data table notebook</a>'\n",
              "          + ' to learn more about interactive tables.';\n",
              "        element.innerHTML = '';\n",
              "        dataTable['output_type'] = 'display_data';\n",
              "        await google.colab.output.renderOutput(dataTable, element);\n",
              "        const docLink = document.createElement('div');\n",
              "        docLink.innerHTML = docLinkHtml;\n",
              "        element.appendChild(docLink);\n",
              "      }\n",
              "    </script>\n",
              "  </div>\n",
              "\n",
              "\n",
              "<div id=\"df-b0667b3f-98f9-4b6f-b39c-d5468f0072b9\">\n",
              "  <button class=\"colab-df-quickchart\" onclick=\"quickchart('df-b0667b3f-98f9-4b6f-b39c-d5468f0072b9')\"\n",
              "            title=\"Suggest charts\"\n",
              "            style=\"display:none;\">\n",
              "\n",
              "<svg xmlns=\"http://www.w3.org/2000/svg\" height=\"24px\"viewBox=\"0 0 24 24\"\n",
              "     width=\"24px\">\n",
              "    <g>\n",
              "        <path d=\"M19 3H5c-1.1 0-2 .9-2 2v14c0 1.1.9 2 2 2h14c1.1 0 2-.9 2-2V5c0-1.1-.9-2-2-2zM9 17H7v-7h2v7zm4 0h-2V7h2v10zm4 0h-2v-4h2v4z\"/>\n",
              "    </g>\n",
              "</svg>\n",
              "  </button>\n",
              "\n",
              "<style>\n",
              "  .colab-df-quickchart {\n",
              "      --bg-color: #E8F0FE;\n",
              "      --fill-color: #1967D2;\n",
              "      --hover-bg-color: #E2EBFA;\n",
              "      --hover-fill-color: #174EA6;\n",
              "      --disabled-fill-color: #AAA;\n",
              "      --disabled-bg-color: #DDD;\n",
              "  }\n",
              "\n",
              "  [theme=dark] .colab-df-quickchart {\n",
              "      --bg-color: #3B4455;\n",
              "      --fill-color: #D2E3FC;\n",
              "      --hover-bg-color: #434B5C;\n",
              "      --hover-fill-color: #FFFFFF;\n",
              "      --disabled-bg-color: #3B4455;\n",
              "      --disabled-fill-color: #666;\n",
              "  }\n",
              "\n",
              "  .colab-df-quickchart {\n",
              "    background-color: var(--bg-color);\n",
              "    border: none;\n",
              "    border-radius: 50%;\n",
              "    cursor: pointer;\n",
              "    display: none;\n",
              "    fill: var(--fill-color);\n",
              "    height: 32px;\n",
              "    padding: 0;\n",
              "    width: 32px;\n",
              "  }\n",
              "\n",
              "  .colab-df-quickchart:hover {\n",
              "    background-color: var(--hover-bg-color);\n",
              "    box-shadow: 0 1px 2px rgba(60, 64, 67, 0.3), 0 1px 3px 1px rgba(60, 64, 67, 0.15);\n",
              "    fill: var(--button-hover-fill-color);\n",
              "  }\n",
              "\n",
              "  .colab-df-quickchart-complete:disabled,\n",
              "  .colab-df-quickchart-complete:disabled:hover {\n",
              "    background-color: var(--disabled-bg-color);\n",
              "    fill: var(--disabled-fill-color);\n",
              "    box-shadow: none;\n",
              "  }\n",
              "\n",
              "  .colab-df-spinner {\n",
              "    border: 2px solid var(--fill-color);\n",
              "    border-color: transparent;\n",
              "    border-bottom-color: var(--fill-color);\n",
              "    animation:\n",
              "      spin 1s steps(1) infinite;\n",
              "  }\n",
              "\n",
              "  @keyframes spin {\n",
              "    0% {\n",
              "      border-color: transparent;\n",
              "      border-bottom-color: var(--fill-color);\n",
              "      border-left-color: var(--fill-color);\n",
              "    }\n",
              "    20% {\n",
              "      border-color: transparent;\n",
              "      border-left-color: var(--fill-color);\n",
              "      border-top-color: var(--fill-color);\n",
              "    }\n",
              "    30% {\n",
              "      border-color: transparent;\n",
              "      border-left-color: var(--fill-color);\n",
              "      border-top-color: var(--fill-color);\n",
              "      border-right-color: var(--fill-color);\n",
              "    }\n",
              "    40% {\n",
              "      border-color: transparent;\n",
              "      border-right-color: var(--fill-color);\n",
              "      border-top-color: var(--fill-color);\n",
              "    }\n",
              "    60% {\n",
              "      border-color: transparent;\n",
              "      border-right-color: var(--fill-color);\n",
              "    }\n",
              "    80% {\n",
              "      border-color: transparent;\n",
              "      border-right-color: var(--fill-color);\n",
              "      border-bottom-color: var(--fill-color);\n",
              "    }\n",
              "    90% {\n",
              "      border-color: transparent;\n",
              "      border-bottom-color: var(--fill-color);\n",
              "    }\n",
              "  }\n",
              "</style>\n",
              "\n",
              "  <script>\n",
              "    async function quickchart(key) {\n",
              "      const quickchartButtonEl =\n",
              "        document.querySelector('#' + key + ' button');\n",
              "      quickchartButtonEl.disabled = true;  // To prevent multiple clicks.\n",
              "      quickchartButtonEl.classList.add('colab-df-spinner');\n",
              "      try {\n",
              "        const charts = await google.colab.kernel.invokeFunction(\n",
              "            'suggestCharts', [key], {});\n",
              "      } catch (error) {\n",
              "        console.error('Error during call to suggestCharts:', error);\n",
              "      }\n",
              "      quickchartButtonEl.classList.remove('colab-df-spinner');\n",
              "      quickchartButtonEl.classList.add('colab-df-quickchart-complete');\n",
              "    }\n",
              "    (() => {\n",
              "      let quickchartButtonEl =\n",
              "        document.querySelector('#df-b0667b3f-98f9-4b6f-b39c-d5468f0072b9 button');\n",
              "      quickchartButtonEl.style.display =\n",
              "        google.colab.kernel.accessAllowed ? 'block' : 'none';\n",
              "    })();\n",
              "  </script>\n",
              "</div>\n",
              "\n",
              "    </div>\n",
              "  </div>\n"
            ],
            "application/vnd.google.colaboratory.intrinsic+json": {
              "type": "dataframe",
              "variable_name": "df",
              "summary": "{\n  \"name\": \"df\",\n  \"rows\": 1000,\n  \"fields\": [\n    {\n      \"column\": \"title\",\n      \"properties\": {\n        \"dtype\": \"string\",\n        \"num_unique_values\": 999,\n        \"samples\": [\n          \"Turkey's Erdogan says U.S. Jerusalem decision tramples on law\",\n          \"BREAKING NEWS: WATCH VIOLENT ANTIFA Cowards ATTACK, Drag Female Senior Citizen Holding US Flag At PRO-FREE SPEECH Rally In Boston\\u2026Successfully SHUT DOWN RALLY\",\n          \"Hillary Clinton says U.S. threats of war with North Korea 'dangerous, short-sighted'\"\n        ],\n        \"semantic_type\": \"\",\n        \"description\": \"\"\n      }\n    },\n    {\n      \"column\": \"text\",\n      \"properties\": {\n        \"dtype\": \"string\",\n        \"num_unique_values\": 986,\n        \"samples\": [\n          \"Outspoken British actress and columnist asks brilliant question:  Any mosques lit up in the colors of the Belgian flag?  She is dead on (no pun intended) about these  refugees  flooding Europe and attempting to flood (with the aid of Obama and Democrats like Hillary Clinton) America.KATIE HOPKINS has been told to  show some respect  for those affected by the Brussels terrorist attacks, after blaming what happened on refugees and German chancellor Angela Merkel.Look at you all. Gawping at pictures of death. Fascinated by the chaos you brought to our peaceful countries. You   the left   disgust me.  Katie Hopkins (@KTHopkins) March 22, 2016On a more positive note, the Jihadi's of Brussels just put Donald Trump much closer to the White House.  Katie Hopkins (@KTHopkins) March 22, 2016The controversial columnist said anyone who supported those fleeing war-torn countries was also in the frame for the blasts, which has so far claimed 34 lives.Any mosques lit up in the colours of the Belgium flag? No   thought not. Just celebrations in prayer houses country-wide #ReligionOfMurder  Katie Hopkins (@KTHopkins) March 22, 2016The 41-year-old told her 628,000 Twitter followers:  Next time you hear someone say we are safer IN the EU   remember Brussels. Seen as the heart of Europe, it is now jihadi central. Katie continued:  How can you separate the human from the political. Merkel   and her ilk   blew up Brussels #brexit.How can you separate the human from the political. Merkel   and her ilk- blew up Brussels. #brexit  Katie Hopkins (@KTHopkins) March 22, 2016How about we cut from pics of dead bodies on the Metro   to more boats, happily crossing the Med. liberal left   sh*t at joining the dots  Katie Hopkins (@KTHopkins) March 22, 2016 How about we cut from pics of dead bodies on the Metro   to more boats, happily crossing the Med. Liberal left   s*** at joining the dots. @KTHopkins totally agree xx  Danielle Mason   (@daniellemasonUK) March 22, 2016Katie added:  Every one of you who said refugees are welcome, if you said  let them in . You are responsible for Brussels. And you still can t see. Human traffickers setting up new cargo ship route from Libya to Italy. Are you ready Brussels? Open borders=open season for ISIS #brexit  Katie Hopkins (@KTHopkins) March 22, 2016Her remarks were quickly met by angry users who blasted her for the insensitive tweets. To those of us who thought what @KTHopkins has had to go through recently would open up a shred of humanity, sense or empathy have been disappointed,  one person wrote.Via: Express UK \",\n          \"Washington (Reuters) - Republican senators trying to repeal Obamacare are forming  consensus to keep some of the U.S. healthcare law\\u2019s taxes they long criticized, in hopes of delaying more drastic funding cuts, particularly to the Medicaid program for the poor and disabled.  First proposed by moderate Republicans, the idea is gaining traction among party members, according to five sources involved in or briefed on internal discussions. While no final decisions have been made, a sense of urgency has increased as Republicans draft a replacement bill to former President Barack Obama\\u2019s healthcare law before Congress goes on recess on June 30. But keeping some of the taxes in the Senate bill risks alienating conservatives. On Tuesday, 45 conservative groups and activists sent a letter to Republican Senator Orrin Hatch of Utah, the chairman of the Senate Committee on Finance, urging the Senate to repeal all Obamacare taxes. One cornerstone tax that could remain is the net investment income tax, which imposes a 3.8 percent surtax on capital gains, dividends and interest, the sources said. The taxes most likely to be abolished directly impact consumers and the health industry, including a tax on health insurance premiums, the so-called Cadillac tax on high-cost employer-provided insurance and the medical device tax. Another proposal being floated is to keep all the taxes from the Affordable Care Act, often called Obamacare, but to scale them back. A group of 13 Republican senators led by Majority Leader Mitch McConnell has not completed a full draft of the bill, but is sending pieces to the nonpartisan Congressional Budget Office to assess the impact of various provisions. The CBO\\u2019s assessment will help determine which taxes the Senate needs in order to pay for its replacement bill. It is not clear whether McConnell, or more conservative party members such as Senator Ted Cruz of Texas and Senator Mike Lee of Utah, are receptive to keeping some of the taxes. \\u201cI think most of the taxes are going to go away,\\u201d Senator John Thune of South Dakota, the Senate\\u2019s No. 3-ranking Republican, said on Tuesday. \\u201cOur members are still having a conversation about if we want to make changes that are in the end going to require some additional revenue.\\u201d Spokesmen for McConnell and Cruz declined to comment. A spokesman for Lee said he wants Republicans to abolish every tax that was included in a 2015 Obamacare repeal bill that Obama vetoed.  Since Obamacare became law in 2010, Republicans have campaigned on repealing the program that extended insurance coverage to 20 million additional Americans through both subsidized private insurance and an expansion of Medicaid. They have argued that the law is too costly and represents undue government interference in Americans\\u2019 healthcare. President Donald Trump promised to eliminate the law on his first day in office, but Republicans, who control the White House, the House of Representatives and the Senate, have struggled to coalesce around a single plan. Under Senate rules, their bill must replicate the $133 billion in savings projected by preliminary legislation that passed in the U.S. House of Representatives last month. That bill would end Obamacare\\u2019s expansion of Medicaid in 2020, slash its federal funding by more than $800 billion over 10 years and eliminate most of the law\\u2019s taxes. Moderate Republican senators from states that expanded Medicaid, including Rob Portman of Ohio, Shelley Moore Capito of West Virginia and Dean Heller of Nevada, have proposed phasing out the expansion over a seven-year period, from 2020 to 2027, to give state governors more time to cut program costs. That timeframe also prevents senators, who serve six-year terms, from having to run for re-election when Medicaid cuts have been implemented, two former Republican Senate aides said.  Some of Obamacare\\u2019s taxes could also be repealed later when Congress tackles new legislation overhauling the U.S. tax code, two current Senate aides said.  \\u201cThere\\u2019s no question that the current debate is not centered on eliminating all the taxes in Obamacare right now,\\u201d Senator Tim Scott of South Carolina said last week. Under a process called reconciliation, the bill needs at least 50 votes to pass, with Vice President Mike Pence casting the tie-breaking vote if needed. In an interview with Reuters last month, McConnell said he did not yet know how he would get enough votes for an Obamacare repeal. \\u201cThink of me with a Rubik\\u2019s cube, sitting there trying to think about what combination will get you to 50,\\u201d McConnell said.  \",\n          \"Crooked Hillary has met her match:  Hillary Clinton turned the State Department into her private hedge fund. Here is Trump s speech in its entirety. It is one of his best speeches to date and truly worth watching to the end.https://youtu.be/nO7GAbBoIF0\"\n        ],\n        \"semantic_type\": \"\",\n        \"description\": \"\"\n      }\n    },\n    {\n      \"column\": \"subject\",\n      \"properties\": {\n        \"dtype\": \"category\",\n        \"num_unique_values\": 8,\n        \"samples\": [\n          \"worldnews\",\n          \"Government News\",\n          \"politicsNews\"\n        ],\n        \"semantic_type\": \"\",\n        \"description\": \"\"\n      }\n    },\n    {\n      \"column\": \"date\",\n      \"properties\": {\n        \"dtype\": \"string\",\n        \"num_unique_values\": 704,\n        \"samples\": [\n          \"Mar 25, 2016\",\n          \"December 14, 2017 \",\n          \"October 4, 2016 \"\n        ],\n        \"semantic_type\": \"\",\n        \"description\": \"\"\n      }\n    },\n    {\n      \"column\": \"target\",\n      \"properties\": {\n        \"dtype\": \"number\",\n        \"std\": 0,\n        \"min\": 0,\n        \"max\": 1,\n        \"num_unique_values\": 2,\n        \"samples\": [\n          1,\n          0\n        ],\n        \"semantic_type\": \"\",\n        \"description\": \"\"\n      }\n    }\n  ]\n}"
            }
          },
          "metadata": {},
          "execution_count": 23
        }
      ],
      "source": [
        "df.head()"
      ]
    },
    {
      "cell_type": "code",
      "execution_count": 24,
      "metadata": {
        "colab": {
          "base_uri": "https://localhost:8080/",
          "height": 206
        },
        "id": "3ZsH8SypsQJM",
        "outputId": "1bfefb64-2b75-461d-a0b0-3a8b84f6a8e6"
      },
      "outputs": [
        {
          "output_type": "execute_result",
          "data": {
            "text/plain": [
              "                                                   title  \\\n",
              "21777  (VIDEO) OBAMA ON LETTERMAN: “WE IGNORE POCKETS...   \n",
              "1721    The White House Just Tried To Pretend Trump W...   \n",
              "1813    New York Daily News Cover SAVAGES White House...   \n",
              "17280  THE STATE THAT GETS MORE REFUGEES THAN ANY OTH...   \n",
              "2403    Gabby Giffords Shames GOP Rep. For Using Her ...   \n",
              "\n",
              "                                                    text          subject  \\\n",
              "21777  The stats don t lie on this one Obama s hoping...        left-news   \n",
              "1721   Earlier today, Donald Trump whined about being...             News   \n",
              "1813   The New York Daily News is not known for subtl...             News   \n",
              "17280  Here s one sure way to turn a solidly  red  st...  Government News   \n",
              "2403   Republicans across the country have been doing...             News   \n",
              "\n",
              "                    date  target  \n",
              "21777        May 5, 2015       1  \n",
              "1721      April 21, 2017       1  \n",
              "1813      April 12, 2017       1  \n",
              "17280       Jun 11, 2015       1  \n",
              "2403   February 23, 2017       1  "
            ],
            "text/html": [
              "\n",
              "  <div id=\"df-875f3734-aa5f-47bd-ad5c-045b32542454\" class=\"colab-df-container\">\n",
              "    <div>\n",
              "<style scoped>\n",
              "    .dataframe tbody tr th:only-of-type {\n",
              "        vertical-align: middle;\n",
              "    }\n",
              "\n",
              "    .dataframe tbody tr th {\n",
              "        vertical-align: top;\n",
              "    }\n",
              "\n",
              "    .dataframe thead th {\n",
              "        text-align: right;\n",
              "    }\n",
              "</style>\n",
              "<table border=\"1\" class=\"dataframe\">\n",
              "  <thead>\n",
              "    <tr style=\"text-align: right;\">\n",
              "      <th></th>\n",
              "      <th>title</th>\n",
              "      <th>text</th>\n",
              "      <th>subject</th>\n",
              "      <th>date</th>\n",
              "      <th>target</th>\n",
              "    </tr>\n",
              "  </thead>\n",
              "  <tbody>\n",
              "    <tr>\n",
              "      <th>21777</th>\n",
              "      <td>(VIDEO) OBAMA ON LETTERMAN: “WE IGNORE POCKETS...</td>\n",
              "      <td>The stats don t lie on this one Obama s hoping...</td>\n",
              "      <td>left-news</td>\n",
              "      <td>May 5, 2015</td>\n",
              "      <td>1</td>\n",
              "    </tr>\n",
              "    <tr>\n",
              "      <th>1721</th>\n",
              "      <td>The White House Just Tried To Pretend Trump W...</td>\n",
              "      <td>Earlier today, Donald Trump whined about being...</td>\n",
              "      <td>News</td>\n",
              "      <td>April 21, 2017</td>\n",
              "      <td>1</td>\n",
              "    </tr>\n",
              "    <tr>\n",
              "      <th>1813</th>\n",
              "      <td>New York Daily News Cover SAVAGES White House...</td>\n",
              "      <td>The New York Daily News is not known for subtl...</td>\n",
              "      <td>News</td>\n",
              "      <td>April 12, 2017</td>\n",
              "      <td>1</td>\n",
              "    </tr>\n",
              "    <tr>\n",
              "      <th>17280</th>\n",
              "      <td>THE STATE THAT GETS MORE REFUGEES THAN ANY OTH...</td>\n",
              "      <td>Here s one sure way to turn a solidly  red  st...</td>\n",
              "      <td>Government News</td>\n",
              "      <td>Jun 11, 2015</td>\n",
              "      <td>1</td>\n",
              "    </tr>\n",
              "    <tr>\n",
              "      <th>2403</th>\n",
              "      <td>Gabby Giffords Shames GOP Rep. For Using Her ...</td>\n",
              "      <td>Republicans across the country have been doing...</td>\n",
              "      <td>News</td>\n",
              "      <td>February 23, 2017</td>\n",
              "      <td>1</td>\n",
              "    </tr>\n",
              "  </tbody>\n",
              "</table>\n",
              "</div>\n",
              "    <div class=\"colab-df-buttons\">\n",
              "\n",
              "  <div class=\"colab-df-container\">\n",
              "    <button class=\"colab-df-convert\" onclick=\"convertToInteractive('df-875f3734-aa5f-47bd-ad5c-045b32542454')\"\n",
              "            title=\"Convert this dataframe to an interactive table.\"\n",
              "            style=\"display:none;\">\n",
              "\n",
              "  <svg xmlns=\"http://www.w3.org/2000/svg\" height=\"24px\" viewBox=\"0 -960 960 960\">\n",
              "    <path d=\"M120-120v-720h720v720H120Zm60-500h600v-160H180v160Zm220 220h160v-160H400v160Zm0 220h160v-160H400v160ZM180-400h160v-160H180v160Zm440 0h160v-160H620v160ZM180-180h160v-160H180v160Zm440 0h160v-160H620v160Z\"/>\n",
              "  </svg>\n",
              "    </button>\n",
              "\n",
              "  <style>\n",
              "    .colab-df-container {\n",
              "      display:flex;\n",
              "      gap: 12px;\n",
              "    }\n",
              "\n",
              "    .colab-df-convert {\n",
              "      background-color: #E8F0FE;\n",
              "      border: none;\n",
              "      border-radius: 50%;\n",
              "      cursor: pointer;\n",
              "      display: none;\n",
              "      fill: #1967D2;\n",
              "      height: 32px;\n",
              "      padding: 0 0 0 0;\n",
              "      width: 32px;\n",
              "    }\n",
              "\n",
              "    .colab-df-convert:hover {\n",
              "      background-color: #E2EBFA;\n",
              "      box-shadow: 0px 1px 2px rgba(60, 64, 67, 0.3), 0px 1px 3px 1px rgba(60, 64, 67, 0.15);\n",
              "      fill: #174EA6;\n",
              "    }\n",
              "\n",
              "    .colab-df-buttons div {\n",
              "      margin-bottom: 4px;\n",
              "    }\n",
              "\n",
              "    [theme=dark] .colab-df-convert {\n",
              "      background-color: #3B4455;\n",
              "      fill: #D2E3FC;\n",
              "    }\n",
              "\n",
              "    [theme=dark] .colab-df-convert:hover {\n",
              "      background-color: #434B5C;\n",
              "      box-shadow: 0px 1px 3px 1px rgba(0, 0, 0, 0.15);\n",
              "      filter: drop-shadow(0px 1px 2px rgba(0, 0, 0, 0.3));\n",
              "      fill: #FFFFFF;\n",
              "    }\n",
              "  </style>\n",
              "\n",
              "    <script>\n",
              "      const buttonEl =\n",
              "        document.querySelector('#df-875f3734-aa5f-47bd-ad5c-045b32542454 button.colab-df-convert');\n",
              "      buttonEl.style.display =\n",
              "        google.colab.kernel.accessAllowed ? 'block' : 'none';\n",
              "\n",
              "      async function convertToInteractive(key) {\n",
              "        const element = document.querySelector('#df-875f3734-aa5f-47bd-ad5c-045b32542454');\n",
              "        const dataTable =\n",
              "          await google.colab.kernel.invokeFunction('convertToInteractive',\n",
              "                                                    [key], {});\n",
              "        if (!dataTable) return;\n",
              "\n",
              "        const docLinkHtml = 'Like what you see? Visit the ' +\n",
              "          '<a target=\"_blank\" href=https://colab.research.google.com/notebooks/data_table.ipynb>data table notebook</a>'\n",
              "          + ' to learn more about interactive tables.';\n",
              "        element.innerHTML = '';\n",
              "        dataTable['output_type'] = 'display_data';\n",
              "        await google.colab.output.renderOutput(dataTable, element);\n",
              "        const docLink = document.createElement('div');\n",
              "        docLink.innerHTML = docLinkHtml;\n",
              "        element.appendChild(docLink);\n",
              "      }\n",
              "    </script>\n",
              "  </div>\n",
              "\n",
              "\n",
              "<div id=\"df-9c30bb5f-e4a1-4d87-b659-63a330711f1e\">\n",
              "  <button class=\"colab-df-quickchart\" onclick=\"quickchart('df-9c30bb5f-e4a1-4d87-b659-63a330711f1e')\"\n",
              "            title=\"Suggest charts\"\n",
              "            style=\"display:none;\">\n",
              "\n",
              "<svg xmlns=\"http://www.w3.org/2000/svg\" height=\"24px\"viewBox=\"0 0 24 24\"\n",
              "     width=\"24px\">\n",
              "    <g>\n",
              "        <path d=\"M19 3H5c-1.1 0-2 .9-2 2v14c0 1.1.9 2 2 2h14c1.1 0 2-.9 2-2V5c0-1.1-.9-2-2-2zM9 17H7v-7h2v7zm4 0h-2V7h2v10zm4 0h-2v-4h2v4z\"/>\n",
              "    </g>\n",
              "</svg>\n",
              "  </button>\n",
              "\n",
              "<style>\n",
              "  .colab-df-quickchart {\n",
              "      --bg-color: #E8F0FE;\n",
              "      --fill-color: #1967D2;\n",
              "      --hover-bg-color: #E2EBFA;\n",
              "      --hover-fill-color: #174EA6;\n",
              "      --disabled-fill-color: #AAA;\n",
              "      --disabled-bg-color: #DDD;\n",
              "  }\n",
              "\n",
              "  [theme=dark] .colab-df-quickchart {\n",
              "      --bg-color: #3B4455;\n",
              "      --fill-color: #D2E3FC;\n",
              "      --hover-bg-color: #434B5C;\n",
              "      --hover-fill-color: #FFFFFF;\n",
              "      --disabled-bg-color: #3B4455;\n",
              "      --disabled-fill-color: #666;\n",
              "  }\n",
              "\n",
              "  .colab-df-quickchart {\n",
              "    background-color: var(--bg-color);\n",
              "    border: none;\n",
              "    border-radius: 50%;\n",
              "    cursor: pointer;\n",
              "    display: none;\n",
              "    fill: var(--fill-color);\n",
              "    height: 32px;\n",
              "    padding: 0;\n",
              "    width: 32px;\n",
              "  }\n",
              "\n",
              "  .colab-df-quickchart:hover {\n",
              "    background-color: var(--hover-bg-color);\n",
              "    box-shadow: 0 1px 2px rgba(60, 64, 67, 0.3), 0 1px 3px 1px rgba(60, 64, 67, 0.15);\n",
              "    fill: var(--button-hover-fill-color);\n",
              "  }\n",
              "\n",
              "  .colab-df-quickchart-complete:disabled,\n",
              "  .colab-df-quickchart-complete:disabled:hover {\n",
              "    background-color: var(--disabled-bg-color);\n",
              "    fill: var(--disabled-fill-color);\n",
              "    box-shadow: none;\n",
              "  }\n",
              "\n",
              "  .colab-df-spinner {\n",
              "    border: 2px solid var(--fill-color);\n",
              "    border-color: transparent;\n",
              "    border-bottom-color: var(--fill-color);\n",
              "    animation:\n",
              "      spin 1s steps(1) infinite;\n",
              "  }\n",
              "\n",
              "  @keyframes spin {\n",
              "    0% {\n",
              "      border-color: transparent;\n",
              "      border-bottom-color: var(--fill-color);\n",
              "      border-left-color: var(--fill-color);\n",
              "    }\n",
              "    20% {\n",
              "      border-color: transparent;\n",
              "      border-left-color: var(--fill-color);\n",
              "      border-top-color: var(--fill-color);\n",
              "    }\n",
              "    30% {\n",
              "      border-color: transparent;\n",
              "      border-left-color: var(--fill-color);\n",
              "      border-top-color: var(--fill-color);\n",
              "      border-right-color: var(--fill-color);\n",
              "    }\n",
              "    40% {\n",
              "      border-color: transparent;\n",
              "      border-right-color: var(--fill-color);\n",
              "      border-top-color: var(--fill-color);\n",
              "    }\n",
              "    60% {\n",
              "      border-color: transparent;\n",
              "      border-right-color: var(--fill-color);\n",
              "    }\n",
              "    80% {\n",
              "      border-color: transparent;\n",
              "      border-right-color: var(--fill-color);\n",
              "      border-bottom-color: var(--fill-color);\n",
              "    }\n",
              "    90% {\n",
              "      border-color: transparent;\n",
              "      border-bottom-color: var(--fill-color);\n",
              "    }\n",
              "  }\n",
              "</style>\n",
              "\n",
              "  <script>\n",
              "    async function quickchart(key) {\n",
              "      const quickchartButtonEl =\n",
              "        document.querySelector('#' + key + ' button');\n",
              "      quickchartButtonEl.disabled = true;  // To prevent multiple clicks.\n",
              "      quickchartButtonEl.classList.add('colab-df-spinner');\n",
              "      try {\n",
              "        const charts = await google.colab.kernel.invokeFunction(\n",
              "            'suggestCharts', [key], {});\n",
              "      } catch (error) {\n",
              "        console.error('Error during call to suggestCharts:', error);\n",
              "      }\n",
              "      quickchartButtonEl.classList.remove('colab-df-spinner');\n",
              "      quickchartButtonEl.classList.add('colab-df-quickchart-complete');\n",
              "    }\n",
              "    (() => {\n",
              "      let quickchartButtonEl =\n",
              "        document.querySelector('#df-9c30bb5f-e4a1-4d87-b659-63a330711f1e button');\n",
              "      quickchartButtonEl.style.display =\n",
              "        google.colab.kernel.accessAllowed ? 'block' : 'none';\n",
              "    })();\n",
              "  </script>\n",
              "</div>\n",
              "\n",
              "    </div>\n",
              "  </div>\n"
            ],
            "application/vnd.google.colaboratory.intrinsic+json": {
              "type": "dataframe",
              "summary": "{\n  \"name\": \"df\",\n  \"rows\": 5,\n  \"fields\": [\n    {\n      \"column\": \"title\",\n      \"properties\": {\n        \"dtype\": \"string\",\n        \"num_unique_values\": 5,\n        \"samples\": [\n          \" The White House Just Tried To Pretend Trump Was WINNING, IMMEDIATELY Regrets It (DETAILS)\",\n          \" Gabby Giffords Shames GOP Rep. For Using Her Shooting As An Excuse To Hide From Town Halls\",\n          \" New York Daily News Cover SAVAGES White House For Spicer\\u2019s Hitler Gaffe (IMAGE)\"\n        ],\n        \"semantic_type\": \"\",\n        \"description\": \"\"\n      }\n    },\n    {\n      \"column\": \"text\",\n      \"properties\": {\n        \"dtype\": \"string\",\n        \"num_unique_values\": 5,\n        \"samples\": [\n          \"Earlier today, Donald Trump whined about being held to a  ridiculous standard  in his first 100 days as POTUS, despite spending two years bragging about all the things he would get done in his first 100 days. By now most of us know that Trump has hardly accomplished anything during his first several weeks in the White House, and there have been far more failures than successes.Now, the White House is joining in on the mounting pressure for Trump to actually do something before his first 100 days come to an end. The Trump administration is now bending over backwards to make it seem as if Trump s presidency isn t the massive failure we all know it is   and of course they had to lie to make that possible.The White House has just claimed that Congress is going to vote on healthcare and tax reform next week, and that the government will be open despite the fact that the Republicans don t have any votes lined up and Congress will only be in session for half the week. According to CNBC: The White House hopes language on a possible health-care deal can come as early as Friday or Saturday, leaving the potential for an agreement next week, a White House official told CNBC. The Senate Budget Committee is assisting with the draft, which would be introduced first in the House. This is absolutely insane, and clearly a response to the fact that Trump hasn t accomplished anything in his first 100 days and the Trump administration is desperate to have something to show for it. In just 4 days, Trump expects the House to vote on health care, examine Trump s tax plan, and keep the government open just so he can have at least one win. That s not going to happen, and the American people know it. Here s the overwhelmingly negative response to Trump and his  accomplishments :      Featured image via Pool / Getty Images\",\n          \"Republicans across the country have been doing all they can to avoid town hall meetings where angry constituents are waiting. But Rep. Louie Gohmert (R-TX) should win some type of award for his despicable excuse.Earlier this week, Gohmert claimed that he hadn t scheduled a town hall meeting to discuss important issues with the people he represents because with all the angry protesters around he s afraid of a shooting like the one that involved Congresswoman Gabby Giffords. But don t worry. This isn t because he s a coward. It s just that he wants to keep his constituents safe. Unfortunately, at this time there are groups from the more violent strains of the leftist ideology, some even being paid, who are preying on public town halls to wreak havoc and threaten public safety. Threats are nothing new to me and I have gotten my share as a felony judge. However, the House Sergeant at Arms advised us after former Congresswoman Gabby Giffords was shot at a public appearance, that civilian attendees at Congressional public events stand the most chance of being harmed or killed   just as happened there. In a scathing statement, Giffords slammed Gohmert for his cowardly comments and basically told him to grow a pair. She pointed out that her offices were open after her shooting. Giffords added that the representative who took her place during that difficult time also continued to hold town halls rather than hide from the people. Her statement ended by shaming Gohmert and telling him, point blank, to  have some courage. I was shot on a Saturday morning. By Monday morning my offices were open to the public. Ron Barber   at my side that Saturday, who was shot multiple times, then elected to Congress in my stead   held town halls. It s what the people deserve in a representative. In the past year, campaigning for gun safety, I have held over 50 public events. To the politicians who have abandoned their civic obligations, I say this: Have some courage. Face your constituents. Hold town halls. Giffords followed her statement up with a tweet that shared the same message.To the politicians who have abandoned their civic obligations, I say this: Have some courage. Face your constituents. Hold town halls.  Gabrielle Giffords (@GabbyGiffords) February 23, 2017It is also worth noting that Republicans aren t willing to pass legislation that might help control the massive gun problem clutching the United States. They d prefer to continue playing the puppet for the NRA and then hide from the people they re supposed to represent because they re scared that they might get shot. Unbelievable.Featured image via Spencer Platt/Getty Images\",\n          \"The New York Daily News is not known for subtlety when it comes to its covers. The snarky newspaper pulled no punches when it came to using its cover to go after White House Press Secretary Sean Spicer for calling concentration camps  Holocaust Centers  and invoking Nazi butcher Adolf Hitler when talking about Syrian dictator Bashar al-Assad. Wednesday morning s cover reads: Nazis murdered 2.7 million Jews, gassing 6,000 a day in Auschwtiz alone FORGOTTEN BY WHITE HOUSE Here is the image of that cover via New York Daily News Twitter:Of course, The New York Daily News isn t the first to go after Spicer for these remarks. The Anne Frank Center has called on Donald Trump to fire Spicer, as has House Minority Leader Nancy Pelosi. Further, this is part of a disturbing pattern of anti-Semitism from Team Trump. During the campaign he regularly retweeted white supremacists, most infamously when he tweeted a picture of Hillary Clinton over a pile of money with a Star of David that said,  Most Corrupt Candidate Ever.  This tweet caused such an uproar that House Speaker Paul Ryan was forced to speak out about it. After he was elected, Trump s White House deliberately left any mention of Jewish people out of their Holocaust Remembrance Day statement. And, of course, no one can forget that we have avowed white supremacists working in the West Wing.To that end, if this administration doesn t want to be called bigots, they need to stop acting like it. Get rid of the racists, homophobes, xenophobes, and other assorted overtly bigoted people.Don t hold your breath on that one, though. We ll have four years of this kind of stuff. The only silver lining may be that in the end, the GOP can no longer say that they don t traffic in bigotry, since it s right there in the White House for all to see, while their party is in charge.Featured image via Alex Wong/Getty Images\"\n        ],\n        \"semantic_type\": \"\",\n        \"description\": \"\"\n      }\n    },\n    {\n      \"column\": \"subject\",\n      \"properties\": {\n        \"dtype\": \"string\",\n        \"num_unique_values\": 3,\n        \"samples\": [\n          \"left-news\",\n          \"News\",\n          \"Government News\"\n        ],\n        \"semantic_type\": \"\",\n        \"description\": \"\"\n      }\n    },\n    {\n      \"column\": \"date\",\n      \"properties\": {\n        \"dtype\": \"string\",\n        \"num_unique_values\": 5,\n        \"samples\": [\n          \"April 21, 2017\",\n          \"February 23, 2017\",\n          \"April 12, 2017\"\n        ],\n        \"semantic_type\": \"\",\n        \"description\": \"\"\n      }\n    },\n    {\n      \"column\": \"target\",\n      \"properties\": {\n        \"dtype\": \"number\",\n        \"std\": 0,\n        \"min\": 1,\n        \"max\": 1,\n        \"num_unique_values\": 1,\n        \"samples\": [\n          1\n        ],\n        \"semantic_type\": \"\",\n        \"description\": \"\"\n      }\n    }\n  ]\n}"
            }
          },
          "metadata": {},
          "execution_count": 24
        }
      ],
      "source": [
        "df.tail()"
      ]
    },
    {
      "cell_type": "markdown",
      "metadata": {
        "id": "9Q45tRHix4qN"
      },
      "source": [
        "title,text,subject,date-> one_column e convert"
      ]
    },
    {
      "cell_type": "code",
      "execution_count": 25,
      "metadata": {
        "id": "a8r_ApzzsQMT"
      },
      "outputs": [],
      "source": [
        "df[\"content\"]=df[\"title\"]+ ' ' +df['text']+ ' ' +df[\"subject\"]+ ' ' +df[\"date\"]"
      ]
    },
    {
      "cell_type": "code",
      "execution_count": 26,
      "metadata": {
        "colab": {
          "base_uri": "https://localhost:8080/"
        },
        "id": "uuJdz5VksQPC",
        "outputId": "85e86db9-adb3-4c48-8b99-19c79518e90c"
      },
      "outputs": [
        {
          "output_type": "stream",
          "name": "stdout",
          "text": [
            "10619    Clinton wins big in South Carolina on way to '...\n",
            "4888     Trump vows appeal up to Supreme Court after lo...\n",
            "2612     Trump talks pardons amid probes of Russia role...\n",
            "14791    China corruption could lead to Soviet-style co...\n",
            "13492    Passenger train derails in Spain, 21 hurt MADR...\n",
            "                               ...                        \n",
            "21777    (VIDEO) OBAMA ON LETTERMAN: “WE IGNORE POCKETS...\n",
            "1721      The White House Just Tried To Pretend Trump W...\n",
            "1813      New York Daily News Cover SAVAGES White House...\n",
            "17280    THE STATE THAT GETS MORE REFUGEES THAN ANY OTH...\n",
            "2403      Gabby Giffords Shames GOP Rep. For Using Her ...\n",
            "Name: content, Length: 1000, dtype: object\n"
          ]
        }
      ],
      "source": [
        "print(df[\"content\"])"
      ]
    },
    {
      "cell_type": "markdown",
      "metadata": {
        "id": "3f4uGBzpyu2A"
      },
      "source": [
        "Stemming"
      ]
    },
    {
      "cell_type": "code",
      "execution_count": 27,
      "metadata": {
        "id": "1hcoDmeH2FDi"
      },
      "outputs": [],
      "source": [
        "port_stem=PorterStemmer()"
      ]
    },
    {
      "cell_type": "code",
      "execution_count": 28,
      "metadata": {
        "id": "yDd_JBQhsQSU"
      },
      "outputs": [],
      "source": [
        "def stemming(content):\n",
        "  stem_content=re.sub(\"[^a-zA-Z]\",' ',content)    #Remove regular Expression\n",
        "  stem_content=stem_content.lower()   #Convert all as lower-case\n",
        "  stem_content=stem_content.split()   #Split the word\n",
        "  stem_content=[port_stem.stem(word) for word in stem_content if word not in stopwords.words('english')]\n",
        "  stem_content=\" \".join(stem_content)\n",
        "  return stem_content"
      ]
    },
    {
      "cell_type": "code",
      "execution_count": 29,
      "metadata": {
        "id": "8gCCybxby2aZ"
      },
      "outputs": [],
      "source": [
        "df[\"content\"]=df[\"content\"].apply(stemming)"
      ]
    },
    {
      "cell_type": "markdown",
      "metadata": {
        "id": "C-BAlm49bT9-"
      },
      "source": [
        "# Sentiment Analysis"
      ]
    },
    {
      "cell_type": "code",
      "execution_count": 30,
      "metadata": {
        "id": "FNcZOe_kbd-P"
      },
      "outputs": [],
      "source": [
        "from textblob import TextBlob"
      ]
    },
    {
      "cell_type": "code",
      "execution_count": 31,
      "metadata": {
        "id": "fVXMnIYQbYn8"
      },
      "outputs": [],
      "source": [
        "def get_sentiment(text):\n",
        "    analysis = TextBlob(text)\n",
        "    return analysis.sentiment.polarity"
      ]
    },
    {
      "cell_type": "code",
      "execution_count": 32,
      "metadata": {
        "id": "sBIyyHggbYki"
      },
      "outputs": [],
      "source": [
        "df['sentiment'] = df['content'].apply(get_sentiment)"
      ]
    },
    {
      "cell_type": "code",
      "execution_count": 33,
      "metadata": {
        "colab": {
          "base_uri": "https://localhost:8080/"
        },
        "id": "N5UEC9pubYW6",
        "outputId": "98f9052f-b233-4325-b1cb-2a6ed9c220b5"
      },
      "outputs": [
        {
          "output_type": "stream",
          "name": "stdout",
          "text": [
            "10619    0.231996\n",
            "4888     0.096980\n",
            "2612     0.172956\n",
            "14791   -0.107484\n",
            "13492   -0.185476\n",
            "           ...   \n",
            "21777   -0.017497\n",
            "1721     0.116667\n",
            "1813     0.105962\n",
            "17280    0.093002\n",
            "2403     0.015289\n",
            "Name: sentiment, Length: 1000, dtype: float64\n"
          ]
        }
      ],
      "source": [
        "\n",
        "print(df[\"sentiment\"])"
      ]
    },
    {
      "cell_type": "code",
      "execution_count": 34,
      "metadata": {
        "colab": {
          "base_uri": "https://localhost:8080/",
          "height": 293
        },
        "id": "Zhi02Vlac1zJ",
        "outputId": "bb386a39-7cf5-4674-f256-67226e042553"
      },
      "outputs": [
        {
          "output_type": "execute_result",
          "data": {
            "text/plain": [
              "                                                   title  \\\n",
              "10619  Clinton wins big in South Carolina on way to '...   \n",
              "4888   Trump vows appeal up to Supreme Court after lo...   \n",
              "2612   Trump talks pardons amid probes of Russia role...   \n",
              "14791  China corruption could lead to Soviet-style co...   \n",
              "13492          Passenger train derails in Spain, 21 hurt   \n",
              "\n",
              "                                                    text       subject  \\\n",
              "10619  COLUMBIA, S.C. (Reuters) - U.S. Democratic pre...  politicsNews   \n",
              "4888   HONOLULU/NEW YORK (Reuters) - A defiant Presid...  politicsNews   \n",
              "2612   NORFOLK, Va. (Reuters) - U.S. President Donald...  politicsNews   \n",
              "14791  BEIJING (Reuters) - China must step up its bat...     worldnews   \n",
              "13492  MADRID (Reuters) - A passenger train derailed ...     worldnews   \n",
              "\n",
              "                     date  target  \\\n",
              "10619  February 27, 2016        0   \n",
              "4888      March 16, 2017        0   \n",
              "2612       July 22, 2017        0   \n",
              "14791  November 15, 2017        0   \n",
              "13492  November 29, 2017        0   \n",
              "\n",
              "                                                 content  sentiment  \n",
              "10619  clinton win big south carolina way super tuesd...   0.231996  \n",
              "4888   trump vow appeal suprem court loss travel ban ...   0.096980  \n",
              "2612   trump talk pardon amid probe russia role u ele...   0.172956  \n",
              "14791  china corrupt could lead soviet style collaps ...  -0.107484  \n",
              "13492  passeng train derail spain hurt madrid reuter ...  -0.185476  "
            ],
            "text/html": [
              "\n",
              "  <div id=\"df-f7640b57-86ff-47fd-8e90-d2a253f9c9ce\" class=\"colab-df-container\">\n",
              "    <div>\n",
              "<style scoped>\n",
              "    .dataframe tbody tr th:only-of-type {\n",
              "        vertical-align: middle;\n",
              "    }\n",
              "\n",
              "    .dataframe tbody tr th {\n",
              "        vertical-align: top;\n",
              "    }\n",
              "\n",
              "    .dataframe thead th {\n",
              "        text-align: right;\n",
              "    }\n",
              "</style>\n",
              "<table border=\"1\" class=\"dataframe\">\n",
              "  <thead>\n",
              "    <tr style=\"text-align: right;\">\n",
              "      <th></th>\n",
              "      <th>title</th>\n",
              "      <th>text</th>\n",
              "      <th>subject</th>\n",
              "      <th>date</th>\n",
              "      <th>target</th>\n",
              "      <th>content</th>\n",
              "      <th>sentiment</th>\n",
              "    </tr>\n",
              "  </thead>\n",
              "  <tbody>\n",
              "    <tr>\n",
              "      <th>10619</th>\n",
              "      <td>Clinton wins big in South Carolina on way to '...</td>\n",
              "      <td>COLUMBIA, S.C. (Reuters) - U.S. Democratic pre...</td>\n",
              "      <td>politicsNews</td>\n",
              "      <td>February 27, 2016</td>\n",
              "      <td>0</td>\n",
              "      <td>clinton win big south carolina way super tuesd...</td>\n",
              "      <td>0.231996</td>\n",
              "    </tr>\n",
              "    <tr>\n",
              "      <th>4888</th>\n",
              "      <td>Trump vows appeal up to Supreme Court after lo...</td>\n",
              "      <td>HONOLULU/NEW YORK (Reuters) - A defiant Presid...</td>\n",
              "      <td>politicsNews</td>\n",
              "      <td>March 16, 2017</td>\n",
              "      <td>0</td>\n",
              "      <td>trump vow appeal suprem court loss travel ban ...</td>\n",
              "      <td>0.096980</td>\n",
              "    </tr>\n",
              "    <tr>\n",
              "      <th>2612</th>\n",
              "      <td>Trump talks pardons amid probes of Russia role...</td>\n",
              "      <td>NORFOLK, Va. (Reuters) - U.S. President Donald...</td>\n",
              "      <td>politicsNews</td>\n",
              "      <td>July 22, 2017</td>\n",
              "      <td>0</td>\n",
              "      <td>trump talk pardon amid probe russia role u ele...</td>\n",
              "      <td>0.172956</td>\n",
              "    </tr>\n",
              "    <tr>\n",
              "      <th>14791</th>\n",
              "      <td>China corruption could lead to Soviet-style co...</td>\n",
              "      <td>BEIJING (Reuters) - China must step up its bat...</td>\n",
              "      <td>worldnews</td>\n",
              "      <td>November 15, 2017</td>\n",
              "      <td>0</td>\n",
              "      <td>china corrupt could lead soviet style collaps ...</td>\n",
              "      <td>-0.107484</td>\n",
              "    </tr>\n",
              "    <tr>\n",
              "      <th>13492</th>\n",
              "      <td>Passenger train derails in Spain, 21 hurt</td>\n",
              "      <td>MADRID (Reuters) - A passenger train derailed ...</td>\n",
              "      <td>worldnews</td>\n",
              "      <td>November 29, 2017</td>\n",
              "      <td>0</td>\n",
              "      <td>passeng train derail spain hurt madrid reuter ...</td>\n",
              "      <td>-0.185476</td>\n",
              "    </tr>\n",
              "  </tbody>\n",
              "</table>\n",
              "</div>\n",
              "    <div class=\"colab-df-buttons\">\n",
              "\n",
              "  <div class=\"colab-df-container\">\n",
              "    <button class=\"colab-df-convert\" onclick=\"convertToInteractive('df-f7640b57-86ff-47fd-8e90-d2a253f9c9ce')\"\n",
              "            title=\"Convert this dataframe to an interactive table.\"\n",
              "            style=\"display:none;\">\n",
              "\n",
              "  <svg xmlns=\"http://www.w3.org/2000/svg\" height=\"24px\" viewBox=\"0 -960 960 960\">\n",
              "    <path d=\"M120-120v-720h720v720H120Zm60-500h600v-160H180v160Zm220 220h160v-160H400v160Zm0 220h160v-160H400v160ZM180-400h160v-160H180v160Zm440 0h160v-160H620v160ZM180-180h160v-160H180v160Zm440 0h160v-160H620v160Z\"/>\n",
              "  </svg>\n",
              "    </button>\n",
              "\n",
              "  <style>\n",
              "    .colab-df-container {\n",
              "      display:flex;\n",
              "      gap: 12px;\n",
              "    }\n",
              "\n",
              "    .colab-df-convert {\n",
              "      background-color: #E8F0FE;\n",
              "      border: none;\n",
              "      border-radius: 50%;\n",
              "      cursor: pointer;\n",
              "      display: none;\n",
              "      fill: #1967D2;\n",
              "      height: 32px;\n",
              "      padding: 0 0 0 0;\n",
              "      width: 32px;\n",
              "    }\n",
              "\n",
              "    .colab-df-convert:hover {\n",
              "      background-color: #E2EBFA;\n",
              "      box-shadow: 0px 1px 2px rgba(60, 64, 67, 0.3), 0px 1px 3px 1px rgba(60, 64, 67, 0.15);\n",
              "      fill: #174EA6;\n",
              "    }\n",
              "\n",
              "    .colab-df-buttons div {\n",
              "      margin-bottom: 4px;\n",
              "    }\n",
              "\n",
              "    [theme=dark] .colab-df-convert {\n",
              "      background-color: #3B4455;\n",
              "      fill: #D2E3FC;\n",
              "    }\n",
              "\n",
              "    [theme=dark] .colab-df-convert:hover {\n",
              "      background-color: #434B5C;\n",
              "      box-shadow: 0px 1px 3px 1px rgba(0, 0, 0, 0.15);\n",
              "      filter: drop-shadow(0px 1px 2px rgba(0, 0, 0, 0.3));\n",
              "      fill: #FFFFFF;\n",
              "    }\n",
              "  </style>\n",
              "\n",
              "    <script>\n",
              "      const buttonEl =\n",
              "        document.querySelector('#df-f7640b57-86ff-47fd-8e90-d2a253f9c9ce button.colab-df-convert');\n",
              "      buttonEl.style.display =\n",
              "        google.colab.kernel.accessAllowed ? 'block' : 'none';\n",
              "\n",
              "      async function convertToInteractive(key) {\n",
              "        const element = document.querySelector('#df-f7640b57-86ff-47fd-8e90-d2a253f9c9ce');\n",
              "        const dataTable =\n",
              "          await google.colab.kernel.invokeFunction('convertToInteractive',\n",
              "                                                    [key], {});\n",
              "        if (!dataTable) return;\n",
              "\n",
              "        const docLinkHtml = 'Like what you see? Visit the ' +\n",
              "          '<a target=\"_blank\" href=https://colab.research.google.com/notebooks/data_table.ipynb>data table notebook</a>'\n",
              "          + ' to learn more about interactive tables.';\n",
              "        element.innerHTML = '';\n",
              "        dataTable['output_type'] = 'display_data';\n",
              "        await google.colab.output.renderOutput(dataTable, element);\n",
              "        const docLink = document.createElement('div');\n",
              "        docLink.innerHTML = docLinkHtml;\n",
              "        element.appendChild(docLink);\n",
              "      }\n",
              "    </script>\n",
              "  </div>\n",
              "\n",
              "\n",
              "<div id=\"df-2a5832b6-4cc5-4dd2-ac34-dee54ce050f1\">\n",
              "  <button class=\"colab-df-quickchart\" onclick=\"quickchart('df-2a5832b6-4cc5-4dd2-ac34-dee54ce050f1')\"\n",
              "            title=\"Suggest charts\"\n",
              "            style=\"display:none;\">\n",
              "\n",
              "<svg xmlns=\"http://www.w3.org/2000/svg\" height=\"24px\"viewBox=\"0 0 24 24\"\n",
              "     width=\"24px\">\n",
              "    <g>\n",
              "        <path d=\"M19 3H5c-1.1 0-2 .9-2 2v14c0 1.1.9 2 2 2h14c1.1 0 2-.9 2-2V5c0-1.1-.9-2-2-2zM9 17H7v-7h2v7zm4 0h-2V7h2v10zm4 0h-2v-4h2v4z\"/>\n",
              "    </g>\n",
              "</svg>\n",
              "  </button>\n",
              "\n",
              "<style>\n",
              "  .colab-df-quickchart {\n",
              "      --bg-color: #E8F0FE;\n",
              "      --fill-color: #1967D2;\n",
              "      --hover-bg-color: #E2EBFA;\n",
              "      --hover-fill-color: #174EA6;\n",
              "      --disabled-fill-color: #AAA;\n",
              "      --disabled-bg-color: #DDD;\n",
              "  }\n",
              "\n",
              "  [theme=dark] .colab-df-quickchart {\n",
              "      --bg-color: #3B4455;\n",
              "      --fill-color: #D2E3FC;\n",
              "      --hover-bg-color: #434B5C;\n",
              "      --hover-fill-color: #FFFFFF;\n",
              "      --disabled-bg-color: #3B4455;\n",
              "      --disabled-fill-color: #666;\n",
              "  }\n",
              "\n",
              "  .colab-df-quickchart {\n",
              "    background-color: var(--bg-color);\n",
              "    border: none;\n",
              "    border-radius: 50%;\n",
              "    cursor: pointer;\n",
              "    display: none;\n",
              "    fill: var(--fill-color);\n",
              "    height: 32px;\n",
              "    padding: 0;\n",
              "    width: 32px;\n",
              "  }\n",
              "\n",
              "  .colab-df-quickchart:hover {\n",
              "    background-color: var(--hover-bg-color);\n",
              "    box-shadow: 0 1px 2px rgba(60, 64, 67, 0.3), 0 1px 3px 1px rgba(60, 64, 67, 0.15);\n",
              "    fill: var(--button-hover-fill-color);\n",
              "  }\n",
              "\n",
              "  .colab-df-quickchart-complete:disabled,\n",
              "  .colab-df-quickchart-complete:disabled:hover {\n",
              "    background-color: var(--disabled-bg-color);\n",
              "    fill: var(--disabled-fill-color);\n",
              "    box-shadow: none;\n",
              "  }\n",
              "\n",
              "  .colab-df-spinner {\n",
              "    border: 2px solid var(--fill-color);\n",
              "    border-color: transparent;\n",
              "    border-bottom-color: var(--fill-color);\n",
              "    animation:\n",
              "      spin 1s steps(1) infinite;\n",
              "  }\n",
              "\n",
              "  @keyframes spin {\n",
              "    0% {\n",
              "      border-color: transparent;\n",
              "      border-bottom-color: var(--fill-color);\n",
              "      border-left-color: var(--fill-color);\n",
              "    }\n",
              "    20% {\n",
              "      border-color: transparent;\n",
              "      border-left-color: var(--fill-color);\n",
              "      border-top-color: var(--fill-color);\n",
              "    }\n",
              "    30% {\n",
              "      border-color: transparent;\n",
              "      border-left-color: var(--fill-color);\n",
              "      border-top-color: var(--fill-color);\n",
              "      border-right-color: var(--fill-color);\n",
              "    }\n",
              "    40% {\n",
              "      border-color: transparent;\n",
              "      border-right-color: var(--fill-color);\n",
              "      border-top-color: var(--fill-color);\n",
              "    }\n",
              "    60% {\n",
              "      border-color: transparent;\n",
              "      border-right-color: var(--fill-color);\n",
              "    }\n",
              "    80% {\n",
              "      border-color: transparent;\n",
              "      border-right-color: var(--fill-color);\n",
              "      border-bottom-color: var(--fill-color);\n",
              "    }\n",
              "    90% {\n",
              "      border-color: transparent;\n",
              "      border-bottom-color: var(--fill-color);\n",
              "    }\n",
              "  }\n",
              "</style>\n",
              "\n",
              "  <script>\n",
              "    async function quickchart(key) {\n",
              "      const quickchartButtonEl =\n",
              "        document.querySelector('#' + key + ' button');\n",
              "      quickchartButtonEl.disabled = true;  // To prevent multiple clicks.\n",
              "      quickchartButtonEl.classList.add('colab-df-spinner');\n",
              "      try {\n",
              "        const charts = await google.colab.kernel.invokeFunction(\n",
              "            'suggestCharts', [key], {});\n",
              "      } catch (error) {\n",
              "        console.error('Error during call to suggestCharts:', error);\n",
              "      }\n",
              "      quickchartButtonEl.classList.remove('colab-df-spinner');\n",
              "      quickchartButtonEl.classList.add('colab-df-quickchart-complete');\n",
              "    }\n",
              "    (() => {\n",
              "      let quickchartButtonEl =\n",
              "        document.querySelector('#df-2a5832b6-4cc5-4dd2-ac34-dee54ce050f1 button');\n",
              "      quickchartButtonEl.style.display =\n",
              "        google.colab.kernel.accessAllowed ? 'block' : 'none';\n",
              "    })();\n",
              "  </script>\n",
              "</div>\n",
              "\n",
              "    </div>\n",
              "  </div>\n"
            ],
            "application/vnd.google.colaboratory.intrinsic+json": {
              "type": "dataframe",
              "variable_name": "df",
              "summary": "{\n  \"name\": \"df\",\n  \"rows\": 1000,\n  \"fields\": [\n    {\n      \"column\": \"title\",\n      \"properties\": {\n        \"dtype\": \"string\",\n        \"num_unique_values\": 999,\n        \"samples\": [\n          \"Turkey's Erdogan says U.S. Jerusalem decision tramples on law\",\n          \"BREAKING NEWS: WATCH VIOLENT ANTIFA Cowards ATTACK, Drag Female Senior Citizen Holding US Flag At PRO-FREE SPEECH Rally In Boston\\u2026Successfully SHUT DOWN RALLY\",\n          \"Hillary Clinton says U.S. threats of war with North Korea 'dangerous, short-sighted'\"\n        ],\n        \"semantic_type\": \"\",\n        \"description\": \"\"\n      }\n    },\n    {\n      \"column\": \"text\",\n      \"properties\": {\n        \"dtype\": \"string\",\n        \"num_unique_values\": 986,\n        \"samples\": [\n          \"Outspoken British actress and columnist asks brilliant question:  Any mosques lit up in the colors of the Belgian flag?  She is dead on (no pun intended) about these  refugees  flooding Europe and attempting to flood (with the aid of Obama and Democrats like Hillary Clinton) America.KATIE HOPKINS has been told to  show some respect  for those affected by the Brussels terrorist attacks, after blaming what happened on refugees and German chancellor Angela Merkel.Look at you all. Gawping at pictures of death. Fascinated by the chaos you brought to our peaceful countries. You   the left   disgust me.  Katie Hopkins (@KTHopkins) March 22, 2016On a more positive note, the Jihadi's of Brussels just put Donald Trump much closer to the White House.  Katie Hopkins (@KTHopkins) March 22, 2016The controversial columnist said anyone who supported those fleeing war-torn countries was also in the frame for the blasts, which has so far claimed 34 lives.Any mosques lit up in the colours of the Belgium flag? No   thought not. Just celebrations in prayer houses country-wide #ReligionOfMurder  Katie Hopkins (@KTHopkins) March 22, 2016The 41-year-old told her 628,000 Twitter followers:  Next time you hear someone say we are safer IN the EU   remember Brussels. Seen as the heart of Europe, it is now jihadi central. Katie continued:  How can you separate the human from the political. Merkel   and her ilk   blew up Brussels #brexit.How can you separate the human from the political. Merkel   and her ilk- blew up Brussels. #brexit  Katie Hopkins (@KTHopkins) March 22, 2016How about we cut from pics of dead bodies on the Metro   to more boats, happily crossing the Med. liberal left   sh*t at joining the dots  Katie Hopkins (@KTHopkins) March 22, 2016 How about we cut from pics of dead bodies on the Metro   to more boats, happily crossing the Med. Liberal left   s*** at joining the dots. @KTHopkins totally agree xx  Danielle Mason   (@daniellemasonUK) March 22, 2016Katie added:  Every one of you who said refugees are welcome, if you said  let them in . You are responsible for Brussels. And you still can t see. Human traffickers setting up new cargo ship route from Libya to Italy. Are you ready Brussels? Open borders=open season for ISIS #brexit  Katie Hopkins (@KTHopkins) March 22, 2016Her remarks were quickly met by angry users who blasted her for the insensitive tweets. To those of us who thought what @KTHopkins has had to go through recently would open up a shred of humanity, sense or empathy have been disappointed,  one person wrote.Via: Express UK \",\n          \"Washington (Reuters) - Republican senators trying to repeal Obamacare are forming  consensus to keep some of the U.S. healthcare law\\u2019s taxes they long criticized, in hopes of delaying more drastic funding cuts, particularly to the Medicaid program for the poor and disabled.  First proposed by moderate Republicans, the idea is gaining traction among party members, according to five sources involved in or briefed on internal discussions. While no final decisions have been made, a sense of urgency has increased as Republicans draft a replacement bill to former President Barack Obama\\u2019s healthcare law before Congress goes on recess on June 30. But keeping some of the taxes in the Senate bill risks alienating conservatives. On Tuesday, 45 conservative groups and activists sent a letter to Republican Senator Orrin Hatch of Utah, the chairman of the Senate Committee on Finance, urging the Senate to repeal all Obamacare taxes. One cornerstone tax that could remain is the net investment income tax, which imposes a 3.8 percent surtax on capital gains, dividends and interest, the sources said. The taxes most likely to be abolished directly impact consumers and the health industry, including a tax on health insurance premiums, the so-called Cadillac tax on high-cost employer-provided insurance and the medical device tax. Another proposal being floated is to keep all the taxes from the Affordable Care Act, often called Obamacare, but to scale them back. A group of 13 Republican senators led by Majority Leader Mitch McConnell has not completed a full draft of the bill, but is sending pieces to the nonpartisan Congressional Budget Office to assess the impact of various provisions. The CBO\\u2019s assessment will help determine which taxes the Senate needs in order to pay for its replacement bill. It is not clear whether McConnell, or more conservative party members such as Senator Ted Cruz of Texas and Senator Mike Lee of Utah, are receptive to keeping some of the taxes. \\u201cI think most of the taxes are going to go away,\\u201d Senator John Thune of South Dakota, the Senate\\u2019s No. 3-ranking Republican, said on Tuesday. \\u201cOur members are still having a conversation about if we want to make changes that are in the end going to require some additional revenue.\\u201d Spokesmen for McConnell and Cruz declined to comment. A spokesman for Lee said he wants Republicans to abolish every tax that was included in a 2015 Obamacare repeal bill that Obama vetoed.  Since Obamacare became law in 2010, Republicans have campaigned on repealing the program that extended insurance coverage to 20 million additional Americans through both subsidized private insurance and an expansion of Medicaid. They have argued that the law is too costly and represents undue government interference in Americans\\u2019 healthcare. President Donald Trump promised to eliminate the law on his first day in office, but Republicans, who control the White House, the House of Representatives and the Senate, have struggled to coalesce around a single plan. Under Senate rules, their bill must replicate the $133 billion in savings projected by preliminary legislation that passed in the U.S. House of Representatives last month. That bill would end Obamacare\\u2019s expansion of Medicaid in 2020, slash its federal funding by more than $800 billion over 10 years and eliminate most of the law\\u2019s taxes. Moderate Republican senators from states that expanded Medicaid, including Rob Portman of Ohio, Shelley Moore Capito of West Virginia and Dean Heller of Nevada, have proposed phasing out the expansion over a seven-year period, from 2020 to 2027, to give state governors more time to cut program costs. That timeframe also prevents senators, who serve six-year terms, from having to run for re-election when Medicaid cuts have been implemented, two former Republican Senate aides said.  Some of Obamacare\\u2019s taxes could also be repealed later when Congress tackles new legislation overhauling the U.S. tax code, two current Senate aides said.  \\u201cThere\\u2019s no question that the current debate is not centered on eliminating all the taxes in Obamacare right now,\\u201d Senator Tim Scott of South Carolina said last week. Under a process called reconciliation, the bill needs at least 50 votes to pass, with Vice President Mike Pence casting the tie-breaking vote if needed. In an interview with Reuters last month, McConnell said he did not yet know how he would get enough votes for an Obamacare repeal. \\u201cThink of me with a Rubik\\u2019s cube, sitting there trying to think about what combination will get you to 50,\\u201d McConnell said.  \",\n          \"Crooked Hillary has met her match:  Hillary Clinton turned the State Department into her private hedge fund. Here is Trump s speech in its entirety. It is one of his best speeches to date and truly worth watching to the end.https://youtu.be/nO7GAbBoIF0\"\n        ],\n        \"semantic_type\": \"\",\n        \"description\": \"\"\n      }\n    },\n    {\n      \"column\": \"subject\",\n      \"properties\": {\n        \"dtype\": \"category\",\n        \"num_unique_values\": 8,\n        \"samples\": [\n          \"worldnews\",\n          \"Government News\",\n          \"politicsNews\"\n        ],\n        \"semantic_type\": \"\",\n        \"description\": \"\"\n      }\n    },\n    {\n      \"column\": \"date\",\n      \"properties\": {\n        \"dtype\": \"string\",\n        \"num_unique_values\": 704,\n        \"samples\": [\n          \"Mar 25, 2016\",\n          \"December 14, 2017 \",\n          \"October 4, 2016 \"\n        ],\n        \"semantic_type\": \"\",\n        \"description\": \"\"\n      }\n    },\n    {\n      \"column\": \"target\",\n      \"properties\": {\n        \"dtype\": \"number\",\n        \"std\": 0,\n        \"min\": 0,\n        \"max\": 1,\n        \"num_unique_values\": 2,\n        \"samples\": [\n          1,\n          0\n        ],\n        \"semantic_type\": \"\",\n        \"description\": \"\"\n      }\n    },\n    {\n      \"column\": \"content\",\n      \"properties\": {\n        \"dtype\": \"string\",\n        \"num_unique_values\": 1000,\n        \"samples\": [\n          \"iran make major announc plan use billion obama buck video iran use billion cash resourc provid landmark nuclear deal engag unpreced militari buildup meant transform islam republ fight forc offens juggernaut accord larg unreport announc iranian militari leader spark concern among u nation secur insid sourc capitol hill shock truth behind us iran nuclear deal wsj report john kerri obama administr airlift bn cash compromis payment read bribe tehran ensur releas captur sailor coincident weekend sign nuclear deal wooden pallet stack euro swiss franc currenc flown iran unmark cargo plane accord offici u procur money central bank netherland switzerland said cours senior u offici deni link payment prison exchang say way variou strand came togeth simultan coincident result quid pro quo zero hedgeit appear obama chicken come home roost iranian offici announc late last month iran defens budget increas percent presid hassan rouhani militari move forward massiv restructur effort aim make forward move forc accord region report iranian leader state sinc iran deal enact use massiv amount cash releas agreement fund purchas new militari equip armament iran also pursu multi million dollar arm deal russia sinc econom sanction nix part deal lead member congress u offici work iran portfolio suspect least portion obama administr billion cash payment iran use fund support terrorist middl east latest disclosur iran militari buildup fuel concern u cash asset return countri releas string attach obama administr help iran pursu aggress militari stanc u forc region presid obama flat cave iran hand disastr nuclear deal billion cash payment could assist iran militari rep sean duffi r wi oppon nuclear deal told washington free beacon surpris world lead sponsor terror would feel embolden becom aggress region flex militari muscl iranian brigadi gener kiumar heidari announc militari buildup iran annual armi day announc grab mani headlin western media nation secur insid discuss announc week accord convers multipl sourc iran goal turn armi offens forc major shift histor role support agent iranian revolutionari guard corp irgc iran extrem well fund primari fight forc entir stori washington free beacon polit may\",\n          \"yike trump announc major speech hillari monday think go find inform interest crook hillari met match hillari clinton turn state depart privat hedg fund trump speech entireti one best speech date truli worth watch end http youtu gabboif polit jun\"\n        ],\n        \"semantic_type\": \"\",\n        \"description\": \"\"\n      }\n    },\n    {\n      \"column\": \"sentiment\",\n      \"properties\": {\n        \"dtype\": \"number\",\n        \"std\": 0.13177193741445722,\n        \"min\": -0.875,\n        \"max\": 0.6333333333333334,\n        \"num_unique_values\": 942,\n        \"samples\": [\n          0.24807692307692306,\n          0.003941008486463035\n        ],\n        \"semantic_type\": \"\",\n        \"description\": \"\"\n      }\n    }\n  ]\n}"
            }
          },
          "metadata": {},
          "execution_count": 34
        }
      ],
      "source": [
        "df.head()"
      ]
    },
    {
      "cell_type": "markdown",
      "metadata": {
        "id": "k7kEhB7F1x8s"
      },
      "source": [
        "# Feature extraction using TfidfVectorizer"
      ]
    },
    {
      "cell_type": "code",
      "execution_count": 35,
      "metadata": {
        "id": "csDr2BNZ3RUp"
      },
      "outputs": [],
      "source": [
        "X=df[[\"content\",\"sentiment\"]].values\n",
        "Y=df[\"target\"].values"
      ]
    },
    {
      "cell_type": "code",
      "execution_count": 36,
      "metadata": {
        "colab": {
          "base_uri": "https://localhost:8080/"
        },
        "id": "rOmjwiBX3RRU",
        "outputId": "98973084-ef37-446c-defc-7b18d927a1e8"
      },
      "outputs": [
        {
          "output_type": "stream",
          "name": "stdout",
          "text": [
            "[['clinton win big south carolina way super tuesday columbia c reuter u democrat presidenti candid hillari clinton crush rival berni sander south carolina primari saturday propel next week crucial super tuesday vote state wave momentum rout sander solidifi clinton statu strong front runner captur parti nomin nov elect quest becom america first woman presid nearli half vote count south carolina clinton led sander point margin dramat revers point loss state presid barack obama bitter primari battl former secretari state victori decis establish strength among black voter crucial democrat constitu make half parti primari elector south carolina win clinton appear look ahead gener elect matchup republican front runner donald trump billionair whose campaign slogan make america great call build wall border mexico despit hear need make america great america never stop great told cheer support columbia win instead build wall need tear barrier result clinton third victori first four democrat contest rais question whether sander democrat socialist u senat vermont abl expand support beyond base predominantli white liber today sent messag clinton said america stand togeth barrier big break sander admit defeat earli night let clear one thing tonight campaign begin decis victori new hampshir decis victori south carolina super tuesday sander said statement democrat race becom broader nation contest eleven state includ six south larg minor popul poll show clinton big lead vote super tuesday four next weekend tomorrow campaign goe nation clinton said clinton camp hope big win south carolina narrow victori iowa nevada sander clear win new hampshir set big night tuesday deleg grab one third need win nomin sander energ parti liber wing brought young peopl poll messag attack incom equal rein wall street need breakthrough win key state next week keep hope aliv door close fast berni sander unalign democrat strategist chri kofini said movement candid momentum excit loss sap momentum problem right recogn steep odd south carolina sander spent past week state vote march result roll saturday schedul hold ralli super tuesday state minnesota addit report alana wise washington edit alistair bell articl fund part sap independ creat reuter editori staff sap editori involv creation product politicsnew februari'\n",
            "  0.231995980210266]\n",
            " ['trump vow appeal suprem court loss travel ban honolulu new york reuter defiant presid donald trump pledg appeal u suprem court necessari fight revis travel ban part halt two differ feder judg recent day legal path forward challeng though lawsuit work way feder court opposit side countri hawaii maryland thursday feder judg washington state said also weigh temporari restrain order justic depart first step would like file appeal either case lost week action like come within day justic depart spokeswoman sarah isgur flore declin comment administr intent grant temporari restrain order ban challeng lawsuit brought state hawaii u district judg derrick watson found wednesday reason object observ would conclud execut order issu purpos disfavor particular religion trump execut order would temporarili ban refuge well travel six predominantli muslim countri presid said ban need nation secur earli thursday u district judg theodor chuang issu nationwid preliminari injunct case maryland brought refuge resettl agenc repres american civil liberti union nation immigr law center chuang rule group like succeed show travel ban portion execut order intend ban muslim result violat u constitut religi freedom guarante enjoin refuge portion ban avoid sow seed divis nation uphold fundament constitut principl core nation ident plainli serv signific public interest chuang wrote rule court order victori plaintiff earli step litig govern could ultim win underli case watson chuang appoint bench former democrat presid barack obama trump speak hawaii rule ralli nashvil wednesday call revis execut order water version first presid said would take case far need go includ suprem court order get rule ban legal trump administr small legal victori later thursday u district judg jame robart seattl last month block trump first travel ban rule second travel ban differ enough first would simpli appli preliminari injunct issu first ban second one said weigh request temporari restrain order new travel ban like next stop administr decid contest two rule lost week would th th u circuit court appeal may frosti venu trump argument major judg appoint democrat presid three judg th circuit upheld robart order last month first travel ban rather appeal administr withdrew ban promis retool way would address legal issu suprem court current split four conserv four liber justic ninth justic sinc death antonin scalia year ago trump nomine fill vacant suprem court seat neil gorsuch year old conserv like ask travel ban next week goe senat judiciari committe confirm hear republican hope senat vote confirm gorsuch court mid april would like late weigh emerg appeal travel ban trump sign new ban march bid overcom legal problem januari execut order caus chao airport spark mass protest robart stop enforc februari watson order temporari broader argument case heard set expedit hear schedul determin rule extend politicsnew march'\n",
            "  0.09697993447993451]\n",
            " ['trump talk pardon amid probe russia role u elect norfolk va reuter u presid donald trump declar saturday complet power pardon administr confront ongo investig possibl tie campaign russia seri earli morn twitter messag trump air renew frustrat attorney gener special counsel lead russia probe republican congress struggl advanc legisl agenda trump comment pardon tuck attack media rais possibl consid option investig turn way hope trump specifi anyon might consid pardon tweet appear written respons report washington post week trump legal team examin presidenti power pardon trump aid famili member possibl even reuter confirm newspap account agre u presid complet power pardon think crime far leak us fake news trump wrote washington post cite current former u offici report friday russia ambassador unit state overheard u spi agenc tell boss discuss campaign relat matter trump advis jeff session last year session u senat session lead justic depart trump attorney gener illeg leak must stop trump tweet senat confirm hear cabinet posit session initi fail disclos contact russian ambassador sergei kislyak later said campaign march session recus russia probe interview new york time week trump lash session say would chosen attorney gener known session would recus trump defeat democrat hillari clinton last year presidenti elect continu use foil question session special counsel robert mueller investig former fbi director jame comey clinton email practic secretari state mani peopl ask g special counsel look mani hillari clinton comey crime email delet tweet scholar rais question scope presid legal author issu pardon trump move pardon sometim futur u suprem court might decid constitution specul trump accus wrongdo feder investig probe alleg russian meddl u presidenti elect mueller look relationship contact trump campaign offici russian elect congression committe also explor russia influenc u elect trump travel saturday norfolk virginia spoke commiss ceremoni aircraft carrier uss gerald r ford name republican presid held white hous remark trump made mention russia controversi focus speech need robust u militari spend trip trump retreat golf cours near washington lunch chief staff reinc priebu polici advis stephen miller treasuri secretari steven mnuchin wife white hous offici said priebu presenc entourag came day trump name new commun director anthoni scaramucci reportedli priebu object weekend trip come ahead busi week russia relat activ senat judiciari committe said friday trump eldest son donald trump jr trump former campaign manag paul manafort agre negoti whether interview panel russia investig trump jr manafort jare kushner presid son law one senior advis met russian lawyer natalia veselnitskaya june meet held trump tower new york lawyer offer damag inform clinton white hous also work trump campaign promis u healthcar system saturday tweet trump word republican senat abl agre way forward repeal replac former presid barack obama healthcar law afford care act becom known obamacar trump promis away presid republican senat must step plate year vote repeal replac next tax reform infrastructur win tweet politicsnew juli'\n",
            "  0.1729564553093965]\n",
            " ...\n",
            " ['new york daili news cover savag white hous spicer hitler gaff imag new york daili news known subtleti come cover snarki newspap pull punch came use cover go white hous press secretari sean spicer call concentr camp holocaust center invok nazi butcher adolf hitler talk syrian dictat bashar al assad wednesday morn cover read nazi murder million jew gass day auschwtiz alon forgotten white hous imag cover via new york daili news twitter cours new york daili news first go spicer remark ann frank center call donald trump fire spicer hous minor leader nanci pelosi part disturb pattern anti semit team trump campaign regularli retweet white supremacist infam tweet pictur hillari clinton pile money star david said corrupt candid ever tweet caus uproar hous speaker paul ryan forc speak elect trump white hous deliber left mention jewish peopl holocaust remembr day statement cours one forget avow white supremacist work west wing end administr want call bigot need stop act like get rid racist homophob xenophob assort overtli bigot peopl hold breath one though four year kind stuff silver line may end gop longer say traffic bigotri sinc right white hous see parti charg featur imag via alex wong getti imag news april'\n",
            "  0.10596221959858322]\n",
            " ['state get refuge america may surpris one sure way turn solidli red state blue fiscal year texa resettl refuge howev tell whole stori accord texa dept state health servic excel sourc inform refuge texa actual number migrant legal treat refuge last year realli previou year websit also tell counti got refuge includ refuge asyle parole special immigr visa holder afghan iraqi victim traffick hail countri therefor texa taxpay hook mani expens translat grati bill clinton execut order sort reason access health care school system problem crimin justic system went sever differ sourc find refuge resettl texa sinc number includ secondari migrant state dalla counti got secondari migrant last year arriv texa cours includ children produc three decad includ thousand unaccompani alien children may distribut around nation last year border invas obama would like noth declar refuge well refuge get form welfar upon arriv top resettl citi texa resettl limit site dozen dozen smaller citi town receiv refuge abileneamarilloaustincorpu christidallasel pasofort worthhoustonsan antoniofor new reader might want look archiv amarillo develop pocket resist mayor ask feder govern slow flow sinc school system suffer influx non english speak children mani illiter languag meatpack industri respons much resettl amarillo hunger cheap labor top nation texa receiv refuge order iraq cuba burma afghanistan tie th place somalia bhutan nepal texa move number one spot nation year year state rank texa includ california new york florida accord cool graph right texa gain dubiou distinct wonder number dip year learn iraqi terrorist disguis refuge arrest kentucki turn pair lie believ lie refuge applic found plan help al qaeda iraq discov one left fingerprint i shard wareh us militari shard came i kill pennsylvania nation guard troop prison life arrest threw refuge admiss program us state depart chao screen thousand thousand iraqi head america iraqi make largest ethnic group admit america rate year major muslim shiit sunni import centuri old squabbl town probabl accid barack obama gave teacher year award shanna peopl high school english teacher amarillo texa work refuge order question year old legal immigr program must first get fact read fact sheet open read link post go texa depart state health servic websit learn refuge come texa miss stat health condit refuge admit tb hepb hiv parasit state refuge coordin name caitriona lyon irish btw call ask direct texa refuge plan descript plan legal requir everi state one must keep current ask direct read rememb texa governor say happen refuge resettl via refuge resettl watch govern news jun'\n",
            "  0.09300205891669308]\n",
            " ['gabbi gifford shame gop rep use shoot excus hide town hall republican across countri avoid town hall meet angri constitu wait rep louie gohmert r tx win type award despic excus earlier week gohmert claim schedul town hall meet discuss import issu peopl repres angri protest around afraid shoot like one involv congresswoman gabbi gifford worri coward want keep constitu safe unfortun time group violent strain leftist ideolog even paid prey public town hall wreak havoc threaten public safeti threat noth new gotten share feloni judg howev hous sergeant arm advis us former congresswoman gabbi gifford shot public appear civilian attende congression public event stand chanc harm kill happen scath statement gifford slam gohmert cowardli comment basic told grow pair point offic open shoot gifford ad repres took place difficult time also continu hold town hall rather hide peopl statement end shame gohmert tell point blank courag shot saturday morn monday morn offic open public ron barber side saturday shot multipl time elect congress stead held town hall peopl deserv repres past year campaign gun safeti held public event politician abandon civic oblig say courag face constitu hold town hall gifford follow statement tweet share messag politician abandon civic oblig say courag face constitu hold town hall gabriel gifford gabbygifford februari also worth note republican will pass legisl might help control massiv gun problem clutch unit state prefer continu play puppet nra hide peopl suppos repres scare might get shot unbeliev featur imag via spencer platt getti imag news februari'\n",
            "  0.015289256198347107]]\n"
          ]
        }
      ],
      "source": [
        "print(X)"
      ]
    },
    {
      "cell_type": "code",
      "execution_count": 37,
      "metadata": {
        "id": "aTWgHBLC1w9E"
      },
      "outputs": [],
      "source": [
        "tfidf_vectorizer=TfidfVectorizer()"
      ]
    },
    {
      "cell_type": "code",
      "execution_count": 38,
      "metadata": {
        "id": "tUjibDU_1w5k"
      },
      "outputs": [],
      "source": [
        "tfidf_vectorizer.fit(X[: , 0])\n",
        "X_text=tfidf_vectorizer.transform(X[: , 0])"
      ]
    },
    {
      "cell_type": "code",
      "execution_count": 39,
      "metadata": {
        "colab": {
          "base_uri": "https://localhost:8080/"
        },
        "id": "9Wrq21SGeX4b",
        "outputId": "fe7bf7b4-3d58-4167-cf4d-90244d4edd6e"
      },
      "outputs": [
        {
          "output_type": "stream",
          "name": "stdout",
          "text": [
            "[['clinton win big south carolina way super tuesday columbia c reuter u democrat presidenti candid hillari clinton crush rival berni sander south carolina primari saturday propel next week crucial super tuesday vote state wave momentum rout sander solidifi clinton statu strong front runner captur parti nomin nov elect quest becom america first woman presid nearli half vote count south carolina clinton led sander point margin dramat revers point loss state presid barack obama bitter primari battl former secretari state victori decis establish strength among black voter crucial democrat constitu make half parti primari elector south carolina win clinton appear look ahead gener elect matchup republican front runner donald trump billionair whose campaign slogan make america great call build wall border mexico despit hear need make america great america never stop great told cheer support columbia win instead build wall need tear barrier result clinton third victori first four democrat contest rais question whether sander democrat socialist u senat vermont abl expand support beyond base predominantli white liber today sent messag clinton said america stand togeth barrier big break sander admit defeat earli night let clear one thing tonight campaign begin decis victori new hampshir decis victori south carolina super tuesday sander said statement democrat race becom broader nation contest eleven state includ six south larg minor popul poll show clinton big lead vote super tuesday four next weekend tomorrow campaign goe nation clinton said clinton camp hope big win south carolina narrow victori iowa nevada sander clear win new hampshir set big night tuesday deleg grab one third need win nomin sander energ parti liber wing brought young peopl poll messag attack incom equal rein wall street need breakthrough win key state next week keep hope aliv door close fast berni sander unalign democrat strategist chri kofini said movement candid momentum excit loss sap momentum problem right recogn steep odd south carolina sander spent past week state vote march result roll saturday schedul hold ralli super tuesday state minnesota addit report alana wise washington edit alistair bell articl fund part sap independ creat reuter editori staff sap editori involv creation product politicsnew februari'\n",
            "  0.231995980210266]\n",
            " ['trump vow appeal suprem court loss travel ban honolulu new york reuter defiant presid donald trump pledg appeal u suprem court necessari fight revis travel ban part halt two differ feder judg recent day legal path forward challeng though lawsuit work way feder court opposit side countri hawaii maryland thursday feder judg washington state said also weigh temporari restrain order justic depart first step would like file appeal either case lost week action like come within day justic depart spokeswoman sarah isgur flore declin comment administr intent grant temporari restrain order ban challeng lawsuit brought state hawaii u district judg derrick watson found wednesday reason object observ would conclud execut order issu purpos disfavor particular religion trump execut order would temporarili ban refuge well travel six predominantli muslim countri presid said ban need nation secur earli thursday u district judg theodor chuang issu nationwid preliminari injunct case maryland brought refuge resettl agenc repres american civil liberti union nation immigr law center chuang rule group like succeed show travel ban portion execut order intend ban muslim result violat u constitut religi freedom guarante enjoin refuge portion ban avoid sow seed divis nation uphold fundament constitut principl core nation ident plainli serv signific public interest chuang wrote rule court order victori plaintiff earli step litig govern could ultim win underli case watson chuang appoint bench former democrat presid barack obama trump speak hawaii rule ralli nashvil wednesday call revis execut order water version first presid said would take case far need go includ suprem court order get rule ban legal trump administr small legal victori later thursday u district judg jame robart seattl last month block trump first travel ban rule second travel ban differ enough first would simpli appli preliminari injunct issu first ban second one said weigh request temporari restrain order new travel ban like next stop administr decid contest two rule lost week would th th u circuit court appeal may frosti venu trump argument major judg appoint democrat presid three judg th circuit upheld robart order last month first travel ban rather appeal administr withdrew ban promis retool way would address legal issu suprem court current split four conserv four liber justic ninth justic sinc death antonin scalia year ago trump nomine fill vacant suprem court seat neil gorsuch year old conserv like ask travel ban next week goe senat judiciari committe confirm hear republican hope senat vote confirm gorsuch court mid april would like late weigh emerg appeal travel ban trump sign new ban march bid overcom legal problem januari execut order caus chao airport spark mass protest robart stop enforc februari watson order temporari broader argument case heard set expedit hear schedul determin rule extend politicsnew march'\n",
            "  0.09697993447993451]\n",
            " ['trump talk pardon amid probe russia role u elect norfolk va reuter u presid donald trump declar saturday complet power pardon administr confront ongo investig possibl tie campaign russia seri earli morn twitter messag trump air renew frustrat attorney gener special counsel lead russia probe republican congress struggl advanc legisl agenda trump comment pardon tuck attack media rais possibl consid option investig turn way hope trump specifi anyon might consid pardon tweet appear written respons report washington post week trump legal team examin presidenti power pardon trump aid famili member possibl even reuter confirm newspap account agre u presid complet power pardon think crime far leak us fake news trump wrote washington post cite current former u offici report friday russia ambassador unit state overheard u spi agenc tell boss discuss campaign relat matter trump advis jeff session last year session u senat session lead justic depart trump attorney gener illeg leak must stop trump tweet senat confirm hear cabinet posit session initi fail disclos contact russian ambassador sergei kislyak later said campaign march session recus russia probe interview new york time week trump lash session say would chosen attorney gener known session would recus trump defeat democrat hillari clinton last year presidenti elect continu use foil question session special counsel robert mueller investig former fbi director jame comey clinton email practic secretari state mani peopl ask g special counsel look mani hillari clinton comey crime email delet tweet scholar rais question scope presid legal author issu pardon trump move pardon sometim futur u suprem court might decid constitution specul trump accus wrongdo feder investig probe alleg russian meddl u presidenti elect mueller look relationship contact trump campaign offici russian elect congression committe also explor russia influenc u elect trump travel saturday norfolk virginia spoke commiss ceremoni aircraft carrier uss gerald r ford name republican presid held white hous remark trump made mention russia controversi focus speech need robust u militari spend trip trump retreat golf cours near washington lunch chief staff reinc priebu polici advis stephen miller treasuri secretari steven mnuchin wife white hous offici said priebu presenc entourag came day trump name new commun director anthoni scaramucci reportedli priebu object weekend trip come ahead busi week russia relat activ senat judiciari committe said friday trump eldest son donald trump jr trump former campaign manag paul manafort agre negoti whether interview panel russia investig trump jr manafort jare kushner presid son law one senior advis met russian lawyer natalia veselnitskaya june meet held trump tower new york lawyer offer damag inform clinton white hous also work trump campaign promis u healthcar system saturday tweet trump word republican senat abl agre way forward repeal replac former presid barack obama healthcar law afford care act becom known obamacar trump promis away presid republican senat must step plate year vote repeal replac next tax reform infrastructur win tweet politicsnew juli'\n",
            "  0.1729564553093965]\n",
            " ...\n",
            " ['new york daili news cover savag white hous spicer hitler gaff imag new york daili news known subtleti come cover snarki newspap pull punch came use cover go white hous press secretari sean spicer call concentr camp holocaust center invok nazi butcher adolf hitler talk syrian dictat bashar al assad wednesday morn cover read nazi murder million jew gass day auschwtiz alon forgotten white hous imag cover via new york daili news twitter cours new york daili news first go spicer remark ann frank center call donald trump fire spicer hous minor leader nanci pelosi part disturb pattern anti semit team trump campaign regularli retweet white supremacist infam tweet pictur hillari clinton pile money star david said corrupt candid ever tweet caus uproar hous speaker paul ryan forc speak elect trump white hous deliber left mention jewish peopl holocaust remembr day statement cours one forget avow white supremacist work west wing end administr want call bigot need stop act like get rid racist homophob xenophob assort overtli bigot peopl hold breath one though four year kind stuff silver line may end gop longer say traffic bigotri sinc right white hous see parti charg featur imag via alex wong getti imag news april'\n",
            "  0.10596221959858322]\n",
            " ['state get refuge america may surpris one sure way turn solidli red state blue fiscal year texa resettl refuge howev tell whole stori accord texa dept state health servic excel sourc inform refuge texa actual number migrant legal treat refuge last year realli previou year websit also tell counti got refuge includ refuge asyle parole special immigr visa holder afghan iraqi victim traffick hail countri therefor texa taxpay hook mani expens translat grati bill clinton execut order sort reason access health care school system problem crimin justic system went sever differ sourc find refuge resettl texa sinc number includ secondari migrant state dalla counti got secondari migrant last year arriv texa cours includ children produc three decad includ thousand unaccompani alien children may distribut around nation last year border invas obama would like noth declar refuge well refuge get form welfar upon arriv top resettl citi texa resettl limit site dozen dozen smaller citi town receiv refuge abileneamarilloaustincorpu christidallasel pasofort worthhoustonsan antoniofor new reader might want look archiv amarillo develop pocket resist mayor ask feder govern slow flow sinc school system suffer influx non english speak children mani illiter languag meatpack industri respons much resettl amarillo hunger cheap labor top nation texa receiv refuge order iraq cuba burma afghanistan tie th place somalia bhutan nepal texa move number one spot nation year year state rank texa includ california new york florida accord cool graph right texa gain dubiou distinct wonder number dip year learn iraqi terrorist disguis refuge arrest kentucki turn pair lie believ lie refuge applic found plan help al qaeda iraq discov one left fingerprint i shard wareh us militari shard came i kill pennsylvania nation guard troop prison life arrest threw refuge admiss program us state depart chao screen thousand thousand iraqi head america iraqi make largest ethnic group admit america rate year major muslim shiit sunni import centuri old squabbl town probabl accid barack obama gave teacher year award shanna peopl high school english teacher amarillo texa work refuge order question year old legal immigr program must first get fact read fact sheet open read link post go texa depart state health servic websit learn refuge come texa miss stat health condit refuge admit tb hepb hiv parasit state refuge coordin name caitriona lyon irish btw call ask direct texa refuge plan descript plan legal requir everi state one must keep current ask direct read rememb texa governor say happen refuge resettl via refuge resettl watch govern news jun'\n",
            "  0.09300205891669308]\n",
            " ['gabbi gifford shame gop rep use shoot excus hide town hall republican across countri avoid town hall meet angri constitu wait rep louie gohmert r tx win type award despic excus earlier week gohmert claim schedul town hall meet discuss import issu peopl repres angri protest around afraid shoot like one involv congresswoman gabbi gifford worri coward want keep constitu safe unfortun time group violent strain leftist ideolog even paid prey public town hall wreak havoc threaten public safeti threat noth new gotten share feloni judg howev hous sergeant arm advis us former congresswoman gabbi gifford shot public appear civilian attende congression public event stand chanc harm kill happen scath statement gifford slam gohmert cowardli comment basic told grow pair point offic open shoot gifford ad repres took place difficult time also continu hold town hall rather hide peopl statement end shame gohmert tell point blank courag shot saturday morn monday morn offic open public ron barber side saturday shot multipl time elect congress stead held town hall peopl deserv repres past year campaign gun safeti held public event politician abandon civic oblig say courag face constitu hold town hall gifford follow statement tweet share messag politician abandon civic oblig say courag face constitu hold town hall gabriel gifford gabbygifford februari also worth note republican will pass legisl might help control massiv gun problem clutch unit state prefer continu play puppet nra hide peopl suppos repres scare might get shot unbeliev featur imag via spencer platt getti imag news februari'\n",
            "  0.015289256198347107]]\n"
          ]
        }
      ],
      "source": [
        "print(X)"
      ]
    },
    {
      "cell_type": "code",
      "execution_count": 40,
      "metadata": {
        "id": "xpmVv0yre50k"
      },
      "outputs": [],
      "source": [
        "import numpy as np"
      ]
    },
    {
      "cell_type": "code",
      "execution_count": 41,
      "metadata": {
        "id": "cvesJ_f4eWH7"
      },
      "outputs": [],
      "source": [
        "X_with_sentiment = np.hstack((X_text.toarray(), X[:, 1].reshape(-1, 1)))"
      ]
    },
    {
      "cell_type": "markdown",
      "metadata": {
        "id": "0pZMDCqQ3efw"
      },
      "source": [
        "# Split(Train-Test)"
      ]
    },
    {
      "cell_type": "code",
      "execution_count": 42,
      "metadata": {
        "id": "Q2x2LnxM1w3Q"
      },
      "outputs": [],
      "source": [
        "X_train,X_test,Y_train,Y_test=train_test_split(X_with_sentiment,Y,test_size=0.2, random_state=2)"
      ]
    },
    {
      "cell_type": "markdown",
      "source": [
        "# Logistic Regression"
      ],
      "metadata": {
        "id": "ZA0mnWiblag_"
      }
    },
    {
      "cell_type": "code",
      "source": [
        "model_lgr=LogisticRegression()"
      ],
      "metadata": {
        "id": "Q9Y7FyO4lSEc"
      },
      "execution_count": 43,
      "outputs": []
    },
    {
      "cell_type": "code",
      "source": [
        "model_lgr.fit(X_train,Y_train)\n",
        "predict_LGR=model_lgr.predict(X_train)\n",
        "accuracy_train_LGR=accuracy_score(predict_LGR,Y_train)"
      ],
      "metadata": {
        "id": "NwWjs4yjlSBF"
      },
      "execution_count": 44,
      "outputs": []
    },
    {
      "cell_type": "code",
      "source": [
        "print(\"Accuracy of Logistic Regression:\",accuracy_train_LGR)"
      ],
      "metadata": {
        "colab": {
          "base_uri": "https://localhost:8080/"
        },
        "id": "IqeaCUVblR-e",
        "outputId": "28451953-442e-42cd-c95b-4fc634158d48"
      },
      "execution_count": 45,
      "outputs": [
        {
          "output_type": "stream",
          "name": "stdout",
          "text": [
            "Accuracy of Logistic Regression: 0.995\n"
          ]
        }
      ]
    },
    {
      "cell_type": "code",
      "source": [
        "pred_lgr = model_lgr.predict(X_test)"
      ],
      "metadata": {
        "id": "ScP30loruxr8"
      },
      "execution_count": 46,
      "outputs": []
    },
    {
      "cell_type": "code",
      "source": [
        "print(classification_report(Y_test,pred_lgr))"
      ],
      "metadata": {
        "id": "QqkOkMXWuxof",
        "colab": {
          "base_uri": "https://localhost:8080/"
        },
        "outputId": "01250bfd-fa61-49b6-d93b-20fda3b9f8aa"
      },
      "execution_count": 47,
      "outputs": [
        {
          "output_type": "stream",
          "name": "stdout",
          "text": [
            "              precision    recall  f1-score   support\n",
            "\n",
            "           0       0.96      0.94      0.95        98\n",
            "           1       0.94      0.96      0.95       102\n",
            "\n",
            "    accuracy                           0.95       200\n",
            "   macro avg       0.95      0.95      0.95       200\n",
            "weighted avg       0.95      0.95      0.95       200\n",
            "\n"
          ]
        }
      ]
    },
    {
      "cell_type": "code",
      "source": [],
      "metadata": {
        "id": "3WTwnV4Euxl3"
      },
      "execution_count": 47,
      "outputs": []
    },
    {
      "cell_type": "markdown",
      "source": [
        "#Decision Tree"
      ],
      "metadata": {
        "id": "FtKIWKjVdoo2"
      }
    },
    {
      "cell_type": "code",
      "source": [
        "from sklearn.tree import DecisionTreeClassifier"
      ],
      "metadata": {
        "id": "GERgd5N_dnlM"
      },
      "execution_count": 48,
      "outputs": []
    },
    {
      "cell_type": "code",
      "source": [
        "dt=DecisionTreeClassifier()\n",
        "dt.fit(X_train, Y_train)"
      ],
      "metadata": {
        "colab": {
          "base_uri": "https://localhost:8080/",
          "height": 74
        },
        "id": "3WXtxsdAdnix",
        "outputId": "dcee65e7-d22c-4226-d149-1c8f48911a7b"
      },
      "execution_count": 49,
      "outputs": [
        {
          "output_type": "execute_result",
          "data": {
            "text/plain": [
              "DecisionTreeClassifier()"
            ],
            "text/html": [
              "<style>#sk-container-id-1 {color: black;background-color: white;}#sk-container-id-1 pre{padding: 0;}#sk-container-id-1 div.sk-toggleable {background-color: white;}#sk-container-id-1 label.sk-toggleable__label {cursor: pointer;display: block;width: 100%;margin-bottom: 0;padding: 0.3em;box-sizing: border-box;text-align: center;}#sk-container-id-1 label.sk-toggleable__label-arrow:before {content: \"▸\";float: left;margin-right: 0.25em;color: #696969;}#sk-container-id-1 label.sk-toggleable__label-arrow:hover:before {color: black;}#sk-container-id-1 div.sk-estimator:hover label.sk-toggleable__label-arrow:before {color: black;}#sk-container-id-1 div.sk-toggleable__content {max-height: 0;max-width: 0;overflow: hidden;text-align: left;background-color: #f0f8ff;}#sk-container-id-1 div.sk-toggleable__content pre {margin: 0.2em;color: black;border-radius: 0.25em;background-color: #f0f8ff;}#sk-container-id-1 input.sk-toggleable__control:checked~div.sk-toggleable__content {max-height: 200px;max-width: 100%;overflow: auto;}#sk-container-id-1 input.sk-toggleable__control:checked~label.sk-toggleable__label-arrow:before {content: \"▾\";}#sk-container-id-1 div.sk-estimator input.sk-toggleable__control:checked~label.sk-toggleable__label {background-color: #d4ebff;}#sk-container-id-1 div.sk-label input.sk-toggleable__control:checked~label.sk-toggleable__label {background-color: #d4ebff;}#sk-container-id-1 input.sk-hidden--visually {border: 0;clip: rect(1px 1px 1px 1px);clip: rect(1px, 1px, 1px, 1px);height: 1px;margin: -1px;overflow: hidden;padding: 0;position: absolute;width: 1px;}#sk-container-id-1 div.sk-estimator {font-family: monospace;background-color: #f0f8ff;border: 1px dotted black;border-radius: 0.25em;box-sizing: border-box;margin-bottom: 0.5em;}#sk-container-id-1 div.sk-estimator:hover {background-color: #d4ebff;}#sk-container-id-1 div.sk-parallel-item::after {content: \"\";width: 100%;border-bottom: 1px solid gray;flex-grow: 1;}#sk-container-id-1 div.sk-label:hover label.sk-toggleable__label {background-color: #d4ebff;}#sk-container-id-1 div.sk-serial::before {content: \"\";position: absolute;border-left: 1px solid gray;box-sizing: border-box;top: 0;bottom: 0;left: 50%;z-index: 0;}#sk-container-id-1 div.sk-serial {display: flex;flex-direction: column;align-items: center;background-color: white;padding-right: 0.2em;padding-left: 0.2em;position: relative;}#sk-container-id-1 div.sk-item {position: relative;z-index: 1;}#sk-container-id-1 div.sk-parallel {display: flex;align-items: stretch;justify-content: center;background-color: white;position: relative;}#sk-container-id-1 div.sk-item::before, #sk-container-id-1 div.sk-parallel-item::before {content: \"\";position: absolute;border-left: 1px solid gray;box-sizing: border-box;top: 0;bottom: 0;left: 50%;z-index: -1;}#sk-container-id-1 div.sk-parallel-item {display: flex;flex-direction: column;z-index: 1;position: relative;background-color: white;}#sk-container-id-1 div.sk-parallel-item:first-child::after {align-self: flex-end;width: 50%;}#sk-container-id-1 div.sk-parallel-item:last-child::after {align-self: flex-start;width: 50%;}#sk-container-id-1 div.sk-parallel-item:only-child::after {width: 0;}#sk-container-id-1 div.sk-dashed-wrapped {border: 1px dashed gray;margin: 0 0.4em 0.5em 0.4em;box-sizing: border-box;padding-bottom: 0.4em;background-color: white;}#sk-container-id-1 div.sk-label label {font-family: monospace;font-weight: bold;display: inline-block;line-height: 1.2em;}#sk-container-id-1 div.sk-label-container {text-align: center;}#sk-container-id-1 div.sk-container {/* jupyter's `normalize.less` sets `[hidden] { display: none; }` but bootstrap.min.css set `[hidden] { display: none !important; }` so we also need the `!important` here to be able to override the default hidden behavior on the sphinx rendered scikit-learn.org. See: https://github.com/scikit-learn/scikit-learn/issues/21755 */display: inline-block !important;position: relative;}#sk-container-id-1 div.sk-text-repr-fallback {display: none;}</style><div id=\"sk-container-id-1\" class=\"sk-top-container\"><div class=\"sk-text-repr-fallback\"><pre>DecisionTreeClassifier()</pre><b>In a Jupyter environment, please rerun this cell to show the HTML representation or trust the notebook. <br />On GitHub, the HTML representation is unable to render, please try loading this page with nbviewer.org.</b></div><div class=\"sk-container\" hidden><div class=\"sk-item\"><div class=\"sk-estimator sk-toggleable\"><input class=\"sk-toggleable__control sk-hidden--visually\" id=\"sk-estimator-id-1\" type=\"checkbox\" checked><label for=\"sk-estimator-id-1\" class=\"sk-toggleable__label sk-toggleable__label-arrow\">DecisionTreeClassifier</label><div class=\"sk-toggleable__content\"><pre>DecisionTreeClassifier()</pre></div></div></div></div></div>"
            ]
          },
          "metadata": {},
          "execution_count": 49
        }
      ]
    },
    {
      "cell_type": "code",
      "source": [
        "predict_dt=dt.predict(X_train)\n",
        "accuracy_train_dt=accuracy_score(predict_dt,Y_train)\n",
        "print(\"Accuracy for DecisionTree:\",accuracy_train_dt)"
      ],
      "metadata": {
        "colab": {
          "base_uri": "https://localhost:8080/"
        },
        "id": "LHeOl03shmcX",
        "outputId": "38adfb67-07b8-43e8-f141-c9c27699d7d7"
      },
      "execution_count": 50,
      "outputs": [
        {
          "output_type": "stream",
          "name": "stdout",
          "text": [
            "Accuracy for DecisionTree: 1.0\n"
          ]
        }
      ]
    },
    {
      "cell_type": "code",
      "source": [
        "pred_dt = dt.predict(X_test)"
      ],
      "metadata": {
        "id": "maUkOgXyvHE-"
      },
      "execution_count": 51,
      "outputs": []
    },
    {
      "cell_type": "code",
      "source": [
        "print(classification_report(Y_test,pred_dt))"
      ],
      "metadata": {
        "id": "e9bTJ1k6vHBn",
        "colab": {
          "base_uri": "https://localhost:8080/"
        },
        "outputId": "dd9c3cd1-df9d-485c-a9af-31d8b0ce10d1"
      },
      "execution_count": 52,
      "outputs": [
        {
          "output_type": "stream",
          "name": "stdout",
          "text": [
            "              precision    recall  f1-score   support\n",
            "\n",
            "           0       0.99      0.97      0.98        98\n",
            "           1       0.97      0.99      0.98       102\n",
            "\n",
            "    accuracy                           0.98       200\n",
            "   macro avg       0.98      0.98      0.98       200\n",
            "weighted avg       0.98      0.98      0.98       200\n",
            "\n"
          ]
        }
      ]
    },
    {
      "cell_type": "markdown",
      "source": [
        "# Random Forest"
      ],
      "metadata": {
        "id": "fYNXEhadkRbd"
      }
    },
    {
      "cell_type": "code",
      "source": [
        "from sklearn.ensemble import RandomForestClassifier"
      ],
      "metadata": {
        "id": "ULsnSsD_dnVr"
      },
      "execution_count": 53,
      "outputs": []
    },
    {
      "cell_type": "code",
      "source": [
        "rf=RandomForestClassifier()"
      ],
      "metadata": {
        "id": "nFPQWVW1dnTN"
      },
      "execution_count": 54,
      "outputs": []
    },
    {
      "cell_type": "code",
      "source": [
        "rf.fit(X_train,Y_train)\n",
        "predict_rf=rf.predict(X_train)\n",
        "accuracy_train_rf=accuracy_score(predict_rf,Y_train)"
      ],
      "metadata": {
        "id": "avKphAEWdnQi"
      },
      "execution_count": 55,
      "outputs": []
    },
    {
      "cell_type": "code",
      "source": [
        "print(\"Accuracy of Random Forest:\",accuracy_train_rf)"
      ],
      "metadata": {
        "colab": {
          "base_uri": "https://localhost:8080/"
        },
        "id": "eQJsHxMqlBDy",
        "outputId": "84bb8dcc-ea35-4683-b3af-4f8a3abc2f16"
      },
      "execution_count": 56,
      "outputs": [
        {
          "output_type": "stream",
          "name": "stdout",
          "text": [
            "Accuracy of Random Forest: 1.0\n"
          ]
        }
      ]
    },
    {
      "cell_type": "code",
      "source": [
        "pred_rf = rf.predict(X_test)"
      ],
      "metadata": {
        "id": "jOUj-qt0vSRU"
      },
      "execution_count": 57,
      "outputs": []
    },
    {
      "cell_type": "code",
      "source": [
        "print(classification_report(Y_test,pred_rf))"
      ],
      "metadata": {
        "id": "Y-s1G2kyvSNs",
        "colab": {
          "base_uri": "https://localhost:8080/"
        },
        "outputId": "3ab11795-a0f5-4102-e04e-fad8f9f5c527"
      },
      "execution_count": 58,
      "outputs": [
        {
          "output_type": "stream",
          "name": "stdout",
          "text": [
            "              precision    recall  f1-score   support\n",
            "\n",
            "           0       0.99      0.98      0.98        98\n",
            "           1       0.98      0.99      0.99       102\n",
            "\n",
            "    accuracy                           0.98       200\n",
            "   macro avg       0.99      0.98      0.98       200\n",
            "weighted avg       0.99      0.98      0.98       200\n",
            "\n"
          ]
        }
      ]
    },
    {
      "cell_type": "markdown",
      "source": [
        "# Gradient Boosting"
      ],
      "metadata": {
        "id": "TlwgZx9qlgAQ"
      }
    },
    {
      "cell_type": "code",
      "source": [
        "from sklearn.ensemble import GradientBoostingClassifier"
      ],
      "metadata": {
        "id": "mMUHCtqrleiU"
      },
      "execution_count": 59,
      "outputs": []
    },
    {
      "cell_type": "code",
      "source": [
        "gdb=GradientBoostingClassifier()"
      ],
      "metadata": {
        "id": "ShtZuINElegC"
      },
      "execution_count": 60,
      "outputs": []
    },
    {
      "cell_type": "code",
      "source": [
        "gdb.fit(X_train,Y_train)\n",
        "predict_gdb=gdb.predict(X_train)\n",
        "accuracy_train_gdb=accuracy_score(predict_gdb,Y_train)"
      ],
      "metadata": {
        "id": "9TaNehGAledk"
      },
      "execution_count": 61,
      "outputs": []
    },
    {
      "cell_type": "code",
      "source": [
        "print(\"Accuracy of Gradient Boosting:\",accuracy_train_gdb)"
      ],
      "metadata": {
        "colab": {
          "base_uri": "https://localhost:8080/"
        },
        "id": "9GO9QspSmM4k",
        "outputId": "17ab9e9d-fbbc-44b2-da8f-e627b1aa873c"
      },
      "execution_count": 62,
      "outputs": [
        {
          "output_type": "stream",
          "name": "stdout",
          "text": [
            "Accuracy of Gradient Boosting: 1.0\n"
          ]
        }
      ]
    },
    {
      "cell_type": "code",
      "source": [
        "pred_gdb = gdb.predict(X_test)"
      ],
      "metadata": {
        "id": "_RhTKK6qveOo"
      },
      "execution_count": 63,
      "outputs": []
    },
    {
      "cell_type": "code",
      "source": [
        "print(classification_report(Y_test,pred_gdb))"
      ],
      "metadata": {
        "id": "80pmXPl_veLL",
        "colab": {
          "base_uri": "https://localhost:8080/"
        },
        "outputId": "92fe585e-d0e9-4b9b-b03b-ff51b7789eee"
      },
      "execution_count": 64,
      "outputs": [
        {
          "output_type": "stream",
          "name": "stdout",
          "text": [
            "              precision    recall  f1-score   support\n",
            "\n",
            "           0       0.99      1.00      0.99        98\n",
            "           1       1.00      0.99      1.00       102\n",
            "\n",
            "    accuracy                           0.99       200\n",
            "   macro avg       0.99      1.00      0.99       200\n",
            "weighted avg       1.00      0.99      1.00       200\n",
            "\n"
          ]
        }
      ]
    },
    {
      "cell_type": "markdown",
      "source": [
        "# Naive Bias"
      ],
      "metadata": {
        "id": "_Mi2Zptd1fSq"
      }
    },
    {
      "cell_type": "code",
      "source": [
        "gnb = GaussianNB()"
      ],
      "metadata": {
        "id": "QbCYzegX1enp"
      },
      "execution_count": 65,
      "outputs": []
    },
    {
      "cell_type": "code",
      "source": [
        "gnb.fit(X_train, Y_train)\n",
        "predict_gnb=gnb.predict(X_train)\n",
        "accuracy_train_gnb=accuracy_score(predict_gdb,Y_train)"
      ],
      "metadata": {
        "id": "VQhpDRzv1egt"
      },
      "execution_count": 66,
      "outputs": []
    },
    {
      "cell_type": "code",
      "source": [
        "print(\"Accuracy of Naive Bias:\",accuracy_train_gnb)"
      ],
      "metadata": {
        "id": "vdRuOSK41eUt",
        "colab": {
          "base_uri": "https://localhost:8080/"
        },
        "outputId": "ff4eb557-ae40-4dc9-f2d1-fc4e85fe0052"
      },
      "execution_count": 67,
      "outputs": [
        {
          "output_type": "stream",
          "name": "stdout",
          "text": [
            "Accuracy of Naive Bias: 1.0\n"
          ]
        }
      ]
    },
    {
      "cell_type": "code",
      "source": [
        "pred_gnb = gnb.predict(X_test)"
      ],
      "metadata": {
        "id": "FqOBUszt2Jr3"
      },
      "execution_count": 68,
      "outputs": []
    },
    {
      "cell_type": "code",
      "source": [
        "print(classification_report(Y_test,pred_gnb))"
      ],
      "metadata": {
        "id": "cgRTdoR-2JiR",
        "colab": {
          "base_uri": "https://localhost:8080/"
        },
        "outputId": "2daba4d9-b74e-4934-df66-23332eed8a58"
      },
      "execution_count": 69,
      "outputs": [
        {
          "output_type": "stream",
          "name": "stdout",
          "text": [
            "              precision    recall  f1-score   support\n",
            "\n",
            "           0       0.79      0.70      0.75        98\n",
            "           1       0.74      0.82      0.78       102\n",
            "\n",
            "    accuracy                           0.77       200\n",
            "   macro avg       0.77      0.76      0.76       200\n",
            "weighted avg       0.77      0.77      0.76       200\n",
            "\n"
          ]
        }
      ]
    },
    {
      "cell_type": "markdown",
      "metadata": {
        "id": "PQ9-hTfv-2wY"
      },
      "source": [
        "#Prediction"
      ]
    },
    {
      "cell_type": "code",
      "execution_count": 70,
      "metadata": {
        "id": "2DeT8blf1wv4",
        "colab": {
          "base_uri": "https://localhost:8080/"
        },
        "outputId": "29fca32a-8e4c-4734-d977-c32c05c1efed"
      },
      "outputs": [
        {
          "output_type": "stream",
          "name": "stdout",
          "text": [
            "The news is true\n"
          ]
        }
      ],
      "source": [
        "prediction=pred_lgr[0]\n",
        "\n",
        "if (prediction==0):\n",
        "  print(\"The news is true\")\n",
        "else:\n",
        "  print(\"The news is fake\")"
      ]
    },
    {
      "cell_type": "code",
      "source": [
        "print(\"Sentiment analysis value for the first news article:\", df.iloc[0]['sentiment'])"
      ],
      "metadata": {
        "colab": {
          "base_uri": "https://localhost:8080/"
        },
        "id": "WMBv_UoedxtB",
        "outputId": "5df74e11-e977-495e-b5da-a9f7e63e29b3"
      },
      "execution_count": 71,
      "outputs": [
        {
          "output_type": "stream",
          "name": "stdout",
          "text": [
            "Sentiment analysis value for the first news article: 0.231995980210266\n"
          ]
        }
      ]
    },
    {
      "cell_type": "code",
      "execution_count": 72,
      "metadata": {
        "id": "6iwmj5cUNBT0",
        "colab": {
          "base_uri": "https://localhost:8080/"
        },
        "outputId": "4fd7f378-da69-48ce-ad3d-c43c402c89f6"
      },
      "outputs": [
        {
          "output_type": "stream",
          "name": "stdout",
          "text": [
            "The news is fake\n"
          ]
        }
      ],
      "source": [
        "prediction=pred_lgr[1]\n",
        "\n",
        "if (prediction==0):\n",
        "  print(\"The news is true\")\n",
        "else:\n",
        "  print(\"The news is fake\")"
      ]
    },
    {
      "cell_type": "code",
      "source": [
        "print(\"Sentiment analysis value for the first news article:\", df.iloc[1]['sentiment'])"
      ],
      "metadata": {
        "id": "j1rGvTqrB8Ms",
        "colab": {
          "base_uri": "https://localhost:8080/"
        },
        "outputId": "6d8da345-bd71-46f0-d80c-a0055bf469e4"
      },
      "execution_count": 73,
      "outputs": [
        {
          "output_type": "stream",
          "name": "stdout",
          "text": [
            "Sentiment analysis value for the first news article: 0.09697993447993451\n"
          ]
        }
      ]
    },
    {
      "cell_type": "code",
      "source": [],
      "metadata": {
        "id": "E3Xtf9RuyNxh"
      },
      "execution_count": 73,
      "outputs": []
    }
  ],
  "metadata": {
    "accelerator": "GPU",
    "colab": {
      "gpuType": "T4",
      "provenance": []
    },
    "kernelspec": {
      "display_name": "Python 3",
      "name": "python3"
    },
    "language_info": {
      "name": "python"
    }
  },
  "nbformat": 4,
  "nbformat_minor": 0
}